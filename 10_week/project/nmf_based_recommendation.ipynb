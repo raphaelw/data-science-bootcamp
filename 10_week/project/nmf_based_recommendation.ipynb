{
 "cells": [
  {
   "cell_type": "markdown",
   "id": "90199a9c",
   "metadata": {},
   "source": [
    "# Collaborative Filtering\n",
    "\n",
    "Movie Recommendation based on Non-negative Matrix Factorization.\n",
    "\n",
    "* **Disciplines:** Unsupervised Learning, recommender systems, collaborative filtering.\n",
    "* **Data:** Movies rated by users (https://grouplens.org/datasets/movielens/)\n",
    "\n",
    "> F. Maxwell Harper and Joseph A. Konstan. 2015. The MovieLens Datasets: History and Context. ACM Transactions on Interactive Intelligent Systems (TiiS) 5, 4: 19:1–19:19. <https://doi.org/10.1145/2827872>"
   ]
  },
  {
   "cell_type": "code",
   "execution_count": 1,
   "id": "4e571457",
   "metadata": {},
   "outputs": [],
   "source": [
    "import numpy as np\n",
    "import pandas as pd\n",
    "import matplotlib.pyplot as plt\n",
    "import matplotlib.cm\n",
    "import seaborn as sns\n",
    "import os.path"
   ]
  },
  {
   "cell_type": "code",
   "execution_count": 73,
   "id": "ef30eab3",
   "metadata": {},
   "outputs": [],
   "source": [
    "from sklearn.impute import SimpleImputer, KNNImputer\n",
    "from sklearn.decomposition import NMF"
   ]
  },
  {
   "cell_type": "code",
   "execution_count": 28,
   "id": "75d745a7",
   "metadata": {},
   "outputs": [
    {
     "name": "stderr",
     "output_type": "stream",
     "text": [
      "/Users/raphael/opt/anaconda3/lib/python3.8/site-packages/fuzzywuzzy/fuzz.py:11: UserWarning: Using slow pure-python SequenceMatcher. Install python-Levenshtein to remove this warning\n",
      "  warnings.warn('Using slow pure-python SequenceMatcher. Install python-Levenshtein to remove this warning')\n"
     ]
    }
   ],
   "source": [
    "from fuzzywuzzy import process"
   ]
  },
  {
   "cell_type": "markdown",
   "id": "fc7f1ac8",
   "metadata": {},
   "source": [
    "## Load, clean and wrangle data"
   ]
  },
  {
   "cell_type": "code",
   "execution_count": 3,
   "id": "b0be6cd5",
   "metadata": {},
   "outputs": [],
   "source": [
    "DATA_SET_ROOT = '../data/ml-latest-small/'\n",
    "WEB_APP_DATA_ROOT = './recommender/data'"
   ]
  },
  {
   "cell_type": "code",
   "execution_count": 4,
   "id": "aff3a336",
   "metadata": {},
   "outputs": [],
   "source": [
    "df_movies = pd.read_csv(os.path.join(DATA_SET_ROOT,'movies.csv'), index_col='movieId')"
   ]
  },
  {
   "cell_type": "code",
   "execution_count": 5,
   "id": "53b28c68",
   "metadata": {},
   "outputs": [],
   "source": [
    "df_ratings = pd.read_csv(os.path.join(DATA_SET_ROOT,'ratings.csv'))"
   ]
  },
  {
   "cell_type": "code",
   "execution_count": 6,
   "id": "336b683f",
   "metadata": {},
   "outputs": [],
   "source": [
    "df_ratings = df_ratings.merge(df_movies['title'], on='movieId')"
   ]
  },
  {
   "cell_type": "code",
   "execution_count": 7,
   "id": "f6725309",
   "metadata": {},
   "outputs": [],
   "source": [
    "# filter for movies that have at minimum N raitings\n",
    "min_rating_count = 10\n",
    "# https://stackoverflow.com/a/29791952\n",
    "df_ratings['raiting_count_per_movie'] = df_ratings.groupby('movieId')['movieId'].transform('count')\n",
    "df_ratings = df_ratings[df_ratings.raiting_count_per_movie > min_rating_count]"
   ]
  },
  {
   "cell_type": "code",
   "execution_count": 8,
   "id": "68b5862e",
   "metadata": {},
   "outputs": [
    {
     "data": {
      "text/html": [
       "<div>\n",
       "<style scoped>\n",
       "    .dataframe tbody tr th:only-of-type {\n",
       "        vertical-align: middle;\n",
       "    }\n",
       "\n",
       "    .dataframe tbody tr th {\n",
       "        vertical-align: top;\n",
       "    }\n",
       "\n",
       "    .dataframe thead th {\n",
       "        text-align: right;\n",
       "    }\n",
       "</style>\n",
       "<table border=\"1\" class=\"dataframe\">\n",
       "  <thead>\n",
       "    <tr style=\"text-align: right;\">\n",
       "      <th></th>\n",
       "      <th>userId</th>\n",
       "      <th>movieId</th>\n",
       "      <th>rating</th>\n",
       "      <th>timestamp</th>\n",
       "      <th>title</th>\n",
       "      <th>raiting_count_per_movie</th>\n",
       "    </tr>\n",
       "  </thead>\n",
       "  <tbody>\n",
       "    <tr>\n",
       "      <th>0</th>\n",
       "      <td>1</td>\n",
       "      <td>1</td>\n",
       "      <td>4.0</td>\n",
       "      <td>964982703</td>\n",
       "      <td>Toy Story (1995)</td>\n",
       "      <td>215</td>\n",
       "    </tr>\n",
       "    <tr>\n",
       "      <th>1</th>\n",
       "      <td>5</td>\n",
       "      <td>1</td>\n",
       "      <td>4.0</td>\n",
       "      <td>847434962</td>\n",
       "      <td>Toy Story (1995)</td>\n",
       "      <td>215</td>\n",
       "    </tr>\n",
       "    <tr>\n",
       "      <th>2</th>\n",
       "      <td>7</td>\n",
       "      <td>1</td>\n",
       "      <td>4.5</td>\n",
       "      <td>1106635946</td>\n",
       "      <td>Toy Story (1995)</td>\n",
       "      <td>215</td>\n",
       "    </tr>\n",
       "    <tr>\n",
       "      <th>3</th>\n",
       "      <td>15</td>\n",
       "      <td>1</td>\n",
       "      <td>2.5</td>\n",
       "      <td>1510577970</td>\n",
       "      <td>Toy Story (1995)</td>\n",
       "      <td>215</td>\n",
       "    </tr>\n",
       "    <tr>\n",
       "      <th>4</th>\n",
       "      <td>17</td>\n",
       "      <td>1</td>\n",
       "      <td>4.5</td>\n",
       "      <td>1305696483</td>\n",
       "      <td>Toy Story (1995)</td>\n",
       "      <td>215</td>\n",
       "    </tr>\n",
       "  </tbody>\n",
       "</table>\n",
       "</div>"
      ],
      "text/plain": [
       "   userId  movieId  rating   timestamp             title  \\\n",
       "0       1        1     4.0   964982703  Toy Story (1995)   \n",
       "1       5        1     4.0   847434962  Toy Story (1995)   \n",
       "2       7        1     4.5  1106635946  Toy Story (1995)   \n",
       "3      15        1     2.5  1510577970  Toy Story (1995)   \n",
       "4      17        1     4.5  1305696483  Toy Story (1995)   \n",
       "\n",
       "   raiting_count_per_movie  \n",
       "0                      215  \n",
       "1                      215  \n",
       "2                      215  \n",
       "3                      215  \n",
       "4                      215  "
      ]
     },
     "execution_count": 8,
     "metadata": {},
     "output_type": "execute_result"
    }
   ],
   "source": [
    "df_ratings.head()"
   ]
  },
  {
   "cell_type": "markdown",
   "id": "cc6cde26",
   "metadata": {},
   "source": [
    "* *https://stackoverflow.com/a/39358924*\n",
    "* *https://stackoverflow.com/q/45312377*"
   ]
  },
  {
   "cell_type": "code",
   "execution_count": 9,
   "id": "f5a4d4eb",
   "metadata": {},
   "outputs": [],
   "source": [
    "M_movie_genres = df_movies.genres.str.get_dummies().drop('(no genres listed)', axis=1)"
   ]
  },
  {
   "cell_type": "code",
   "execution_count": 10,
   "id": "384ac916",
   "metadata": {},
   "outputs": [
    {
     "data": {
      "text/html": [
       "<div>\n",
       "<style scoped>\n",
       "    .dataframe tbody tr th:only-of-type {\n",
       "        vertical-align: middle;\n",
       "    }\n",
       "\n",
       "    .dataframe tbody tr th {\n",
       "        vertical-align: top;\n",
       "    }\n",
       "\n",
       "    .dataframe thead th {\n",
       "        text-align: right;\n",
       "    }\n",
       "</style>\n",
       "<table border=\"1\" class=\"dataframe\">\n",
       "  <thead>\n",
       "    <tr style=\"text-align: right;\">\n",
       "      <th>title</th>\n",
       "      <th>'burbs, The (1989)</th>\n",
       "      <th>(500) Days of Summer (2009)</th>\n",
       "      <th>10 Cloverfield Lane (2016)</th>\n",
       "      <th>10 Things I Hate About You (1999)</th>\n",
       "      <th>10,000 BC (2008)</th>\n",
       "      <th>101 Dalmatians (1996)</th>\n",
       "      <th>101 Dalmatians (One Hundred and One Dalmatians) (1961)</th>\n",
       "      <th>12 Angry Men (1957)</th>\n",
       "      <th>12 Years a Slave (2013)</th>\n",
       "      <th>127 Hours (2010)</th>\n",
       "      <th>...</th>\n",
       "      <th>Zack and Miri Make a Porno (2008)</th>\n",
       "      <th>Zero Dark Thirty (2012)</th>\n",
       "      <th>Zero Effect (1998)</th>\n",
       "      <th>Zodiac (2007)</th>\n",
       "      <th>Zombieland (2009)</th>\n",
       "      <th>Zoolander (2001)</th>\n",
       "      <th>Zootopia (2016)</th>\n",
       "      <th>eXistenZ (1999)</th>\n",
       "      <th>xXx (2002)</th>\n",
       "      <th>¡Three Amigos! (1986)</th>\n",
       "    </tr>\n",
       "    <tr>\n",
       "      <th>userId</th>\n",
       "      <th></th>\n",
       "      <th></th>\n",
       "      <th></th>\n",
       "      <th></th>\n",
       "      <th></th>\n",
       "      <th></th>\n",
       "      <th></th>\n",
       "      <th></th>\n",
       "      <th></th>\n",
       "      <th></th>\n",
       "      <th></th>\n",
       "      <th></th>\n",
       "      <th></th>\n",
       "      <th></th>\n",
       "      <th></th>\n",
       "      <th></th>\n",
       "      <th></th>\n",
       "      <th></th>\n",
       "      <th></th>\n",
       "      <th></th>\n",
       "      <th></th>\n",
       "    </tr>\n",
       "  </thead>\n",
       "  <tbody>\n",
       "    <tr>\n",
       "      <th>1</th>\n",
       "      <td>NaN</td>\n",
       "      <td>NaN</td>\n",
       "      <td>NaN</td>\n",
       "      <td>NaN</td>\n",
       "      <td>NaN</td>\n",
       "      <td>NaN</td>\n",
       "      <td>NaN</td>\n",
       "      <td>NaN</td>\n",
       "      <td>NaN</td>\n",
       "      <td>NaN</td>\n",
       "      <td>...</td>\n",
       "      <td>NaN</td>\n",
       "      <td>NaN</td>\n",
       "      <td>NaN</td>\n",
       "      <td>NaN</td>\n",
       "      <td>NaN</td>\n",
       "      <td>NaN</td>\n",
       "      <td>NaN</td>\n",
       "      <td>NaN</td>\n",
       "      <td>NaN</td>\n",
       "      <td>4.0</td>\n",
       "    </tr>\n",
       "    <tr>\n",
       "      <th>2</th>\n",
       "      <td>NaN</td>\n",
       "      <td>NaN</td>\n",
       "      <td>NaN</td>\n",
       "      <td>NaN</td>\n",
       "      <td>NaN</td>\n",
       "      <td>NaN</td>\n",
       "      <td>NaN</td>\n",
       "      <td>NaN</td>\n",
       "      <td>NaN</td>\n",
       "      <td>NaN</td>\n",
       "      <td>...</td>\n",
       "      <td>NaN</td>\n",
       "      <td>NaN</td>\n",
       "      <td>NaN</td>\n",
       "      <td>NaN</td>\n",
       "      <td>3.0</td>\n",
       "      <td>NaN</td>\n",
       "      <td>NaN</td>\n",
       "      <td>NaN</td>\n",
       "      <td>NaN</td>\n",
       "      <td>NaN</td>\n",
       "    </tr>\n",
       "    <tr>\n",
       "      <th>3</th>\n",
       "      <td>NaN</td>\n",
       "      <td>NaN</td>\n",
       "      <td>NaN</td>\n",
       "      <td>NaN</td>\n",
       "      <td>NaN</td>\n",
       "      <td>NaN</td>\n",
       "      <td>NaN</td>\n",
       "      <td>NaN</td>\n",
       "      <td>NaN</td>\n",
       "      <td>NaN</td>\n",
       "      <td>...</td>\n",
       "      <td>NaN</td>\n",
       "      <td>NaN</td>\n",
       "      <td>NaN</td>\n",
       "      <td>NaN</td>\n",
       "      <td>NaN</td>\n",
       "      <td>NaN</td>\n",
       "      <td>NaN</td>\n",
       "      <td>NaN</td>\n",
       "      <td>NaN</td>\n",
       "      <td>NaN</td>\n",
       "    </tr>\n",
       "    <tr>\n",
       "      <th>4</th>\n",
       "      <td>NaN</td>\n",
       "      <td>NaN</td>\n",
       "      <td>NaN</td>\n",
       "      <td>NaN</td>\n",
       "      <td>NaN</td>\n",
       "      <td>NaN</td>\n",
       "      <td>NaN</td>\n",
       "      <td>5.0</td>\n",
       "      <td>NaN</td>\n",
       "      <td>NaN</td>\n",
       "      <td>...</td>\n",
       "      <td>NaN</td>\n",
       "      <td>NaN</td>\n",
       "      <td>NaN</td>\n",
       "      <td>NaN</td>\n",
       "      <td>NaN</td>\n",
       "      <td>NaN</td>\n",
       "      <td>NaN</td>\n",
       "      <td>NaN</td>\n",
       "      <td>NaN</td>\n",
       "      <td>NaN</td>\n",
       "    </tr>\n",
       "    <tr>\n",
       "      <th>5</th>\n",
       "      <td>NaN</td>\n",
       "      <td>NaN</td>\n",
       "      <td>NaN</td>\n",
       "      <td>NaN</td>\n",
       "      <td>NaN</td>\n",
       "      <td>NaN</td>\n",
       "      <td>NaN</td>\n",
       "      <td>NaN</td>\n",
       "      <td>NaN</td>\n",
       "      <td>NaN</td>\n",
       "      <td>...</td>\n",
       "      <td>NaN</td>\n",
       "      <td>NaN</td>\n",
       "      <td>NaN</td>\n",
       "      <td>NaN</td>\n",
       "      <td>NaN</td>\n",
       "      <td>NaN</td>\n",
       "      <td>NaN</td>\n",
       "      <td>NaN</td>\n",
       "      <td>NaN</td>\n",
       "      <td>NaN</td>\n",
       "    </tr>\n",
       "  </tbody>\n",
       "</table>\n",
       "<p>5 rows × 2121 columns</p>\n",
       "</div>"
      ],
      "text/plain": [
       "title   'burbs, The (1989)  (500) Days of Summer (2009)  \\\n",
       "userId                                                    \n",
       "1                      NaN                          NaN   \n",
       "2                      NaN                          NaN   \n",
       "3                      NaN                          NaN   \n",
       "4                      NaN                          NaN   \n",
       "5                      NaN                          NaN   \n",
       "\n",
       "title   10 Cloverfield Lane (2016)  10 Things I Hate About You (1999)  \\\n",
       "userId                                                                  \n",
       "1                              NaN                                NaN   \n",
       "2                              NaN                                NaN   \n",
       "3                              NaN                                NaN   \n",
       "4                              NaN                                NaN   \n",
       "5                              NaN                                NaN   \n",
       "\n",
       "title   10,000 BC (2008)  101 Dalmatians (1996)  \\\n",
       "userId                                            \n",
       "1                    NaN                    NaN   \n",
       "2                    NaN                    NaN   \n",
       "3                    NaN                    NaN   \n",
       "4                    NaN                    NaN   \n",
       "5                    NaN                    NaN   \n",
       "\n",
       "title   101 Dalmatians (One Hundred and One Dalmatians) (1961)  \\\n",
       "userId                                                           \n",
       "1                                                     NaN        \n",
       "2                                                     NaN        \n",
       "3                                                     NaN        \n",
       "4                                                     NaN        \n",
       "5                                                     NaN        \n",
       "\n",
       "title   12 Angry Men (1957)  12 Years a Slave (2013)  127 Hours (2010)  ...  \\\n",
       "userId                                                                  ...   \n",
       "1                       NaN                      NaN               NaN  ...   \n",
       "2                       NaN                      NaN               NaN  ...   \n",
       "3                       NaN                      NaN               NaN  ...   \n",
       "4                       5.0                      NaN               NaN  ...   \n",
       "5                       NaN                      NaN               NaN  ...   \n",
       "\n",
       "title   Zack and Miri Make a Porno (2008)  Zero Dark Thirty (2012)  \\\n",
       "userId                                                               \n",
       "1                                     NaN                      NaN   \n",
       "2                                     NaN                      NaN   \n",
       "3                                     NaN                      NaN   \n",
       "4                                     NaN                      NaN   \n",
       "5                                     NaN                      NaN   \n",
       "\n",
       "title   Zero Effect (1998)  Zodiac (2007)  Zombieland (2009)  \\\n",
       "userId                                                         \n",
       "1                      NaN            NaN                NaN   \n",
       "2                      NaN            NaN                3.0   \n",
       "3                      NaN            NaN                NaN   \n",
       "4                      NaN            NaN                NaN   \n",
       "5                      NaN            NaN                NaN   \n",
       "\n",
       "title   Zoolander (2001)  Zootopia (2016)  eXistenZ (1999)  xXx (2002)  \\\n",
       "userId                                                                   \n",
       "1                    NaN              NaN              NaN         NaN   \n",
       "2                    NaN              NaN              NaN         NaN   \n",
       "3                    NaN              NaN              NaN         NaN   \n",
       "4                    NaN              NaN              NaN         NaN   \n",
       "5                    NaN              NaN              NaN         NaN   \n",
       "\n",
       "title   ¡Three Amigos! (1986)  \n",
       "userId                         \n",
       "1                         4.0  \n",
       "2                         NaN  \n",
       "3                         NaN  \n",
       "4                         NaN  \n",
       "5                         NaN  \n",
       "\n",
       "[5 rows x 2121 columns]"
      ]
     },
     "execution_count": 10,
     "metadata": {},
     "output_type": "execute_result"
    }
   ],
   "source": [
    "M_ratings = df_ratings.pivot(columns='title', values='rating', index='userId').dropna(how='all')\n",
    "M_ratings.head()"
   ]
  },
  {
   "cell_type": "markdown",
   "id": "5b44723f",
   "metadata": {},
   "source": [
    "## Imputation\n",
    "\n",
    "We have to apply imputation on the user rating matrix, because NMF cannot deal with missing values (NaN)."
   ]
  },
  {
   "cell_type": "code",
   "execution_count": 11,
   "id": "7edec6da",
   "metadata": {},
   "outputs": [],
   "source": [
    "imputer = KNNImputer(n_neighbors=3)"
   ]
  },
  {
   "cell_type": "code",
   "execution_count": 12,
   "id": "bfda8406",
   "metadata": {},
   "outputs": [],
   "source": [
    "R_true = imputer.fit_transform(M_ratings)"
   ]
  },
  {
   "cell_type": "code",
   "execution_count": 13,
   "id": "f700cca3",
   "metadata": {},
   "outputs": [],
   "source": [
    "R_true = pd.DataFrame(data=R_true, columns=M_ratings.columns)"
   ]
  },
  {
   "cell_type": "markdown",
   "id": "4a2d88eb",
   "metadata": {},
   "source": [
    "For the recommendation web service we will impute the user vector with the mean movie ratings."
   ]
  },
  {
   "cell_type": "code",
   "execution_count": 14,
   "id": "4a4cc110",
   "metadata": {},
   "outputs": [],
   "source": [
    "generic_user_vector = M_ratings.mean(skipna=True, axis=0)"
   ]
  },
  {
   "cell_type": "markdown",
   "id": "e82930ff",
   "metadata": {},
   "source": [
    "Save preprocessed data for web service."
   ]
  },
  {
   "cell_type": "code",
   "execution_count": 15,
   "id": "5a2cba19",
   "metadata": {},
   "outputs": [],
   "source": [
    "R_true.to_json(os.path.join(WEB_APP_DATA_ROOT,'user_rating_matrix.json'))"
   ]
  },
  {
   "cell_type": "code",
   "execution_count": 16,
   "id": "fb5f87c5",
   "metadata": {},
   "outputs": [],
   "source": [
    "generic_user_vector.to_json(os.path.join(WEB_APP_DATA_ROOT,'generic_user_vector.json'))\n",
    "# read with pd.read_json(..., typ='series')"
   ]
  },
  {
   "cell_type": "markdown",
   "id": "07e719d2",
   "metadata": {},
   "source": [
    "## NMF Recommendation"
   ]
  },
  {
   "cell_type": "code",
   "execution_count": null,
   "id": "5432beaf",
   "metadata": {},
   "outputs": [],
   "source": []
  },
  {
   "cell_type": "code",
   "execution_count": 29,
   "id": "e958b0ea",
   "metadata": {},
   "outputs": [
    {
     "data": {
      "text/plain": [
       "title\n",
       "'burbs, The (1989)                   3.176471\n",
       "(500) Days of Summer (2009)          3.666667\n",
       "10 Cloverfield Lane (2016)           3.678571\n",
       "10 Things I Hate About You (1999)    3.527778\n",
       "10,000 BC (2008)                     2.705882\n",
       "                                       ...   \n",
       "Zoolander (2001)                     3.509259\n",
       "Zootopia (2016)                      3.890625\n",
       "eXistenZ (1999)                      3.863636\n",
       "xXx (2002)                           2.770833\n",
       "¡Three Amigos! (1986)                3.134615\n",
       "Length: 2121, dtype: float64"
      ]
     },
     "execution_count": 29,
     "metadata": {},
     "output_type": "execute_result"
    }
   ],
   "source": [
    "generic_user_vector"
   ]
  },
  {
   "cell_type": "code",
   "execution_count": 31,
   "id": "c2dd465d",
   "metadata": {},
   "outputs": [
    {
     "data": {
      "text/plain": [
       "Index([''burbs, The (1989)', '(500) Days of Summer (2009)',\n",
       "       '10 Cloverfield Lane (2016)', '10 Things I Hate About You (1999)',\n",
       "       '10,000 BC (2008)', '101 Dalmatians (1996)',\n",
       "       '101 Dalmatians (One Hundred and One Dalmatians) (1961)',\n",
       "       '12 Angry Men (1957)', '12 Years a Slave (2013)', '127 Hours (2010)',\n",
       "       ...\n",
       "       'Zack and Miri Make a Porno (2008)', 'Zero Dark Thirty (2012)',\n",
       "       'Zero Effect (1998)', 'Zodiac (2007)', 'Zombieland (2009)',\n",
       "       'Zoolander (2001)', 'Zootopia (2016)', 'eXistenZ (1999)', 'xXx (2002)',\n",
       "       '¡Three Amigos! (1986)'],\n",
       "      dtype='object', name='title', length=2121)"
      ]
     },
     "execution_count": 31,
     "metadata": {},
     "output_type": "execute_result"
    }
   ],
   "source": [
    "generic_user_vector.index"
   ]
  },
  {
   "cell_type": "code",
   "execution_count": 47,
   "id": "5ae0c944",
   "metadata": {},
   "outputs": [
    {
     "data": {
      "text/plain": [
       "('Rogue One: A Star Wars Story (2016)', 90)"
      ]
     },
     "execution_count": 47,
     "metadata": {},
     "output_type": "execute_result"
    }
   ],
   "source": [
    "process.extractOne(\"Star Wars\", generic_user_vector.index)"
   ]
  },
  {
   "cell_type": "code",
   "execution_count": 179,
   "id": "cda85a82",
   "metadata": {},
   "outputs": [],
   "source": [
    "def clamp_rating(rating):\n",
    "    \"\"\" clamp rating to range of [1,5] \"\"\"\n",
    "    return min(max(1,rating),5)\n",
    "\n",
    "class MovieRecommenderNMF:\n",
    "    def __init__(self,\n",
    "                 rating_matrix_path=os.path.join(WEB_APP_DATA_ROOT,'user_rating_matrix.json'),\n",
    "                 generic_user_vec_path=os.path.join(WEB_APP_DATA_ROOT,'generic_user_vector.json')):\n",
    "        self.rating_matrix = pd.read_json(rating_matrix_path)\n",
    "        self.generic_user_vec = pd.read_json(generic_user_vec_path, typ='series')\n",
    "    \n",
    "        self.model = NMF(n_components=50)\n",
    "        \n",
    "    def recommend(self, user_input):\n",
    "        \"\"\"\n",
    "        user_input : dict\n",
    "            Dictionary with raw movie titles as keys and raiting [1,5] as values.\n",
    "            \n",
    "        Returns\n",
    "        -------\n",
    "        List of suggested movies; input matches.\n",
    "        \"\"\"\n",
    "        input_matches = []\n",
    "        \n",
    "        # create user vector\n",
    "        uvec = self.generic_user_vec.copy()\n",
    "        uvec[:] = 3.\n",
    "        for raw_movie_title, rating in user_input.items():\n",
    "            matched_title = process.extractOne(raw_movie_title, uvec.index)[0]\n",
    "            input_matches.append((matched_title, rating))\n",
    "            uvec[matched_title] = clamp_rating(rating)\n",
    "            print(\"Matched\",matched_title)\n",
    "        \n",
    "        # embed in rating matrix\n",
    "        self.rating_matrix.iloc[0] = uvec\n",
    "        \n",
    "        # NMF\n",
    "        self.rating_matrix\n",
    "        W = self.model.fit_transform(self.rating_matrix)\n",
    "        H = self.model.components_\n",
    "        transformed_uvec = pd.Series(data=W.dot(H)[0], index=self.generic_user_vec.index)\n",
    "        \n",
    "        return {'recommendations':transformed_uvec.sort_values(ascending=False)[:20],\n",
    "                'matches':input_matches}"
   ]
  },
  {
   "cell_type": "code",
   "execution_count": 180,
   "id": "8082cc9c",
   "metadata": {},
   "outputs": [],
   "source": [
    "a = MovieRecommenderNMF()"
   ]
  },
  {
   "cell_type": "code",
   "execution_count": 181,
   "id": "dbba2cfd",
   "metadata": {},
   "outputs": [
    {
     "name": "stdout",
     "output_type": "stream",
     "text": [
      "Matched Pretty Woman (1990)\n",
      "Matched Forrest Gump (1994)\n",
      "Matched American Beauty (1999)\n"
     ]
    },
    {
     "name": "stderr",
     "output_type": "stream",
     "text": [
      "/Users/raphael/opt/anaconda3/lib/python3.8/site-packages/sklearn/decomposition/_nmf.py:312: FutureWarning: The 'init' value, when 'init=None' and n_components is less than n_samples and n_features, will be changed from 'nndsvd' to 'nndsvda' in 1.1 (renaming of 0.26).\n",
      "  warnings.warn((\"The 'init' value, when 'init=None' and \"\n",
      "/Users/raphael/opt/anaconda3/lib/python3.8/site-packages/sklearn/decomposition/_nmf.py:1090: ConvergenceWarning: Maximum number of iterations 200 reached. Increase it to improve convergence.\n",
      "  warnings.warn(\"Maximum number of iterations %d reached. Increase it to\"\n"
     ]
    }
   ],
   "source": [
    "#b=a.recommend({'Terminator 2':5, 'Taken':10, 'xxx':5, 'star wars':0})\n",
    "b=a.recommend({'pretty woman':5, 'forest gump':5, 'american beauty':5})['recommendations']"
   ]
  },
  {
   "cell_type": "code",
   "execution_count": 182,
   "id": "ee999210",
   "metadata": {},
   "outputs": [
    {
     "data": {
      "text/plain": [
       "Forrest Gump (1994)                                 3.740818\n",
       "Three Colors: Red (Trois couleurs: Rouge) (1994)    3.722600\n",
       "Half Baked (1998)                                   3.670729\n",
       "Thor: Ragnarok (2017)                               3.661972\n",
       "Tommy Boy (1995)                                    3.658090\n",
       "Tombstone (1993)                                    3.647400\n",
       "Casino (1995)                                       3.642642\n",
       "American Beauty (1999)                              3.617980\n",
       "Black Sheep (1996)                                  3.607447\n",
       "Memento (2000)                                      3.607224\n",
       "Deadpool 2 (2018)                                   3.605569\n",
       "Hard Candy (2005)                                   3.592802\n",
       "Running Man, The (1987)                             3.589896\n",
       "Avengers: Infinity War - Part I (2018)              3.588111\n",
       "Dallas Buyers Club (2013)                           3.585375\n",
       "Mission: Impossible - Rogue Nation (2015)           3.585245\n",
       "Eat Drink Man Woman (Yin shi nan nu) (1994)         3.582479\n",
       "Midnight Cowboy (1969)                              3.582046\n",
       "The Artist (2011)                                   3.574153\n",
       "Shrek 2 (2004)                                      3.560778\n",
       "dtype: float64"
      ]
     },
     "execution_count": 182,
     "metadata": {},
     "output_type": "execute_result"
    }
   ],
   "source": [
    "b[:20]"
   ]
  },
  {
   "cell_type": "code",
   "execution_count": 183,
   "id": "a7f03150",
   "metadata": {},
   "outputs": [
    {
     "name": "stdout",
     "output_type": "stream",
     "text": [
      "Matched Terminator 2: Judgment Day (1991)\n",
      "Matched Taken (2008)\n",
      "Matched xXx (2002)\n",
      "Matched Rogue One: A Star Wars Story (2016)\n"
     ]
    },
    {
     "name": "stderr",
     "output_type": "stream",
     "text": [
      "/Users/raphael/opt/anaconda3/lib/python3.8/site-packages/sklearn/decomposition/_nmf.py:312: FutureWarning: The 'init' value, when 'init=None' and n_components is less than n_samples and n_features, will be changed from 'nndsvd' to 'nndsvda' in 1.1 (renaming of 0.26).\n",
      "  warnings.warn((\"The 'init' value, when 'init=None' and \"\n",
      "/Users/raphael/opt/anaconda3/lib/python3.8/site-packages/sklearn/decomposition/_nmf.py:1090: ConvergenceWarning: Maximum number of iterations 200 reached. Increase it to improve convergence.\n",
      "  warnings.warn(\"Maximum number of iterations %d reached. Increase it to\"\n"
     ]
    },
    {
     "data": {
      "text/plain": [
       "Three Colors: Red (Trois couleurs: Rouge) (1994)    3.766177\n",
       "Terminator 2: Judgment Day (1991)                   3.736742\n",
       "Taken (2008)                                        3.689357\n",
       "Memento (2000)                                      3.675543\n",
       "Half Baked (1998)                                   3.643440\n",
       "Eat Drink Man Woman (Yin shi nan nu) (1994)         3.638907\n",
       "Tommy Boy (1995)                                    3.628280\n",
       "Star Trek: First Contact (1996)                     3.612772\n",
       "Forrest Gump (1994)                                 3.610137\n",
       "Dawn of the Dead (1978)                             3.607609\n",
       "Predator (1987)                                     3.596294\n",
       "Braveheart (1995)                                   3.595212\n",
       "Thor: Ragnarok (2017)                               3.595194\n",
       "Shrek 2 (2004)                                      3.594517\n",
       "Mission: Impossible - Rogue Nation (2015)           3.587058\n",
       "Hard Candy (2005)                                   3.586499\n",
       "Independence Day (a.k.a. ID4) (1996)                3.573354\n",
       "Dallas Buyers Club (2013)                           3.569156\n",
       "Running Man, The (1987)                             3.564625\n",
       "Double Indemnity (1944)                             3.560344\n",
       "dtype: float64"
      ]
     },
     "execution_count": 183,
     "metadata": {},
     "output_type": "execute_result"
    }
   ],
   "source": [
    "b=a.recommend({'Terminator 2':5, 'Taken':10, 'xxx':5, 'star wars':0})['recommendations']\n",
    "b[:20]"
   ]
  },
  {
   "cell_type": "code",
   "execution_count": null,
   "id": "b5dbec8b",
   "metadata": {},
   "outputs": [],
   "source": []
  }
 ],
 "metadata": {
  "kernelspec": {
   "display_name": "Python 3",
   "language": "python",
   "name": "python3"
  },
  "language_info": {
   "codemirror_mode": {
    "name": "ipython",
    "version": 3
   },
   "file_extension": ".py",
   "mimetype": "text/x-python",
   "name": "python",
   "nbconvert_exporter": "python",
   "pygments_lexer": "ipython3",
   "version": "3.8.8"
  }
 },
 "nbformat": 4,
 "nbformat_minor": 5
}
