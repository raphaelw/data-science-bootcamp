{
 "cells": [
  {
   "cell_type": "markdown",
   "id": "c9443d59",
   "metadata": {},
   "source": [
    "# Collaborative Filtering\n",
    "\n",
    "Movie recommendation based on Non-negative Matrix Factorization (NMF).\n",
    "\n",
    "* **Disciplines:** Unsupervised Learning, recommender systems, collaborative filtering.\n",
    "* **Data:** Movies rated by users (https://grouplens.org/datasets/movielens/)\n",
    "\n",
    "> F. Maxwell Harper and Joseph A. Konstan. 2015. The MovieLens Datasets: History and Context. ACM Transactions on Interactive Intelligent Systems (TiiS) 5, 4: 19:1–19:19. <https://doi.org/10.1145/2827872>"
   ]
  },
  {
   "cell_type": "code",
   "execution_count": 1,
   "id": "133301bc",
   "metadata": {},
   "outputs": [],
   "source": [
    "import numpy as np\n",
    "import pandas as pd\n",
    "import matplotlib.pyplot as plt\n",
    "import matplotlib.cm\n",
    "import seaborn as sns\n",
    "import os.path"
   ]
  },
  {
   "cell_type": "code",
   "execution_count": 2,
   "id": "113f5f42",
   "metadata": {},
   "outputs": [],
   "source": [
    "from sklearn.impute import SimpleImputer, KNNImputer\n",
    "from sklearn.decomposition import NMF"
   ]
  },
  {
   "cell_type": "code",
   "execution_count": 3,
   "id": "173eda15",
   "metadata": {},
   "outputs": [],
   "source": [
    "from fuzzywuzzy import process"
   ]
  },
  {
   "cell_type": "code",
   "execution_count": 4,
   "id": "c9c1fd47",
   "metadata": {},
   "outputs": [],
   "source": [
    "import warnings"
   ]
  },
  {
   "cell_type": "markdown",
   "id": "a0f1a32a",
   "metadata": {},
   "source": [
    "## Load, clean and wrangle data"
   ]
  },
  {
   "cell_type": "code",
   "execution_count": 5,
   "id": "6fd6fcc1",
   "metadata": {},
   "outputs": [],
   "source": [
    "DATA_SET_ROOT = '../data/ml-latest-small/'\n",
    "WEB_APP_DATA_ROOT = './recommender/data'"
   ]
  },
  {
   "cell_type": "code",
   "execution_count": 6,
   "id": "1e35af59",
   "metadata": {},
   "outputs": [],
   "source": [
    "df_movies = pd.read_csv(os.path.join(DATA_SET_ROOT,'movies.csv'), index_col='movieId')"
   ]
  },
  {
   "cell_type": "code",
   "execution_count": 7,
   "id": "b8344f04",
   "metadata": {},
   "outputs": [],
   "source": [
    "df_ratings = pd.read_csv(os.path.join(DATA_SET_ROOT,'ratings.csv'))"
   ]
  },
  {
   "cell_type": "code",
   "execution_count": 8,
   "id": "0d7cb96e",
   "metadata": {},
   "outputs": [],
   "source": [
    "df_ratings = df_ratings.merge(df_movies['title'], on='movieId')"
   ]
  },
  {
   "cell_type": "code",
   "execution_count": 9,
   "id": "db0455a6",
   "metadata": {},
   "outputs": [],
   "source": [
    "# filter for movies that have at minimum N raitings\n",
    "min_rating_count = 10\n",
    "# https://stackoverflow.com/a/29791952\n",
    "df_ratings['raiting_count_per_movie'] = df_ratings.groupby('movieId')['movieId'].transform('count')\n",
    "df_ratings = df_ratings[df_ratings.raiting_count_per_movie > min_rating_count]"
   ]
  },
  {
   "cell_type": "code",
   "execution_count": 10,
   "id": "e3f3af64",
   "metadata": {},
   "outputs": [
    {
     "data": {
      "text/html": [
       "<div>\n",
       "<style scoped>\n",
       "    .dataframe tbody tr th:only-of-type {\n",
       "        vertical-align: middle;\n",
       "    }\n",
       "\n",
       "    .dataframe tbody tr th {\n",
       "        vertical-align: top;\n",
       "    }\n",
       "\n",
       "    .dataframe thead th {\n",
       "        text-align: right;\n",
       "    }\n",
       "</style>\n",
       "<table border=\"1\" class=\"dataframe\">\n",
       "  <thead>\n",
       "    <tr style=\"text-align: right;\">\n",
       "      <th></th>\n",
       "      <th>userId</th>\n",
       "      <th>movieId</th>\n",
       "      <th>rating</th>\n",
       "      <th>timestamp</th>\n",
       "      <th>title</th>\n",
       "      <th>raiting_count_per_movie</th>\n",
       "    </tr>\n",
       "  </thead>\n",
       "  <tbody>\n",
       "    <tr>\n",
       "      <th>0</th>\n",
       "      <td>1</td>\n",
       "      <td>1</td>\n",
       "      <td>4.0</td>\n",
       "      <td>964982703</td>\n",
       "      <td>Toy Story (1995)</td>\n",
       "      <td>215</td>\n",
       "    </tr>\n",
       "    <tr>\n",
       "      <th>1</th>\n",
       "      <td>5</td>\n",
       "      <td>1</td>\n",
       "      <td>4.0</td>\n",
       "      <td>847434962</td>\n",
       "      <td>Toy Story (1995)</td>\n",
       "      <td>215</td>\n",
       "    </tr>\n",
       "    <tr>\n",
       "      <th>2</th>\n",
       "      <td>7</td>\n",
       "      <td>1</td>\n",
       "      <td>4.5</td>\n",
       "      <td>1106635946</td>\n",
       "      <td>Toy Story (1995)</td>\n",
       "      <td>215</td>\n",
       "    </tr>\n",
       "    <tr>\n",
       "      <th>3</th>\n",
       "      <td>15</td>\n",
       "      <td>1</td>\n",
       "      <td>2.5</td>\n",
       "      <td>1510577970</td>\n",
       "      <td>Toy Story (1995)</td>\n",
       "      <td>215</td>\n",
       "    </tr>\n",
       "    <tr>\n",
       "      <th>4</th>\n",
       "      <td>17</td>\n",
       "      <td>1</td>\n",
       "      <td>4.5</td>\n",
       "      <td>1305696483</td>\n",
       "      <td>Toy Story (1995)</td>\n",
       "      <td>215</td>\n",
       "    </tr>\n",
       "  </tbody>\n",
       "</table>\n",
       "</div>"
      ],
      "text/plain": [
       "   userId  movieId  rating   timestamp             title  \\\n",
       "0       1        1     4.0   964982703  Toy Story (1995)   \n",
       "1       5        1     4.0   847434962  Toy Story (1995)   \n",
       "2       7        1     4.5  1106635946  Toy Story (1995)   \n",
       "3      15        1     2.5  1510577970  Toy Story (1995)   \n",
       "4      17        1     4.5  1305696483  Toy Story (1995)   \n",
       "\n",
       "   raiting_count_per_movie  \n",
       "0                      215  \n",
       "1                      215  \n",
       "2                      215  \n",
       "3                      215  \n",
       "4                      215  "
      ]
     },
     "execution_count": 10,
     "metadata": {},
     "output_type": "execute_result"
    }
   ],
   "source": [
    "df_ratings.head()"
   ]
  },
  {
   "cell_type": "markdown",
   "id": "3d1ee34c",
   "metadata": {},
   "source": [
    "* *https://stackoverflow.com/a/39358924*\n",
    "* *https://stackoverflow.com/q/45312377*"
   ]
  },
  {
   "cell_type": "code",
   "execution_count": 11,
   "id": "af7cdce4",
   "metadata": {},
   "outputs": [],
   "source": [
    "M_movie_genres = df_movies.genres.str.get_dummies().drop('(no genres listed)', axis=1)"
   ]
  },
  {
   "cell_type": "code",
   "execution_count": 12,
   "id": "b7618fdc",
   "metadata": {},
   "outputs": [
    {
     "data": {
      "text/html": [
       "<div>\n",
       "<style scoped>\n",
       "    .dataframe tbody tr th:only-of-type {\n",
       "        vertical-align: middle;\n",
       "    }\n",
       "\n",
       "    .dataframe tbody tr th {\n",
       "        vertical-align: top;\n",
       "    }\n",
       "\n",
       "    .dataframe thead th {\n",
       "        text-align: right;\n",
       "    }\n",
       "</style>\n",
       "<table border=\"1\" class=\"dataframe\">\n",
       "  <thead>\n",
       "    <tr style=\"text-align: right;\">\n",
       "      <th>title</th>\n",
       "      <th>'burbs, The (1989)</th>\n",
       "      <th>(500) Days of Summer (2009)</th>\n",
       "      <th>10 Cloverfield Lane (2016)</th>\n",
       "      <th>10 Things I Hate About You (1999)</th>\n",
       "      <th>10,000 BC (2008)</th>\n",
       "      <th>101 Dalmatians (1996)</th>\n",
       "      <th>101 Dalmatians (One Hundred and One Dalmatians) (1961)</th>\n",
       "      <th>12 Angry Men (1957)</th>\n",
       "      <th>12 Years a Slave (2013)</th>\n",
       "      <th>127 Hours (2010)</th>\n",
       "      <th>...</th>\n",
       "      <th>Zack and Miri Make a Porno (2008)</th>\n",
       "      <th>Zero Dark Thirty (2012)</th>\n",
       "      <th>Zero Effect (1998)</th>\n",
       "      <th>Zodiac (2007)</th>\n",
       "      <th>Zombieland (2009)</th>\n",
       "      <th>Zoolander (2001)</th>\n",
       "      <th>Zootopia (2016)</th>\n",
       "      <th>eXistenZ (1999)</th>\n",
       "      <th>xXx (2002)</th>\n",
       "      <th>¡Three Amigos! (1986)</th>\n",
       "    </tr>\n",
       "    <tr>\n",
       "      <th>userId</th>\n",
       "      <th></th>\n",
       "      <th></th>\n",
       "      <th></th>\n",
       "      <th></th>\n",
       "      <th></th>\n",
       "      <th></th>\n",
       "      <th></th>\n",
       "      <th></th>\n",
       "      <th></th>\n",
       "      <th></th>\n",
       "      <th></th>\n",
       "      <th></th>\n",
       "      <th></th>\n",
       "      <th></th>\n",
       "      <th></th>\n",
       "      <th></th>\n",
       "      <th></th>\n",
       "      <th></th>\n",
       "      <th></th>\n",
       "      <th></th>\n",
       "      <th></th>\n",
       "    </tr>\n",
       "  </thead>\n",
       "  <tbody>\n",
       "    <tr>\n",
       "      <th>1</th>\n",
       "      <td>NaN</td>\n",
       "      <td>NaN</td>\n",
       "      <td>NaN</td>\n",
       "      <td>NaN</td>\n",
       "      <td>NaN</td>\n",
       "      <td>NaN</td>\n",
       "      <td>NaN</td>\n",
       "      <td>NaN</td>\n",
       "      <td>NaN</td>\n",
       "      <td>NaN</td>\n",
       "      <td>...</td>\n",
       "      <td>NaN</td>\n",
       "      <td>NaN</td>\n",
       "      <td>NaN</td>\n",
       "      <td>NaN</td>\n",
       "      <td>NaN</td>\n",
       "      <td>NaN</td>\n",
       "      <td>NaN</td>\n",
       "      <td>NaN</td>\n",
       "      <td>NaN</td>\n",
       "      <td>4.0</td>\n",
       "    </tr>\n",
       "    <tr>\n",
       "      <th>2</th>\n",
       "      <td>NaN</td>\n",
       "      <td>NaN</td>\n",
       "      <td>NaN</td>\n",
       "      <td>NaN</td>\n",
       "      <td>NaN</td>\n",
       "      <td>NaN</td>\n",
       "      <td>NaN</td>\n",
       "      <td>NaN</td>\n",
       "      <td>NaN</td>\n",
       "      <td>NaN</td>\n",
       "      <td>...</td>\n",
       "      <td>NaN</td>\n",
       "      <td>NaN</td>\n",
       "      <td>NaN</td>\n",
       "      <td>NaN</td>\n",
       "      <td>3.0</td>\n",
       "      <td>NaN</td>\n",
       "      <td>NaN</td>\n",
       "      <td>NaN</td>\n",
       "      <td>NaN</td>\n",
       "      <td>NaN</td>\n",
       "    </tr>\n",
       "    <tr>\n",
       "      <th>3</th>\n",
       "      <td>NaN</td>\n",
       "      <td>NaN</td>\n",
       "      <td>NaN</td>\n",
       "      <td>NaN</td>\n",
       "      <td>NaN</td>\n",
       "      <td>NaN</td>\n",
       "      <td>NaN</td>\n",
       "      <td>NaN</td>\n",
       "      <td>NaN</td>\n",
       "      <td>NaN</td>\n",
       "      <td>...</td>\n",
       "      <td>NaN</td>\n",
       "      <td>NaN</td>\n",
       "      <td>NaN</td>\n",
       "      <td>NaN</td>\n",
       "      <td>NaN</td>\n",
       "      <td>NaN</td>\n",
       "      <td>NaN</td>\n",
       "      <td>NaN</td>\n",
       "      <td>NaN</td>\n",
       "      <td>NaN</td>\n",
       "    </tr>\n",
       "    <tr>\n",
       "      <th>4</th>\n",
       "      <td>NaN</td>\n",
       "      <td>NaN</td>\n",
       "      <td>NaN</td>\n",
       "      <td>NaN</td>\n",
       "      <td>NaN</td>\n",
       "      <td>NaN</td>\n",
       "      <td>NaN</td>\n",
       "      <td>5.0</td>\n",
       "      <td>NaN</td>\n",
       "      <td>NaN</td>\n",
       "      <td>...</td>\n",
       "      <td>NaN</td>\n",
       "      <td>NaN</td>\n",
       "      <td>NaN</td>\n",
       "      <td>NaN</td>\n",
       "      <td>NaN</td>\n",
       "      <td>NaN</td>\n",
       "      <td>NaN</td>\n",
       "      <td>NaN</td>\n",
       "      <td>NaN</td>\n",
       "      <td>NaN</td>\n",
       "    </tr>\n",
       "    <tr>\n",
       "      <th>5</th>\n",
       "      <td>NaN</td>\n",
       "      <td>NaN</td>\n",
       "      <td>NaN</td>\n",
       "      <td>NaN</td>\n",
       "      <td>NaN</td>\n",
       "      <td>NaN</td>\n",
       "      <td>NaN</td>\n",
       "      <td>NaN</td>\n",
       "      <td>NaN</td>\n",
       "      <td>NaN</td>\n",
       "      <td>...</td>\n",
       "      <td>NaN</td>\n",
       "      <td>NaN</td>\n",
       "      <td>NaN</td>\n",
       "      <td>NaN</td>\n",
       "      <td>NaN</td>\n",
       "      <td>NaN</td>\n",
       "      <td>NaN</td>\n",
       "      <td>NaN</td>\n",
       "      <td>NaN</td>\n",
       "      <td>NaN</td>\n",
       "    </tr>\n",
       "  </tbody>\n",
       "</table>\n",
       "<p>5 rows × 2121 columns</p>\n",
       "</div>"
      ],
      "text/plain": [
       "title   'burbs, The (1989)  (500) Days of Summer (2009)  \\\n",
       "userId                                                    \n",
       "1                      NaN                          NaN   \n",
       "2                      NaN                          NaN   \n",
       "3                      NaN                          NaN   \n",
       "4                      NaN                          NaN   \n",
       "5                      NaN                          NaN   \n",
       "\n",
       "title   10 Cloverfield Lane (2016)  10 Things I Hate About You (1999)  \\\n",
       "userId                                                                  \n",
       "1                              NaN                                NaN   \n",
       "2                              NaN                                NaN   \n",
       "3                              NaN                                NaN   \n",
       "4                              NaN                                NaN   \n",
       "5                              NaN                                NaN   \n",
       "\n",
       "title   10,000 BC (2008)  101 Dalmatians (1996)  \\\n",
       "userId                                            \n",
       "1                    NaN                    NaN   \n",
       "2                    NaN                    NaN   \n",
       "3                    NaN                    NaN   \n",
       "4                    NaN                    NaN   \n",
       "5                    NaN                    NaN   \n",
       "\n",
       "title   101 Dalmatians (One Hundred and One Dalmatians) (1961)  \\\n",
       "userId                                                           \n",
       "1                                                     NaN        \n",
       "2                                                     NaN        \n",
       "3                                                     NaN        \n",
       "4                                                     NaN        \n",
       "5                                                     NaN        \n",
       "\n",
       "title   12 Angry Men (1957)  12 Years a Slave (2013)  127 Hours (2010)  ...  \\\n",
       "userId                                                                  ...   \n",
       "1                       NaN                      NaN               NaN  ...   \n",
       "2                       NaN                      NaN               NaN  ...   \n",
       "3                       NaN                      NaN               NaN  ...   \n",
       "4                       5.0                      NaN               NaN  ...   \n",
       "5                       NaN                      NaN               NaN  ...   \n",
       "\n",
       "title   Zack and Miri Make a Porno (2008)  Zero Dark Thirty (2012)  \\\n",
       "userId                                                               \n",
       "1                                     NaN                      NaN   \n",
       "2                                     NaN                      NaN   \n",
       "3                                     NaN                      NaN   \n",
       "4                                     NaN                      NaN   \n",
       "5                                     NaN                      NaN   \n",
       "\n",
       "title   Zero Effect (1998)  Zodiac (2007)  Zombieland (2009)  \\\n",
       "userId                                                         \n",
       "1                      NaN            NaN                NaN   \n",
       "2                      NaN            NaN                3.0   \n",
       "3                      NaN            NaN                NaN   \n",
       "4                      NaN            NaN                NaN   \n",
       "5                      NaN            NaN                NaN   \n",
       "\n",
       "title   Zoolander (2001)  Zootopia (2016)  eXistenZ (1999)  xXx (2002)  \\\n",
       "userId                                                                   \n",
       "1                    NaN              NaN              NaN         NaN   \n",
       "2                    NaN              NaN              NaN         NaN   \n",
       "3                    NaN              NaN              NaN         NaN   \n",
       "4                    NaN              NaN              NaN         NaN   \n",
       "5                    NaN              NaN              NaN         NaN   \n",
       "\n",
       "title   ¡Three Amigos! (1986)  \n",
       "userId                         \n",
       "1                         4.0  \n",
       "2                         NaN  \n",
       "3                         NaN  \n",
       "4                         NaN  \n",
       "5                         NaN  \n",
       "\n",
       "[5 rows x 2121 columns]"
      ]
     },
     "execution_count": 12,
     "metadata": {},
     "output_type": "execute_result"
    }
   ],
   "source": [
    "M_ratings = df_ratings.pivot(columns='title', values='rating', index='userId').dropna(how='all')\n",
    "M_ratings.head()"
   ]
  },
  {
   "cell_type": "markdown",
   "id": "79cdc6d3",
   "metadata": {},
   "source": [
    "## Imputation\n",
    "\n",
    "We have to apply imputation on the user rating matrix, because NMF cannot deal with missing values (NaN)."
   ]
  },
  {
   "cell_type": "code",
   "execution_count": 13,
   "id": "3a5ea251",
   "metadata": {},
   "outputs": [],
   "source": [
    "imputer = KNNImputer(n_neighbors=10)"
   ]
  },
  {
   "cell_type": "code",
   "execution_count": 14,
   "id": "bc97aa3e",
   "metadata": {},
   "outputs": [],
   "source": [
    "R_true = imputer.fit_transform(M_ratings)"
   ]
  },
  {
   "cell_type": "code",
   "execution_count": 15,
   "id": "cc668870",
   "metadata": {},
   "outputs": [],
   "source": [
    "R_true = pd.DataFrame(data=R_true, columns=M_ratings.columns)"
   ]
  },
  {
   "cell_type": "markdown",
   "id": "4b8b857f",
   "metadata": {},
   "source": [
    "For the recommendation web service we will impute the user vector with the mean movie ratings."
   ]
  },
  {
   "cell_type": "code",
   "execution_count": 16,
   "id": "5a0e1a6d",
   "metadata": {},
   "outputs": [],
   "source": [
    "generic_user_vector = M_ratings.mean(skipna=True, axis=0)"
   ]
  },
  {
   "cell_type": "markdown",
   "id": "a9971896",
   "metadata": {},
   "source": [
    "Save preprocessed data for web service."
   ]
  },
  {
   "cell_type": "code",
   "execution_count": 17,
   "id": "f17bf5a1",
   "metadata": {},
   "outputs": [],
   "source": [
    "R_true.to_json(os.path.join(WEB_APP_DATA_ROOT,'user_rating_matrix.json'))"
   ]
  },
  {
   "cell_type": "code",
   "execution_count": 18,
   "id": "3f4df3c8",
   "metadata": {},
   "outputs": [],
   "source": [
    "generic_user_vector.to_json(os.path.join(WEB_APP_DATA_ROOT,'generic_user_vector.json'))\n",
    "# read with pd.read_json(..., typ='series')"
   ]
  },
  {
   "cell_type": "markdown",
   "id": "e448ff13",
   "metadata": {},
   "source": [
    "## NMF Recommendation"
   ]
  },
  {
   "cell_type": "code",
   "execution_count": 19,
   "id": "b59d1392",
   "metadata": {},
   "outputs": [],
   "source": [
    "def clamp_rating(rating):\n",
    "    \"\"\" clamp rating to range of [1,5] \"\"\"\n",
    "    return min(max(1,rating),5)\n",
    "\n",
    "class MovieRecommenderNMF:\n",
    "    def __init__(self,\n",
    "                 rating_matrix_path=os.path.join(WEB_APP_DATA_ROOT,'user_rating_matrix.json'),\n",
    "                 generic_user_vec_path=os.path.join(WEB_APP_DATA_ROOT,'generic_user_vector.json')):\n",
    "        self.rating_matrix = pd.read_json(rating_matrix_path)\n",
    "        self.generic_user_vec = pd.read_json(generic_user_vec_path, typ='series')\n",
    "    \n",
    "        self.model = NMF(n_components=50, init='nndsvd', max_iter=1500)\n",
    "        with warnings.catch_warnings(record=True): # suppress convergence warning\n",
    "            W = self.model.fit_transform(self.rating_matrix)\n",
    "            \n",
    "    def recommend(self, user_input):\n",
    "        \"\"\"\n",
    "        user_input : dict\n",
    "            Dictionary with raw movie titles as keys and raiting [1,5] as values.\n",
    "            \n",
    "        Returns\n",
    "        -------\n",
    "        List of suggested movies; input matches.\n",
    "        \"\"\"\n",
    "        input_matches = []\n",
    "        \n",
    "        # create user vector\n",
    "        uvec = self.generic_user_vec.copy()\n",
    "        #uvec[:] = 3.#self.rating_matrix.mean().mean() # 3.\n",
    "        \n",
    "        for raw_movie_title, rating in user_input.items():\n",
    "            matched_title = process.extractOne(raw_movie_title, uvec.index)[0]\n",
    "            input_matches.append((matched_title, rating))\n",
    "            uvec[matched_title] = clamp_rating(rating)\n",
    "            print(\"Fuzzywuzzy matched:\",matched_title)\n",
    "        \n",
    "        # NMF\n",
    "        with warnings.catch_warnings(record=True): # suppress convergence warning\n",
    "            W = self.model.transform((uvec,))\n",
    "        H = self.model.components_\n",
    "        transformed_uvec = pd.Series(data=W.dot(H)[0], index=self.generic_user_vec.index)\n",
    "        \n",
    "        return {'recommendations':transformed_uvec.sort_values(ascending=False)[:20],\n",
    "                'matches':input_matches}"
   ]
  },
  {
   "cell_type": "code",
   "execution_count": 20,
   "id": "79b14b75",
   "metadata": {},
   "outputs": [],
   "source": [
    "recommender = MovieRecommenderNMF()"
   ]
  },
  {
   "cell_type": "code",
   "execution_count": 21,
   "id": "4ffad0b3",
   "metadata": {},
   "outputs": [
    {
     "name": "stdout",
     "output_type": "stream",
     "text": [
      "Fuzzywuzzy matched: Pretty Woman (1990)\n",
      "Fuzzywuzzy matched: Forrest Gump (1994)\n",
      "Fuzzywuzzy matched: American Beauty (1999)\n"
     ]
    },
    {
     "data": {
      "text/plain": [
       "Secrets & Lies (1996)                                                          4.579753\n",
       "Guess Who's Coming to Dinner (1967)                                            4.571742\n",
       "Paths of Glory (1957)                                                          4.530853\n",
       "Streetcar Named Desire, A (1951)                                               4.453782\n",
       "Celebration, The (Festen) (1998)                                               4.449396\n",
       "Ran (1985)                                                                     4.411455\n",
       "It Happened One Night (1934)                                                   4.384573\n",
       "His Girl Friday (1940)                                                         4.368254\n",
       "Philadelphia Story, The (1940)                                                 4.342205\n",
       "Sunset Blvd. (a.k.a. Sunset Boulevard) (1950)                                  4.320853\n",
       "Godfather: Part II, The (1974)                                                 4.319354\n",
       "Shawshank Redemption, The (1994)                                               4.309871\n",
       "Dark Knight, The (2008)                                                        4.309507\n",
       "Cool Hand Luke (1967)                                                          4.309040\n",
       "Hustler, The (1961)                                                            4.306089\n",
       "Fog of War: Eleven Lessons from the Life of Robert S. McNamara, The (2003)     4.303813\n",
       "Dr. Strangelove or: How I Learned to Stop Worrying and Love the Bomb (1964)    4.297567\n",
       "Harold and Maude (1971)                                                        4.287845\n",
       "Logan (2017)                                                                   4.287611\n",
       "Inside Job (2010)                                                              4.283833\n",
       "dtype: float64"
      ]
     },
     "execution_count": 21,
     "metadata": {},
     "output_type": "execute_result"
    }
   ],
   "source": [
    "r = recommender.recommend({'pretty woman':5, 'forest gump':5, 'american beauty':5})['recommendations']\n",
    "r[:20]"
   ]
  },
  {
   "cell_type": "code",
   "execution_count": 22,
   "id": "86c3b9eb",
   "metadata": {},
   "outputs": [
    {
     "name": "stdout",
     "output_type": "stream",
     "text": [
      "Fuzzywuzzy matched: Terminator 2: Judgment Day (1991)\n",
      "Fuzzywuzzy matched: Taken (2008)\n",
      "Fuzzywuzzy matched: xXx (2002)\n",
      "Fuzzywuzzy matched: Rogue One: A Star Wars Story (2016)\n"
     ]
    },
    {
     "data": {
      "text/plain": [
       "Secrets & Lies (1996)                                                         4.588351\n",
       "Guess Who's Coming to Dinner (1967)                                           4.569521\n",
       "Paths of Glory (1957)                                                         4.530301\n",
       "Celebration, The (Festen) (1998)                                              4.461077\n",
       "Streetcar Named Desire, A (1951)                                              4.451403\n",
       "Ran (1985)                                                                    4.419434\n",
       "It Happened One Night (1934)                                                  4.380766\n",
       "His Girl Friday (1940)                                                        4.369757\n",
       "Philadelphia Story, The (1940)                                                4.333069\n",
       "Shawshank Redemption, The (1994)                                              4.325141\n",
       "Dark Knight, The (2008)                                                       4.324028\n",
       "Sunset Blvd. (a.k.a. Sunset Boulevard) (1950)                                 4.319180\n",
       "Godfather: Part II, The (1974)                                                4.318285\n",
       "Hustler, The (1961)                                                           4.313951\n",
       "Fog of War: Eleven Lessons from the Life of Robert S. McNamara, The (2003)    4.302629\n",
       "Logan (2017)                                                                  4.291544\n",
       "Apocalypse Now (1979)                                                         4.290612\n",
       "Inside Job (2010)                                                             4.288902\n",
       "Hoop Dreams (1994)                                                            4.286455\n",
       "Double Indemnity (1944)                                                       4.285183\n",
       "dtype: float64"
      ]
     },
     "execution_count": 22,
     "metadata": {},
     "output_type": "execute_result"
    }
   ],
   "source": [
    "r = recommender.recommend({'terminator 2':5, 'taken':5, 'xxx':5, 'star wars':5})['recommendations']\n",
    "r[:20]"
   ]
  },
  {
   "cell_type": "markdown",
   "id": "3c6cc7a6",
   "metadata": {},
   "source": [
    "Problem:\n",
    "\n",
    "* Very similar recommendations for very different input set.\n",
    "\n",
    "Ideas:\n",
    "\n",
    "* User input has to be larger. More rated movies.\n",
    "* Better preprocessing of user rating matrix.\n",
    "    * E.g. move mean for each user to 3 and scale variation to range [1,5] \n",
    "    * Transform into binary ratings: Hot (1) or Not (0)"
   ]
  }
 ],
 "metadata": {
  "kernelspec": {
   "display_name": "Python 3",
   "language": "python",
   "name": "python3"
  },
  "language_info": {
   "codemirror_mode": {
    "name": "ipython",
    "version": 3
   },
   "file_extension": ".py",
   "mimetype": "text/x-python",
   "name": "python",
   "nbconvert_exporter": "python",
   "pygments_lexer": "ipython3",
   "version": "3.8.8"
  }
 },
 "nbformat": 4,
 "nbformat_minor": 5
}
