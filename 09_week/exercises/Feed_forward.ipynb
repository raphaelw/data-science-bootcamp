{
 "cells": [
  {
   "cell_type": "code",
   "execution_count": 1,
   "metadata": {},
   "outputs": [],
   "source": [
    "import matplotlib.pyplot as plt\n",
    "import numpy as np\n",
    "import random"
   ]
  },
  {
   "cell_type": "markdown",
   "metadata": {},
   "source": [
    "### Load Data"
   ]
  },
  {
   "cell_type": "code",
   "execution_count": 2,
   "metadata": {},
   "outputs": [],
   "source": [
    "from sklearn.datasets import make_moons\n",
    "X,y = make_moons(n_samples = 50, noise = 0.2, random_state=42)"
   ]
  },
  {
   "cell_type": "code",
   "execution_count": 3,
   "metadata": {},
   "outputs": [
    {
     "data": {
      "text/plain": [
       "((50, 2), (50,))"
      ]
     },
     "execution_count": 3,
     "metadata": {},
     "output_type": "execute_result"
    }
   ],
   "source": [
    "X.shape, y.shape"
   ]
  },
  {
   "cell_type": "code",
   "execution_count": 4,
   "metadata": {},
   "outputs": [
    {
     "data": {
      "text/plain": [
       "<matplotlib.collections.PathCollection at 0x7f82dd2f15e0>"
      ]
     },
     "execution_count": 4,
     "metadata": {},
     "output_type": "execute_result"
    },
    {
     "data": {
      "image/png": "[encoded data removed]",
      "text/plain": [
       "<Figure size 576x432 with 1 Axes>"
      ]
     },
     "metadata": {
      "needs_background": "light"
     },
     "output_type": "display_data"
    }
   ],
   "source": [
    "plt.figure(figsize = (8,6))\n",
    "plt.scatter(X[:,0], X[:,1], c = y)"
   ]
  },
  {
   "cell_type": "markdown",
   "metadata": {},
   "source": [
    "### Add Bias"
   ]
  },
  {
   "cell_type": "code",
   "execution_count": 5,
   "metadata": {},
   "outputs": [],
   "source": [
    "def add_bias(arr):\n",
    "    arr = np.concatenate((arr, np.ones((arr.shape[0],1))), axis=1)\n",
    "    return arr"
   ]
  },
  {
   "cell_type": "code",
   "execution_count": 6,
   "metadata": {},
   "outputs": [],
   "source": [
    "X = add_bias(X)"
   ]
  },
  {
   "cell_type": "code",
   "execution_count": 7,
   "metadata": {},
   "outputs": [
    {
     "data": {
      "text/plain": [
       "(50, 3)"
      ]
     },
     "execution_count": 7,
     "metadata": {},
     "output_type": "execute_result"
    }
   ],
   "source": [
    "# check the shape, we want a shape of (50,3) for our input features\n",
    "X.shape"
   ]
  },
  {
   "cell_type": "markdown",
   "metadata": {},
   "source": [
    "### Define activation function"
   ]
  },
  {
   "cell_type": "code",
   "execution_count": 8,
   "metadata": {},
   "outputs": [],
   "source": [
    "def sigmoid(X):\n",
    "    s = 1 / (1+np.exp(-X))\n",
    "    return s"
   ]
  },
  {
   "cell_type": "markdown",
   "metadata": {},
   "source": [
    "##### Test if you have the correct function with following code"
   ]
  },
  {
   "cell_type": "code",
   "execution_count": 9,
   "metadata": {},
   "outputs": [],
   "source": [
    "a = np.array([-10.0, -1.0, 0.0, 1.0, 10.0])\n",
    "expected = np.array([0.0, 0.27, 0.5, 0.73, 1.0])\n",
    "assert np.all(sigmoid(a).round(2) == expected)"
   ]
  },
  {
   "cell_type": "markdown",
   "metadata": {},
   "source": [
    "### Weights\n",
    "Initialize them randomly\n",
    "- HOW MANY: 3x2 for the input layer w1, w2, bias into the hidden layer and 3x1 from the hidden layer into the output layer\n",
    "- SHAPE: \n",
    "    - First layer (3,2): 3 weights flow into two neurons\n",
    "    - Hidden layer (3,1): 3 weights flow into one neuron"
   ]
  },
  {
   "cell_type": "code",
   "execution_count": 10,
   "metadata": {},
   "outputs": [],
   "source": [
    "weights_h = np.random.random((3,2))\n",
    "weights_o = np.random.random((3,1))"
   ]
  },
  {
   "cell_type": "code",
   "execution_count": 11,
   "metadata": {},
   "outputs": [
    {
     "data": {
      "text/plain": [
       "array([[0.52466434, 0.37562743],\n",
       "       [0.75042348, 0.71114096],\n",
       "       [0.41622692, 0.50312321]])"
      ]
     },
     "execution_count": 11,
     "metadata": {},
     "output_type": "execute_result"
    }
   ],
   "source": [
    "weights_h"
   ]
  },
  {
   "cell_type": "code",
   "execution_count": 12,
   "metadata": {
    "tags": []
   },
   "outputs": [
    {
     "data": {
      "text/plain": [
       "array([[0.1480979 ],\n",
       "       [0.3478903 ],\n",
       "       [0.07329076]])"
      ]
     },
     "execution_count": 12,
     "metadata": {},
     "output_type": "execute_result"
    }
   ],
   "source": [
    "weights_o"
   ]
  },
  {
   "cell_type": "code",
   "execution_count": 13,
   "metadata": {},
   "outputs": [
    {
     "data": {
      "text/plain": [
       "((50, 3), (3, 2))"
      ]
     },
     "execution_count": 13,
     "metadata": {},
     "output_type": "execute_result"
    }
   ],
   "source": [
    "X.shape, weights_h.shape"
   ]
  },
  {
   "cell_type": "code",
   "execution_count": 14,
   "metadata": {},
   "outputs": [
    {
     "data": {
      "text/plain": [
       "array([[ 1.07205264,  1.14389603],\n",
       "       [ 0.53161673,  0.47764862],\n",
       "       [ 0.77985621,  0.79952446],\n",
       "       [ 1.41299718,  1.22981039],\n",
       "       [ 0.50558854,  0.69082648],\n",
       "       [ 1.92021633,  1.69714094],\n",
       "       [ 0.52274006,  0.59516706],\n",
       "       [ 0.40618693,  0.54657378],\n",
       "       [ 0.46813514,  0.50055147],\n",
       "       [ 0.25943373,  0.43285227],\n",
       "       [ 1.22970851,  1.26029674],\n",
       "       [ 1.39439926,  1.31330095],\n",
       "       [ 0.97203924,  0.85135415],\n",
       "       [ 1.40146296,  1.37365453],\n",
       "       [ 0.93085492,  0.90166615],\n",
       "       [ 0.91589694,  0.93627843],\n",
       "       [ 0.8592338 ,  0.72511018],\n",
       "       [ 1.75926714,  1.53039406],\n",
       "       [ 1.74047565,  1.51390468],\n",
       "       [ 0.79788479,  0.93311996],\n",
       "       [ 1.29576845,  1.25438308],\n",
       "       [ 1.16259104,  1.24810457],\n",
       "       [-0.31317598, -0.07765852],\n",
       "       [ 0.44414385,  0.44658315],\n",
       "       [ 0.5740475 ,  0.60570048],\n",
       "       [ 0.73241898,  0.7001493 ],\n",
       "       [ 1.11480696,  0.95077275],\n",
       "       [ 0.61386074,  0.68260993],\n",
       "       [ 0.52637825,  0.48268953],\n",
       "       [ 1.27086485,  1.23558861],\n",
       "       [ 0.92137168,  0.94431816],\n",
       "       [ 1.5226403 ,  1.49629024],\n",
       "       [ 0.66893911,  0.62977718],\n",
       "       [ 0.92285811,  0.87754117],\n",
       "       [ 0.02877337,  0.28431418],\n",
       "       [ 1.18677874,  1.09250299],\n",
       "       [ 1.02124745,  0.88775627],\n",
       "       [ 0.49305024,  0.46821233],\n",
       "       [-0.11362395,  0.10087532],\n",
       "       [ 0.65621947,  0.5836179 ],\n",
       "       [ 1.58121541,  1.60751341],\n",
       "       [ 0.1259398 ,  0.37211665],\n",
       "       [ 0.42885945,  0.61725392],\n",
       "       [ 1.65348494,  1.42514334],\n",
       "       [ 0.24553966,  0.4627697 ],\n",
       "       [ 1.11875525,  1.11543814],\n",
       "       [ 1.30501398,  1.12338091],\n",
       "       [ 0.94629955,  1.04765457],\n",
       "       [ 0.45991272,  0.50519068],\n",
       "       [ 0.97240455,  0.88452709]])"
      ]
     },
     "execution_count": 14,
     "metadata": {},
     "output_type": "execute_result"
    }
   ],
   "source": [
    "np.dot(X,weights_h)"
   ]
  },
  {
   "cell_type": "code",
   "execution_count": 15,
   "metadata": {},
   "outputs": [],
   "source": [
    "def feed_forward(X, weights):\n",
    "\n",
    "    \"\"\"\n",
    "    1. Calculate the dot product of X\n",
    "       and the weights of the first layer.\n",
    "\n",
    "    2. Apply the sigmoid function on the result.\n",
    "\n",
    "    3. Append an extra column of ones to the result (i.e. the bias).\n",
    "\n",
    "    4. Calculate the dot product of the previous step\n",
    "       with the weights of the second (i.e. outer) layer.\n",
    "\n",
    "    5. Apply the sigmoid function on the result.\n",
    "\n",
    "    6. Return all intermediate results (i.e. anything that is outputted\n",
    "       by an activation function).\n",
    "    \"\"\"\n",
    "    \n",
    "    weighted_sum = np.dot(X,weights[0])\n",
    "    output_1 = sigmoid(weighted_sum)\n",
    "    input_out = add_bias(output_1)\n",
    "    weighted_sum = np.dot(input_out,weights[1])\n",
    "    output_2 = sigmoid(weighted_sum)\n",
    "    \n",
    "    return output_1, output_2"
   ]
  },
  {
   "cell_type": "markdown",
   "metadata": {},
   "source": [
    "### Assertion Test"
   ]
  },
  {
   "cell_type": "code",
   "execution_count": 16,
   "metadata": {},
   "outputs": [],
   "source": [
    "out1, out2 = feed_forward(X, [weights_h, weights_o])\n",
    "assert out1.shape == (50, 2)\n",
    "assert out2.shape == (50, 1)\n",
    "\n",
    "Xref = np.array([[1.0, 2.0, 1.0]])\n",
    "whidden = np.array([[1.0, 2.0, 0.0],\n",
    "                 [-1.0, -2.0, 0.0]\n",
    "                    ]).T\n",
    "wout = np.array([[1.0, -1.0, 0.5]]).T\n",
    "\n",
    "out1, out2 = feed_forward(Xref, [whidden, wout])\n",
    "assert np.all(out1.round(2) == np.array([[0.99, 0.01]]))\n",
    "assert np.all(out2.round(2) == np.array([[0.82]]))"
   ]
  },
  {
   "cell_type": "code",
   "execution_count": 17,
   "metadata": {},
   "outputs": [],
   "source": [
    "out_hidden_layer, y_pred = feed_forward(X, [weights_h, weights_o])"
   ]
  },
  {
   "cell_type": "markdown",
   "metadata": {},
   "source": [
    "##### Plot result"
   ]
  },
  {
   "cell_type": "code",
   "execution_count": 18,
   "metadata": {},
   "outputs": [
    {
     "data": {
      "text/plain": [
       "<matplotlib.collections.PathCollection at 0x7f82dd50a730>"
      ]
     },
     "execution_count": 18,
     "metadata": {},
     "output_type": "execute_result"
    },
    {
     "data": {
      "image/png": "[encoded data removed]",
      "text/plain": [
       "<Figure size 432x288 with 1 Axes>"
      ]
     },
     "metadata": {
      "needs_background": "light"
     },
     "output_type": "display_data"
    }
   ],
   "source": [
    "plt.scatter(X[:,0], X[:,1], c = y_pred)"
   ]
  },
  {
   "cell_type": "markdown",
   "metadata": {},
   "source": [
    "#### Accuracy\n",
    "- flatten both ytrue and ypred (so that they're both (50,) arrays)\n",
    "- round the ypred (either up to 1 or down to 0)\n",
    "- then compare them to eachother to get a boolean array (True where the values are the same, False where they are not)\n",
    "- sum the boolean array and divide by the length (i.e. take the mean)"
   ]
  },
  {
   "cell_type": "code",
   "execution_count": 19,
   "metadata": {},
   "outputs": [],
   "source": [
    "def get_accuracy(ypred,ytrue):\n",
    "    acc = sum(ytrue.flatten() == ypred.flatten().round().astype(np.int64))\n",
    "    return acc/len(ytrue)"
   ]
  },
  {
   "cell_type": "code",
   "execution_count": 20,
   "metadata": {},
   "outputs": [
    {
     "data": {
      "text/plain": [
       "0.5"
      ]
     },
     "execution_count": 20,
     "metadata": {},
     "output_type": "execute_result"
    }
   ],
   "source": [
    "get_accuracy(y_pred, y)"
   ]
  },
  {
   "cell_type": "markdown",
   "metadata": {},
   "source": [
    "--> we're predicting whatever because the weights aren't fitted yet!"
   ]
  }
 ],
 "metadata": {
  "kernelspec": {
   "display_name": "deep_learning",
   "language": "python",
   "name": "deep_learning"
  },
  "language_info": {
   "codemirror_mode": {
    "name": "ipython",
    "version": 3
   },
   "file_extension": ".py",
   "mimetype": "text/x-python",
   "name": "python",
   "nbconvert_exporter": "python",
   "pygments_lexer": "ipython3",
   "version": "3.8.8"
  }
 },
 "nbformat": 4,
 "nbformat_minor": 4
}
