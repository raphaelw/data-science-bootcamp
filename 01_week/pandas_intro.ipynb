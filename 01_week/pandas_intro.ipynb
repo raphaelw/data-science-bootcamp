{
 "cells": [
  {
   "cell_type": "markdown",
   "metadata": {},
   "source": [
    "# Selecting Rows and Columns in pandas"
   ]
  },
  {
   "cell_type": "markdown",
   "metadata": {},
   "source": [
    "### 1. Reading Data\n",
    "We first import `pandas` and load a table into a DataFrame."
   ]
  },
  {
   "cell_type": "code",
   "execution_count": null,
   "metadata": {},
   "outputs": [],
   "source": [
    "import pandas as pd\n",
    "\n",
    "df = pd.read_csv('population.csv', index_col=0)"
   ]
  },
  {
   "cell_type": "markdown",
   "metadata": {},
   "source": [
    "### 2. Attributes and Methods\n",
    "\n",
    "`.shape` is an *attribute*. It can be used with any dataset using a dot. It shows the number of rows and columns in a DataFrame as a Python *tuple*:"
   ]
  },
  {
   "cell_type": "code",
   "execution_count": null,
   "metadata": {},
   "outputs": [],
   "source": [
    "df.shape"
   ]
  },
  {
   "cell_type": "markdown",
   "metadata": {},
   "source": [
    "`.head()` is a *method*. It can be called on any DataFrame object by the dot, followed by parentheses.\n",
    "It returns the first N rows of the DataFrame."
   ]
  },
  {
   "cell_type": "code",
   "execution_count": null,
   "metadata": {},
   "outputs": [],
   "source": [
    "df.head(3)"
   ]
  },
  {
   "cell_type": "markdown",
   "metadata": {},
   "source": [
    "### 3. Selecting Rows and Columns\n",
    "Match the Python commands with the descriptions below.\n",
    "\n",
    "* remove rows with missing values\n",
    "* select a single row\n",
    "* inspect column labels\n",
    "* select multiple columns\n",
    "* select rows by position\n",
    "* select rows that match a condition\n",
    "* select multiple rows\n",
    "* select a single column\n",
    "* select values in a given range\n",
    "* select rows and columns by position\n",
    "* inspect row labels\n",
    "* select rows and columns\n",
    "\n",
    "Create new Markdown cells in the notebook to have a heading for each command."
   ]
  },
  {
   "cell_type": "code",
   "execution_count": null,
   "metadata": {},
   "outputs": [],
   "source": [
    "# inspect row labels\n",
    "df.index"
   ]
  },
  {
   "cell_type": "code",
   "execution_count": null,
   "metadata": {},
   "outputs": [],
   "source": [
    "# inspect column labels\n",
    "df.columns"
   ]
  },
  {
   "cell_type": "code",
   "execution_count": null,
   "metadata": {},
   "outputs": [],
   "source": [
    "# select a single column\n",
    "df['2015']"
   ]
  },
  {
   "cell_type": "code",
   "execution_count": null,
   "metadata": {},
   "outputs": [],
   "source": [
    "# select multiple columns\n",
    "df[['1900', '1950', '2000']]"
   ]
  },
  {
   "cell_type": "code",
   "execution_count": null,
   "metadata": {},
   "outputs": [],
   "source": [
    "# select a single row\n",
    "df.loc['Estonia']"
   ]
  },
  {
   "cell_type": "code",
   "execution_count": null,
   "metadata": {},
   "outputs": [],
   "source": [
    "df.loc[['Japan', 'China']]"
   ]
  },
  {
   "cell_type": "code",
   "execution_count": null,
   "metadata": {},
   "outputs": [],
   "source": [
    "df.loc['Croatia', '2000']"
   ]
  },
  {
   "cell_type": "code",
   "execution_count": null,
   "metadata": {},
   "outputs": [],
   "source": [
    "# select rows by position\n",
    "df.iloc[10:15]"
   ]
  },
  {
   "cell_type": "code",
   "execution_count": null,
   "metadata": {},
   "outputs": [],
   "source": [
    "df.iloc[10:15, 75:]"
   ]
  },
  {
   "cell_type": "code",
   "execution_count": 30,
   "metadata": {},
   "outputs": [
    {
     "data": {
      "text/html": [
       "<div>\n",
       "<style scoped>\n",
       "    .dataframe tbody tr th:only-of-type {\n",
       "        vertical-align: middle;\n",
       "    }\n",
       "\n",
       "    .dataframe tbody tr th {\n",
       "        vertical-align: top;\n",
       "    }\n",
       "\n",
       "    .dataframe thead th {\n",
       "        text-align: right;\n",
       "    }\n",
       "</style>\n",
       "<table border=\"1\" class=\"dataframe\">\n",
       "  <thead>\n",
       "    <tr style=\"text-align: right;\">\n",
       "      <th></th>\n",
       "      <th>1800</th>\n",
       "      <th>1810</th>\n",
       "      <th>1820</th>\n",
       "      <th>1830</th>\n",
       "      <th>1840</th>\n",
       "      <th>1850</th>\n",
       "      <th>1860</th>\n",
       "      <th>1870</th>\n",
       "      <th>1880</th>\n",
       "      <th>1890</th>\n",
       "      <th>...</th>\n",
       "      <th>2006</th>\n",
       "      <th>2007</th>\n",
       "      <th>2008</th>\n",
       "      <th>2009</th>\n",
       "      <th>2010</th>\n",
       "      <th>2011</th>\n",
       "      <th>2012</th>\n",
       "      <th>2013</th>\n",
       "      <th>2014</th>\n",
       "      <th>2015</th>\n",
       "    </tr>\n",
       "    <tr>\n",
       "      <th>Total population</th>\n",
       "      <th></th>\n",
       "      <th></th>\n",
       "      <th></th>\n",
       "      <th></th>\n",
       "      <th></th>\n",
       "      <th></th>\n",
       "      <th></th>\n",
       "      <th></th>\n",
       "      <th></th>\n",
       "      <th></th>\n",
       "      <th></th>\n",
       "      <th></th>\n",
       "      <th></th>\n",
       "      <th></th>\n",
       "      <th></th>\n",
       "      <th></th>\n",
       "      <th></th>\n",
       "      <th></th>\n",
       "      <th></th>\n",
       "      <th></th>\n",
       "      <th></th>\n",
       "    </tr>\n",
       "  </thead>\n",
       "  <tbody>\n",
       "    <tr>\n",
       "      <th>China</th>\n",
       "      <td>321675013.0</td>\n",
       "      <td>350542958.0</td>\n",
       "      <td>380055273.0</td>\n",
       "      <td>402373519.0</td>\n",
       "      <td>411213424.0</td>\n",
       "      <td>402711280.0</td>\n",
       "      <td>380047548.0</td>\n",
       "      <td>363661158.0</td>\n",
       "      <td>365544192.0</td>\n",
       "      <td>377135349.0</td>\n",
       "      <td>...</td>\n",
       "      <td>1.312601e+09</td>\n",
       "      <td>1.319625e+09</td>\n",
       "      <td>1.326691e+09</td>\n",
       "      <td>1.333807e+09</td>\n",
       "      <td>1.340969e+09</td>\n",
       "      <td>1.348174e+09</td>\n",
       "      <td>1.355387e+09</td>\n",
       "      <td>1.362514e+09</td>\n",
       "      <td>1.369436e+09</td>\n",
       "      <td>1.376049e+09</td>\n",
       "    </tr>\n",
       "    <tr>\n",
       "      <th>India</th>\n",
       "      <td>168574895.0</td>\n",
       "      <td>171940819.0</td>\n",
       "      <td>176225709.0</td>\n",
       "      <td>182214537.0</td>\n",
       "      <td>189298397.0</td>\n",
       "      <td>196657653.0</td>\n",
       "      <td>204966302.0</td>\n",
       "      <td>213725049.0</td>\n",
       "      <td>223020377.0</td>\n",
       "      <td>232819584.0</td>\n",
       "      <td>...</td>\n",
       "      <td>1.162088e+09</td>\n",
       "      <td>1.179686e+09</td>\n",
       "      <td>1.197070e+09</td>\n",
       "      <td>1.214182e+09</td>\n",
       "      <td>1.230985e+09</td>\n",
       "      <td>1.247446e+09</td>\n",
       "      <td>1.263590e+09</td>\n",
       "      <td>1.279499e+09</td>\n",
       "      <td>1.295292e+09</td>\n",
       "      <td>1.311051e+09</td>\n",
       "    </tr>\n",
       "    <tr>\n",
       "      <th>Indonesia</th>\n",
       "      <td>16108545.0</td>\n",
       "      <td>16537268.0</td>\n",
       "      <td>17236636.0</td>\n",
       "      <td>18460171.0</td>\n",
       "      <td>20052305.0</td>\n",
       "      <td>21979198.0</td>\n",
       "      <td>24209376.0</td>\n",
       "      <td>27062539.0</td>\n",
       "      <td>30212871.0</td>\n",
       "      <td>33747355.0</td>\n",
       "      <td>...</td>\n",
       "      <td>2.292640e+08</td>\n",
       "      <td>2.322968e+08</td>\n",
       "      <td>2.353608e+08</td>\n",
       "      <td>2.384652e+08</td>\n",
       "      <td>2.416131e+08</td>\n",
       "      <td>2.448083e+08</td>\n",
       "      <td>2.480379e+08</td>\n",
       "      <td>2.512683e+08</td>\n",
       "      <td>2.544548e+08</td>\n",
       "      <td>2.575638e+08</td>\n",
       "    </tr>\n",
       "    <tr>\n",
       "      <th>United States</th>\n",
       "      <td>6801854.0</td>\n",
       "      <td>8294928.0</td>\n",
       "      <td>10361646.0</td>\n",
       "      <td>13480460.0</td>\n",
       "      <td>17942443.0</td>\n",
       "      <td>24136293.0</td>\n",
       "      <td>31936643.0</td>\n",
       "      <td>40821569.0</td>\n",
       "      <td>51256498.0</td>\n",
       "      <td>63810074.0</td>\n",
       "      <td>...</td>\n",
       "      <td>2.988605e+08</td>\n",
       "      <td>3.016560e+08</td>\n",
       "      <td>3.044731e+08</td>\n",
       "      <td>3.072320e+08</td>\n",
       "      <td>3.098762e+08</td>\n",
       "      <td>3.123904e+08</td>\n",
       "      <td>3.147995e+08</td>\n",
       "      <td>3.171359e+08</td>\n",
       "      <td>3.194486e+08</td>\n",
       "      <td>3.217736e+08</td>\n",
       "    </tr>\n",
       "    <tr>\n",
       "      <th>USSR</th>\n",
       "      <td>NaN</td>\n",
       "      <td>NaN</td>\n",
       "      <td>NaN</td>\n",
       "      <td>NaN</td>\n",
       "      <td>NaN</td>\n",
       "      <td>NaN</td>\n",
       "      <td>NaN</td>\n",
       "      <td>NaN</td>\n",
       "      <td>NaN</td>\n",
       "      <td>NaN</td>\n",
       "      <td>...</td>\n",
       "      <td>2.872665e+08</td>\n",
       "      <td>2.873308e+08</td>\n",
       "      <td>2.874474e+08</td>\n",
       "      <td>NaN</td>\n",
       "      <td>NaN</td>\n",
       "      <td>NaN</td>\n",
       "      <td>NaN</td>\n",
       "      <td>NaN</td>\n",
       "      <td>NaN</td>\n",
       "      <td>NaN</td>\n",
       "    </tr>\n",
       "  </tbody>\n",
       "</table>\n",
       "<p>5 rows × 81 columns</p>\n",
       "</div>"
      ],
      "text/plain": [
       "                         1800         1810         1820         1830  \\\n",
       "Total population                                                       \n",
       "China             321675013.0  350542958.0  380055273.0  402373519.0   \n",
       "India             168574895.0  171940819.0  176225709.0  182214537.0   \n",
       "Indonesia          16108545.0   16537268.0   17236636.0   18460171.0   \n",
       "United States       6801854.0    8294928.0   10361646.0   13480460.0   \n",
       "USSR                      NaN          NaN          NaN          NaN   \n",
       "\n",
       "                         1840         1850         1860         1870  \\\n",
       "Total population                                                       \n",
       "China             411213424.0  402711280.0  380047548.0  363661158.0   \n",
       "India             189298397.0  196657653.0  204966302.0  213725049.0   \n",
       "Indonesia          20052305.0   21979198.0   24209376.0   27062539.0   \n",
       "United States      17942443.0   24136293.0   31936643.0   40821569.0   \n",
       "USSR                      NaN          NaN          NaN          NaN   \n",
       "\n",
       "                         1880         1890  ...          2006          2007  \\\n",
       "Total population                            ...                               \n",
       "China             365544192.0  377135349.0  ...  1.312601e+09  1.319625e+09   \n",
       "India             223020377.0  232819584.0  ...  1.162088e+09  1.179686e+09   \n",
       "Indonesia          30212871.0   33747355.0  ...  2.292640e+08  2.322968e+08   \n",
       "United States      51256498.0   63810074.0  ...  2.988605e+08  3.016560e+08   \n",
       "USSR                      NaN          NaN  ...  2.872665e+08  2.873308e+08   \n",
       "\n",
       "                          2008          2009          2010          2011  \\\n",
       "Total population                                                           \n",
       "China             1.326691e+09  1.333807e+09  1.340969e+09  1.348174e+09   \n",
       "India             1.197070e+09  1.214182e+09  1.230985e+09  1.247446e+09   \n",
       "Indonesia         2.353608e+08  2.384652e+08  2.416131e+08  2.448083e+08   \n",
       "United States     3.044731e+08  3.072320e+08  3.098762e+08  3.123904e+08   \n",
       "USSR              2.874474e+08           NaN           NaN           NaN   \n",
       "\n",
       "                          2012          2013          2014          2015  \n",
       "Total population                                                          \n",
       "China             1.355387e+09  1.362514e+09  1.369436e+09  1.376049e+09  \n",
       "India             1.263590e+09  1.279499e+09  1.295292e+09  1.311051e+09  \n",
       "Indonesia         2.480379e+08  2.512683e+08  2.544548e+08  2.575638e+08  \n",
       "United States     3.147995e+08  3.171359e+08  3.194486e+08  3.217736e+08  \n",
       "USSR                       NaN           NaN           NaN           NaN  \n",
       "\n",
       "[5 rows x 81 columns]"
      ]
     },
     "execution_count": 30,
     "metadata": {},
     "output_type": "execute_result"
    }
   ],
   "source": [
    "# select rows that match a condition\n",
    "df.loc[df['2000'] > 200_000_000]"
   ]
  },
  {
   "cell_type": "code",
   "execution_count": null,
   "metadata": {},
   "outputs": [],
   "source": [
    "df[df['2000'].between(500_000, 1_000_000)]"
   ]
  },
  {
   "cell_type": "code",
   "execution_count": null,
   "metadata": {},
   "outputs": [],
   "source": [
    "# remove rows with missing values\n",
    "df.dropna()"
   ]
  },
  {
   "cell_type": "markdown",
   "metadata": {},
   "source": [
    "## License\n",
    "(c) 2017 Kristian Rother.\n",
    "Distributed under the conditions of the MIT License."
   ]
  },
  {
   "cell_type": "code",
   "execution_count": null,
   "metadata": {},
   "outputs": [],
   "source": []
  }
 ],
 "metadata": {
  "kernelspec": {
   "display_name": "Python 3",
   "language": "python",
   "name": "python3"
  },
  "language_info": {
   "codemirror_mode": {
    "name": "ipython",
    "version": 3
   },
   "file_extension": ".py",
   "mimetype": "text/x-python",
   "name": "python",
   "nbconvert_exporter": "python",
   "pygments_lexer": "ipython3",
   "version": "3.8.5"
  },
  "varInspector": {
   "cols": {
    "lenName": 16,
    "lenType": 16,
    "lenVar": 40
   },
   "kernels_config": {
    "python": {
     "delete_cmd_postfix": "",
     "delete_cmd_prefix": "del ",
     "library": "var_list.py",
     "varRefreshCmd": "print(var_dic_list())"
    },
    "r": {
     "delete_cmd_postfix": ") ",
     "delete_cmd_prefix": "rm(",
     "library": "var_list.r",
     "varRefreshCmd": "cat(var_dic_list()) "
    }
   },
   "types_to_exclude": [
    "module",
    "function",
    "builtin_function_or_method",
    "instance",
    "_Feature"
   ],
   "window_display": false
  }
 },
 "nbformat": 4,
 "nbformat_minor": 2
}
