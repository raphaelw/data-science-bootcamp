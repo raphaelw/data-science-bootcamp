{
 "cells": [
  {
   "cell_type": "markdown",
   "metadata": {},
   "source": [
    "# Animated Scatter Plot"
   ]
  },
  {
   "cell_type": "markdown",
   "metadata": {},
   "source": [
    "Reproduction of Hans Rosling’s famous animation.\n",
    "https://www.ted.com/talks/hans_rosling_the_best_stats_you_ve_ever_seen\n",
    "\n",
    "Data Source: https://www.gapminder.org/data/"
   ]
  },
  {
   "cell_type": "code",
   "execution_count": null,
   "metadata": {},
   "outputs": [],
   "source": [
    "import pandas as pd"
   ]
  },
  {
   "cell_type": "code",
   "execution_count": null,
   "metadata": {},
   "outputs": [],
   "source": [
    "import seaborn as sns\n",
    "import matplotlib.pyplot as plt"
   ]
  },
  {
   "cell_type": "code",
   "execution_count": null,
   "metadata": {},
   "outputs": [],
   "source": [
    "import imageio"
   ]
  },
  {
   "cell_type": "markdown",
   "metadata": {},
   "source": [
    "## Read data"
   ]
  },
  {
   "cell_type": "code",
   "execution_count": null,
   "metadata": {},
   "outputs": [],
   "source": [
    "fertility_df = pd.read_csv('data/spiced/gapminder_total_fertility.csv', index_col=0)\n",
    "lifeexp_df = pd.read_excel('data/spiced/gapminder_lifeexpectancy.xlsx')\n",
    "population_df = pd.read_excel('data/spiced/gapminder_population.xlsx')\n",
    "continents_df = pd.read_csv('data/spiced/continents.csv', sep=';')"
   ]
  },
  {
   "cell_type": "markdown",
   "metadata": {},
   "source": [
    "The following is overengineered for this specific case.\n",
    "\n",
    "It could have also been done with `df.set_axis(df.columns.astype(int), axis=1)` or `df.columns = df.columns.astype(int)`"
   ]
  },
  {
   "cell_type": "code",
   "execution_count": null,
   "metadata": {},
   "outputs": [],
   "source": [
    "def to_int_if_possible(item):\n",
    "    try:\n",
    "        return int(item)\n",
    "    except ValueError:\n",
    "        return item\n",
    "\n",
    "fertility_df.set_axis(fertility_df.columns.map(to_int_if_possible), axis=1, inplace=True)"
   ]
  },
  {
   "cell_type": "code",
   "execution_count": null,
   "metadata": {},
   "outputs": [],
   "source": [
    "fertility_df.index.rename('country', inplace=True) # alternative: df.index.name = 'country'\n",
    "fertility_df.head()"
   ]
  },
  {
   "cell_type": "code",
   "execution_count": null,
   "metadata": {},
   "outputs": [],
   "source": [
    "lifeexp_df.rename(columns={'Life expectancy':'country'}, inplace=True)\n",
    "lifeexp_df.set_index('country', inplace=True)\n",
    "lifeexp_df.head()"
   ]
  },
  {
   "cell_type": "code",
   "execution_count": null,
   "metadata": {},
   "outputs": [],
   "source": [
    "population_df.rename(columns={'Total population':'country'}, inplace=True)\n",
    "population_df.set_index('country', inplace=True)\n",
    "population_df.head()"
   ]
  },
  {
   "cell_type": "markdown",
   "metadata": {},
   "source": [
    "### Inspect shapes"
   ]
  },
  {
   "cell_type": "code",
   "execution_count": null,
   "metadata": {},
   "outputs": [],
   "source": [
    "fertility_df.shape"
   ]
  },
  {
   "cell_type": "code",
   "execution_count": null,
   "metadata": {},
   "outputs": [],
   "source": [
    "lifeexp_df.shape"
   ]
  },
  {
   "cell_type": "code",
   "execution_count": null,
   "metadata": {},
   "outputs": [],
   "source": [
    "population_df.shape"
   ]
  },
  {
   "cell_type": "code",
   "execution_count": null,
   "metadata": {},
   "outputs": [],
   "source": [
    "fertility_df.index"
   ]
  },
  {
   "cell_type": "markdown",
   "metadata": {},
   "source": [
    "## Convert tables to long format"
   ]
  },
  {
   "cell_type": "code",
   "execution_count": null,
   "metadata": {},
   "outputs": [],
   "source": [
    "fertility_df.reset_index(inplace=True)"
   ]
  },
  {
   "cell_type": "code",
   "execution_count": null,
   "metadata": {},
   "outputs": [],
   "source": [
    "fertility_long_df = fertility_df.melt(id_vars='country', var_name='year', value_name='fertility_rate')"
   ]
  },
  {
   "cell_type": "code",
   "execution_count": null,
   "metadata": {},
   "outputs": [],
   "source": [
    "fertility_long_df.shape"
   ]
  },
  {
   "cell_type": "code",
   "execution_count": null,
   "metadata": {},
   "outputs": [],
   "source": [
    "population_df.reset_index(inplace=True)"
   ]
  },
  {
   "cell_type": "code",
   "execution_count": null,
   "metadata": {},
   "outputs": [],
   "source": [
    "population_long_df = population_df.melt(id_vars='country', var_name='year', value_name='population')"
   ]
  },
  {
   "cell_type": "code",
   "execution_count": null,
   "metadata": {},
   "outputs": [],
   "source": [
    "lifeexp_df.reset_index(inplace=True)"
   ]
  },
  {
   "cell_type": "code",
   "execution_count": null,
   "metadata": {},
   "outputs": [],
   "source": [
    "lifeexp_long_df = lifeexp_df.melt(id_vars='country', var_name='year', value_name='life_expectancy')"
   ]
  },
  {
   "cell_type": "markdown",
   "metadata": {},
   "source": [
    "## Merge tables"
   ]
  },
  {
   "cell_type": "code",
   "execution_count": null,
   "metadata": {},
   "outputs": [],
   "source": [
    "df = fertility_long_df.merge(population_long_df)\n",
    "df = df.merge(lifeexp_long_df)\n",
    "df = df.merge(continents_df, on='country', how='left')"
   ]
  },
  {
   "cell_type": "code",
   "execution_count": null,
   "metadata": {},
   "outputs": [],
   "source": [
    "df.head()"
   ]
  },
  {
   "cell_type": "code",
   "execution_count": null,
   "metadata": {},
   "outputs": [],
   "source": [
    "df.shape"
   ]
  },
  {
   "cell_type": "code",
   "execution_count": null,
   "metadata": {},
   "outputs": [],
   "source": [
    "sns.heatmap(df.isnull(), cbar = False)"
   ]
  },
  {
   "cell_type": "markdown",
   "metadata": {},
   "source": [
    "## Plotting"
   ]
  },
  {
   "cell_type": "markdown",
   "metadata": {},
   "source": [
    "### Sanity check"
   ]
  },
  {
   "cell_type": "code",
   "execution_count": null,
   "metadata": {},
   "outputs": [],
   "source": [
    "sns.set()\n",
    "df_subset = df.loc[df['country'].isin(['France', 'Germany', 'Sweden'])]\n",
    "sns.lineplot(x='year', y='life_expectancy', hue='country',\n",
    "             data=df_subset)"
   ]
  },
  {
   "cell_type": "code",
   "execution_count": null,
   "metadata": {},
   "outputs": [],
   "source": [
    "sns.scatterplot(x='year', y='life_expectancy', hue='country',\n",
    "                data=df_subset, alpha=0.6)"
   ]
  },
  {
   "cell_type": "markdown",
   "metadata": {},
   "source": [
    "### Famous scatter plot\n",
    "#### Single frame\n",
    "Hans Rosling projected:\n",
    "  - fertility rate on x-ais\n",
    "  - life expectancy on y-axis\n",
    "  - population on bubble size."
   ]
  },
  {
   "cell_type": "code",
   "execution_count": null,
   "metadata": {},
   "outputs": [],
   "source": [
    "df_subset = df.loc[df['year'].eq(2015)]\n",
    "df_subset.head()"
   ]
  },
  {
   "cell_type": "code",
   "execution_count": null,
   "metadata": {},
   "outputs": [],
   "source": [
    "# look at population distribution\n",
    "sns.boxplot(x=df['population'], showfliers=False) # without outliers\n",
    "df['population'].describe()"
   ]
  },
  {
   "cell_type": "code",
   "execution_count": null,
   "metadata": {},
   "outputs": [],
   "source": [
    "sns.set_theme(style='white')"
   ]
  },
  {
   "cell_type": "code",
   "execution_count": null,
   "metadata": {},
   "outputs": [],
   "source": [
    "def plot_frame(ax, df, year, limits=(1, 8.6, 27, 85.2)):\n",
    "    \"\"\" limits: (xmin, xmax, ymin, ymax) \"\"\"\n",
    "    \n",
    "    year = int(year)\n",
    "    df_subset = df.loc[ df['year'].eq(year) ]\n",
    "    \n",
    "    sns.scatterplot(  x     = 'fertility_rate'\n",
    "                    , y     = 'life_expectancy'\n",
    "                    , hue   = 'continent'\n",
    "                    , size  = 'population'\n",
    "                    , sizes = (15,700)\n",
    "                    , size_norm = (50,1_000_000_000)\n",
    "                    , data  = df_subset\n",
    "                    , alpha = 0.6\n",
    "                    , ax    = ax)\n",
    "    sns.despine(ax=ax)\n",
    "    ax.legend(bbox_to_anchor=(1.01, 1),borderaxespad=0)\n",
    "    ax.set_xlabel('Fertility Rate')\n",
    "    ax.set_ylabel('Life Expectancy')\n",
    "    ax.set_title('Year: {}'.format(year))\n",
    "    \n",
    "    if limits is not None:\n",
    "        ax.axis(limits)\n",
    "    return ax.axis() # return current limits"
   ]
  },
  {
   "cell_type": "code",
   "execution_count": null,
   "metadata": {},
   "outputs": [],
   "source": [
    "fig, ax = plt.subplots(figsize=(8,5))\n",
    "plot_frame(ax=ax, df=df, year=1960)\n",
    "fig.savefig('test_frame.png', dpi=90, bbox_inches='tight')\n",
    "ax"
   ]
  },
  {
   "cell_type": "code",
   "execution_count": 37,
   "metadata": {},
   "outputs": [
    {
     "data": {
      "text/plain": [
       "<AxesSubplot:title={'center':'Year: 1985'}, xlabel='Fertility Rate', ylabel='Life Expectancy'>"
      ]
     },
     "execution_count": 37,
     "metadata": {},
     "output_type": "execute_result"
    },
    {
     "data": {
      "image/png": "[encoded data removed]",
      "text/plain": [
       "<Figure size 576x360 with 1 Axes>"
      ]
     },
     "metadata": {},
     "output_type": "display_data"
    }
   ],
   "source": [
    "fig, ax = plt.subplots(figsize=(8,5))\n",
    "plot_frame(ax=ax, df=df, year=1985)\n",
    "#fig.savefig('test_frame.png', dpi=90, bbox_inches='tight')\n",
    "ax"
   ]
  },
  {
   "cell_type": "markdown",
   "metadata": {},
   "source": [
    "#### Animation between 1960 and 2015"
   ]
  },
  {
   "cell_type": "code",
   "execution_count": 35,
   "metadata": {},
   "outputs": [
    {
     "name": "stdout",
     "output_type": "stream",
     "text": [
      "lifeexp_1960.png written\n",
      "lifeexp_1961.png written\n",
      "lifeexp_1962.png written\n",
      "lifeexp_1963.png written\n",
      "lifeexp_1964.png written\n",
      "lifeexp_1965.png written\n",
      "lifeexp_1966.png written\n",
      "lifeexp_1967.png written\n",
      "lifeexp_1968.png written\n",
      "lifeexp_1969.png written\n",
      "lifeexp_1970.png written\n",
      "lifeexp_1971.png written\n",
      "lifeexp_1972.png written\n",
      "lifeexp_1973.png written\n",
      "lifeexp_1974.png written\n",
      "lifeexp_1975.png written\n",
      "lifeexp_1976.png written\n",
      "lifeexp_1977.png written\n",
      "lifeexp_1978.png written\n",
      "lifeexp_1979.png written\n",
      "lifeexp_1980.png written\n",
      "lifeexp_1981.png written\n",
      "lifeexp_1982.png written\n",
      "lifeexp_1983.png written\n",
      "lifeexp_1984.png written\n",
      "lifeexp_1985.png written\n",
      "lifeexp_1986.png written\n",
      "lifeexp_1987.png written\n",
      "lifeexp_1988.png written\n",
      "lifeexp_1989.png written\n",
      "lifeexp_1990.png written\n",
      "lifeexp_1991.png written\n",
      "lifeexp_1992.png written\n",
      "lifeexp_1993.png written\n",
      "lifeexp_1994.png written\n",
      "lifeexp_1995.png written\n",
      "lifeexp_1996.png written\n",
      "lifeexp_1997.png written\n",
      "lifeexp_1998.png written\n",
      "lifeexp_1999.png written\n",
      "lifeexp_2000.png written\n",
      "lifeexp_2001.png written\n",
      "lifeexp_2002.png written\n",
      "lifeexp_2003.png written\n",
      "lifeexp_2004.png written\n",
      "lifeexp_2005.png written\n",
      "lifeexp_2006.png written\n",
      "lifeexp_2007.png written\n",
      "lifeexp_2008.png written\n",
      "lifeexp_2009.png written\n",
      "lifeexp_2010.png written\n",
      "lifeexp_2011.png written\n",
      "lifeexp_2012.png written\n",
      "lifeexp_2013.png written\n",
      "lifeexp_2014.png written\n",
      "lifeexp_2015.png written\n"
     ]
    }
   ],
   "source": [
    "import imageio\n",
    "\n",
    "images = []\n",
    "\n",
    "for year in range(1960, 2015+1):\n",
    "    filename = 'lifeexp_{}.png'.format(year)\n",
    "    \n",
    "    fig, ax = plt.subplots(figsize=(8,5))\n",
    "    plot_frame(ax=ax, df=df, year=year)    \n",
    "    fig.savefig(filename, dpi=90, bbox_inches='tight')    \n",
    "    plt.close('all')\n",
    "    print(filename, \"written\")\n",
    "    \n",
    "    images.append(imageio.imread(filename))\n",
    "\n",
    "imageio.mimsave('output.gif', images, fps=20)"
   ]
  },
  {
   "cell_type": "code",
   "execution_count": null,
   "metadata": {},
   "outputs": [],
   "source": []
  }
 ],
 "metadata": {
  "kernelspec": {
   "display_name": "Python 3",
   "language": "python",
   "name": "python3"
  },
  "language_info": {
   "codemirror_mode": {
    "name": "ipython",
    "version": 3
   },
   "file_extension": ".py",
   "mimetype": "text/x-python",
   "name": "python",
   "nbconvert_exporter": "python",
   "pygments_lexer": "ipython3",
   "version": "3.8.5"
  }
 },
 "nbformat": 4,
 "nbformat_minor": 4
}
