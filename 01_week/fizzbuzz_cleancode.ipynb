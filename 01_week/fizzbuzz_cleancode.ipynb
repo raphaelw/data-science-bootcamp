{
 "cells": [
  {
   "cell_type": "markdown",
   "metadata": {},
   "source": [
    "# Clean code ideas on FizzBuzz"
   ]
  },
  {
   "cell_type": "markdown",
   "metadata": {},
   "source": [
    "## One of the perfectly fine basic solutions"
   ]
  },
  {
   "cell_type": "code",
   "execution_count": null,
   "metadata": {},
   "outputs": [],
   "source": [
    "def fizzbuzz(limit):\n",
    "    for number in range(1, limit+1):\n",
    "        if number%3 == 0 and number%5 == 0:\n",
    "            print('FizzBuzz')\n",
    "        else:\n",
    "            if number%3 == 0:\n",
    "                print('Fizz')\n",
    "            elif number%5 == 0:\n",
    "                print('Buzz')\n",
    "            else:\n",
    "                print(number)\n",
    "\n",
    "fizzbuzz(15)"
   ]
  },
  {
   "cell_type": "markdown",
   "metadata": {},
   "source": [
    "## Coding is communication with other programmers"
   ]
  },
  {
   "cell_type": "markdown",
   "metadata": {},
   "source": [
    "Goal: Make the code more human readable but not with comments\n",
    "\n",
    "### Why you should avoid comments?"
   ]
  },
  {
   "cell_type": "code",
   "execution_count": 8,
   "metadata": {
    "jupyter": {
     "source_hidden": true
    }
   },
   "outputs": [],
   "source": [
    "def send_message(text,time):\n",
    "    print('The message \"{}\" will be sent after {} days'.format(text,time/(24 * 60 * 60 * 1000)))"
   ]
  },
  {
   "cell_type": "code",
   "execution_count": 9,
   "metadata": {},
   "outputs": [
    {
     "name": "stdout",
     "output_type": "stream",
     "text": [
      "The message \"I want ice cream!\" will be sent after 0.003 days\n"
     ]
    }
   ],
   "source": [
    "send_message(text = \"I want ice cream!\",\n",
    "             time = 3 * (24 * 60 * 60)) # Day in milliseconds"
   ]
  },
  {
   "cell_type": "code",
   "execution_count": 10,
   "metadata": {},
   "outputs": [
    {
     "name": "stdout",
     "output_type": "stream",
     "text": [
      "The message \"I want ice cream!\" will be sent after 3.0 days\n"
     ]
    }
   ],
   "source": [
    "DAY_IN_MILLIS = 24 * 60 * 60 *1000;\n",
    "\n",
    "send_message(text = \"I want ice cream!\",\n",
    "             time = 3*DAY_IN_MILLIS)"
   ]
  },
  {
   "cell_type": "markdown",
   "metadata": {},
   "source": [
    "### 1. Use functions\n",
    "\n",
    "* can make the code more self explanatory\n",
    "* prevent repetition of code\n",
    "* gives a structure to code"
   ]
  },
  {
   "cell_type": "code",
   "execution_count": null,
   "metadata": {},
   "outputs": [],
   "source": [
    "def is_divisble_by(dividend, divisor):\n",
    "    return dividend%divisor == 0\n",
    "\n",
    "def fizzbuzz(limit):\n",
    "    for number in range(1, limit+1):\n",
    "        if is_divisble_by(number,3) and is_divisble_by(number,5):\n",
    "            print('FizzBuzz')\n",
    "        else:\n",
    "            if is_divisble_by(number,3):\n",
    "                print('Fizz')\n",
    "            elif is_divisble_by(number,5):\n",
    "                print('Buzz')\n",
    "            else:\n",
    "                print(number)\n",
    "\n",
    "fizzbuzz(15)"
   ]
  },
  {
   "cell_type": "markdown",
   "metadata": {},
   "source": [
    "### 2. \"Overuse\" variable names\n",
    "\n",
    "* good variable names let the code explain itself\n",
    "* introduce variables to prevent bloating your code with too many little helper functions"
   ]
  },
  {
   "cell_type": "code",
   "execution_count": null,
   "metadata": {},
   "outputs": [],
   "source": [
    "def fizzbuzz(limit):\n",
    "    for number in range(1, limit+1):\n",
    "        multiple_of_3 = number%3 == 0\n",
    "        multiple_of_5 = number%5 == 0\n",
    "\n",
    "        if multiple_of_3 and multiple_of_5:\n",
    "            print('FizzBuzz')\n",
    "        else:\n",
    "            if multiple_of_3:\n",
    "                print('Fizz')\n",
    "            elif multiple_of_5:\n",
    "                print('Buzz')\n",
    "            else:\n",
    "                print(number)\n",
    "\n",
    "fizzbuzz(15)"
   ]
  },
  {
   "cell_type": "code",
   "execution_count": null,
   "metadata": {},
   "outputs": [],
   "source": []
  }
 ],
 "metadata": {
  "kernelspec": {
   "display_name": "Python 3",
   "language": "python",
   "name": "python3"
  },
  "language_info": {
   "codemirror_mode": {
    "name": "ipython",
    "version": 3
   },
   "file_extension": ".py",
   "mimetype": "text/x-python",
   "name": "python",
   "nbconvert_exporter": "python",
   "pygments_lexer": "ipython3",
   "version": "3.8.5"
  }
 },
 "nbformat": 4,
 "nbformat_minor": 4
}
