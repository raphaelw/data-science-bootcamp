{
 "cells": [
  {
   "cell_type": "markdown",
   "id": "universal-glance",
   "metadata": {},
   "source": [
    "# Lyrics Graph\n",
    "\n",
    "Create a weighted undirected Graph in order to load it in [Gephi](https://gephi.org/) and use its ForcedAtlas algorithm.\n",
    "\n",
    "Graph:\n",
    "* Nodes: Words; weights proportional to corpus frequency.\n",
    "* Edge weights: Relationship measure based on TF-IDF column vector."
   ]
  },
  {
   "cell_type": "code",
   "execution_count": 1,
   "id": "minor-remove",
   "metadata": {},
   "outputs": [],
   "source": [
    "import os\n",
    "import os.path\n",
    "import json\n",
    "from itertools import combinations, islice"
   ]
  },
  {
   "cell_type": "code",
   "execution_count": 2,
   "id": "precious-cooking",
   "metadata": {},
   "outputs": [],
   "source": [
    "import pandas as pd\n",
    "import seaborn as sns\n",
    "\n",
    "import numpy as np\n",
    "from scipy.spatial import distance\n",
    "\n",
    "from sklearn.feature_extraction.text import TfidfVectorizer"
   ]
  },
  {
   "cell_type": "code",
   "execution_count": 3,
   "id": "sweet-aerospace",
   "metadata": {},
   "outputs": [],
   "source": [
    "import networkx as nx # Graph library"
   ]
  },
  {
   "cell_type": "markdown",
   "id": "representative-cloud",
   "metadata": {},
   "source": [
    "## Load Data"
   ]
  },
  {
   "cell_type": "code",
   "execution_count": 4,
   "id": "sapphire-wichita",
   "metadata": {},
   "outputs": [],
   "source": [
    "data_path = os.path.join('..','..','04_week','project','data')\n",
    "json_files = [file for file in os.listdir(data_path) if file.endswith('.json')]"
   ]
  },
  {
   "cell_type": "code",
   "execution_count": 5,
   "id": "sensitive-recall",
   "metadata": {},
   "outputs": [],
   "source": [
    "lyrics = []\n",
    "for json_file in json_files:\n",
    "    with open(os.path.join(data_path,json_file), encoding='ascii') as file:\n",
    "        lyrics.extend(json.load(file))"
   ]
  },
  {
   "cell_type": "code",
   "execution_count": 6,
   "id": "differential-stevens",
   "metadata": {},
   "outputs": [
    {
     "data": {
      "text/html": [
       "<div>\n",
       "<style scoped>\n",
       "    .dataframe tbody tr th:only-of-type {\n",
       "        vertical-align: middle;\n",
       "    }\n",
       "\n",
       "    .dataframe tbody tr th {\n",
       "        vertical-align: top;\n",
       "    }\n",
       "\n",
       "    .dataframe thead th {\n",
       "        text-align: right;\n",
       "    }\n",
       "</style>\n",
       "<table border=\"1\" class=\"dataframe\">\n",
       "  <thead>\n",
       "    <tr style=\"text-align: right;\">\n",
       "      <th></th>\n",
       "      <th>artist_found</th>\n",
       "      <th>song_title</th>\n",
       "      <th>lyrics</th>\n",
       "    </tr>\n",
       "  </thead>\n",
       "  <tbody>\n",
       "    <tr>\n",
       "      <th>0</th>\n",
       "      <td>Creedence Clearwater Revival</td>\n",
       "      <td>Born on the Bayou</td>\n",
       "      <td>Now when I was just a little boy \\nStandin' to...</td>\n",
       "    </tr>\n",
       "    <tr>\n",
       "      <th>1</th>\n",
       "      <td>Creedence Clearwater Revival</td>\n",
       "      <td>Travelin' Band</td>\n",
       "      <td>Seven thirty seven comin' out of the sky\\nWon'...</td>\n",
       "    </tr>\n",
       "    <tr>\n",
       "      <th>2</th>\n",
       "      <td>Creedence Clearwater Revival</td>\n",
       "      <td>Up Around the Bend</td>\n",
       "      <td>There's a place up ahead and I'm goin'\\nJust a...</td>\n",
       "    </tr>\n",
       "    <tr>\n",
       "      <th>3</th>\n",
       "      <td>Creedence Clearwater Revival</td>\n",
       "      <td>Fortunate Son</td>\n",
       "      <td>Some folks are born, made to wave the flag\\nOo...</td>\n",
       "    </tr>\n",
       "    <tr>\n",
       "      <th>4</th>\n",
       "      <td>Creedence Clearwater Revival</td>\n",
       "      <td>Down on the Corner</td>\n",
       "      <td>Early in the evenin' just about supper time\\nO...</td>\n",
       "    </tr>\n",
       "  </tbody>\n",
       "</table>\n",
       "</div>"
      ],
      "text/plain": [
       "                   artist_found          song_title  \\\n",
       "0  Creedence Clearwater Revival   Born on the Bayou   \n",
       "1  Creedence Clearwater Revival      Travelin' Band   \n",
       "2  Creedence Clearwater Revival  Up Around the Bend   \n",
       "3  Creedence Clearwater Revival       Fortunate Son   \n",
       "4  Creedence Clearwater Revival  Down on the Corner   \n",
       "\n",
       "                                              lyrics  \n",
       "0  Now when I was just a little boy \\nStandin' to...  \n",
       "1  Seven thirty seven comin' out of the sky\\nWon'...  \n",
       "2  There's a place up ahead and I'm goin'\\nJust a...  \n",
       "3  Some folks are born, made to wave the flag\\nOo...  \n",
       "4  Early in the evenin' just about supper time\\nO...  "
      ]
     },
     "execution_count": 6,
     "metadata": {},
     "output_type": "execute_result"
    }
   ],
   "source": [
    "df = pd.DataFrame(data=lyrics)\n",
    "df.drop(['artist_searched'], axis=1, inplace=True)\n",
    "df.head()"
   ]
  },
  {
   "cell_type": "code",
   "execution_count": 7,
   "id": "hybrid-madison",
   "metadata": {},
   "outputs": [
    {
     "data": {
      "text/plain": [
       "(1401, 3)"
      ]
     },
     "execution_count": 7,
     "metadata": {},
     "output_type": "execute_result"
    }
   ],
   "source": [
    "df.shape"
   ]
  },
  {
   "cell_type": "markdown",
   "id": "certified-envelope",
   "metadata": {},
   "source": [
    "## TF-IDF Transformation"
   ]
  },
  {
   "cell_type": "code",
   "execution_count": 8,
   "id": "bottom-venezuela",
   "metadata": {},
   "outputs": [],
   "source": [
    "corpus = df['lyrics']\n",
    "\n",
    "# ignore words with numbers, thanks to https://stackoverflow.com/a/29375664\n",
    "token_pattern = r\"(?u)\\b[^\\d\\W]{2,}\\b\"\n",
    "\n",
    "vectorizer = TfidfVectorizer(token_pattern=token_pattern, max_features=200)\n",
    "X = vectorizer.fit_transform(corpus)"
   ]
  },
  {
   "cell_type": "code",
   "execution_count": 9,
   "id": "educational-default",
   "metadata": {},
   "outputs": [],
   "source": [
    "#sns.heatmap(X.todense(), vmax=0.1)"
   ]
  },
  {
   "cell_type": "code",
   "execution_count": 10,
   "id": "sustainable-parker",
   "metadata": {},
   "outputs": [
    {
     "data": {
      "text/plain": [
       "(1401, 200)"
      ]
     },
     "execution_count": 10,
     "metadata": {},
     "output_type": "execute_result"
    }
   ],
   "source": [
    "X.shape"
   ]
  },
  {
   "cell_type": "code",
   "execution_count": 11,
   "id": "serious-conversion",
   "metadata": {},
   "outputs": [],
   "source": [
    "X_ = X.T"
   ]
  },
  {
   "cell_type": "code",
   "execution_count": 12,
   "id": "early-violation",
   "metadata": {},
   "outputs": [],
   "source": [
    "def row_vector(index, X):\n",
    "    \"\"\" Helper function to turn numpy matrix into modern numpy arrays \"\"\"\n",
    "    return np.array(X[index].todense())[0]"
   ]
  },
  {
   "cell_type": "markdown",
   "id": "connected-olive",
   "metadata": {},
   "source": [
    "## Graph\n",
    "\n",
    "### Init"
   ]
  },
  {
   "cell_type": "code",
   "execution_count": 13,
   "id": "proved-annex",
   "metadata": {},
   "outputs": [],
   "source": [
    "G = nx.Graph()"
   ]
  },
  {
   "cell_type": "markdown",
   "id": "aboriginal-correspondence",
   "metadata": {},
   "source": [
    "### Nodes"
   ]
  },
  {
   "cell_type": "code",
   "execution_count": 14,
   "id": "still-barrel",
   "metadata": {},
   "outputs": [
    {
     "data": {
      "text/html": [
       "<div>\n",
       "<style scoped>\n",
       "    .dataframe tbody tr th:only-of-type {\n",
       "        vertical-align: middle;\n",
       "    }\n",
       "\n",
       "    .dataframe tbody tr th {\n",
       "        vertical-align: top;\n",
       "    }\n",
       "\n",
       "    .dataframe thead th {\n",
       "        text-align: right;\n",
       "    }\n",
       "</style>\n",
       "<table border=\"1\" class=\"dataframe\">\n",
       "  <thead>\n",
       "    <tr style=\"text-align: right;\">\n",
       "      <th></th>\n",
       "      <th>about</th>\n",
       "      <th>again</th>\n",
       "      <th>ah</th>\n",
       "      <th>ain</th>\n",
       "      <th>all</th>\n",
       "      <th>alone</th>\n",
       "      <th>always</th>\n",
       "      <th>am</th>\n",
       "      <th>an</th>\n",
       "      <th>and</th>\n",
       "      <th>...</th>\n",
       "      <th>woman</th>\n",
       "      <th>won</th>\n",
       "      <th>world</th>\n",
       "      <th>would</th>\n",
       "      <th>wrong</th>\n",
       "      <th>ya</th>\n",
       "      <th>yeah</th>\n",
       "      <th>yes</th>\n",
       "      <th>you</th>\n",
       "      <th>your</th>\n",
       "    </tr>\n",
       "  </thead>\n",
       "  <tbody>\n",
       "    <tr>\n",
       "      <th>0</th>\n",
       "      <td>0.000000</td>\n",
       "      <td>0.000000</td>\n",
       "      <td>0.0</td>\n",
       "      <td>0.000000</td>\n",
       "      <td>0.000000</td>\n",
       "      <td>0.0</td>\n",
       "      <td>0.000000</td>\n",
       "      <td>0.0</td>\n",
       "      <td>0.00000</td>\n",
       "      <td>0.103702</td>\n",
       "      <td>...</td>\n",
       "      <td>0.0</td>\n",
       "      <td>0.000000</td>\n",
       "      <td>0.0</td>\n",
       "      <td>0.0</td>\n",
       "      <td>0.0</td>\n",
       "      <td>0.172737</td>\n",
       "      <td>0.000000</td>\n",
       "      <td>0.0</td>\n",
       "      <td>0.000000</td>\n",
       "      <td>0.000000</td>\n",
       "    </tr>\n",
       "    <tr>\n",
       "      <th>1</th>\n",
       "      <td>0.000000</td>\n",
       "      <td>0.068674</td>\n",
       "      <td>0.0</td>\n",
       "      <td>0.000000</td>\n",
       "      <td>0.000000</td>\n",
       "      <td>0.0</td>\n",
       "      <td>0.000000</td>\n",
       "      <td>0.0</td>\n",
       "      <td>0.00000</td>\n",
       "      <td>0.024364</td>\n",
       "      <td>...</td>\n",
       "      <td>0.0</td>\n",
       "      <td>0.235928</td>\n",
       "      <td>0.0</td>\n",
       "      <td>0.0</td>\n",
       "      <td>0.0</td>\n",
       "      <td>0.000000</td>\n",
       "      <td>0.196661</td>\n",
       "      <td>0.0</td>\n",
       "      <td>0.095786</td>\n",
       "      <td>0.070782</td>\n",
       "    </tr>\n",
       "    <tr>\n",
       "      <th>2</th>\n",
       "      <td>0.000000</td>\n",
       "      <td>0.000000</td>\n",
       "      <td>0.0</td>\n",
       "      <td>0.000000</td>\n",
       "      <td>0.000000</td>\n",
       "      <td>0.0</td>\n",
       "      <td>0.050299</td>\n",
       "      <td>0.0</td>\n",
       "      <td>0.05114</td>\n",
       "      <td>0.072573</td>\n",
       "      <td>...</td>\n",
       "      <td>0.0</td>\n",
       "      <td>0.000000</td>\n",
       "      <td>0.0</td>\n",
       "      <td>0.0</td>\n",
       "      <td>0.0</td>\n",
       "      <td>0.000000</td>\n",
       "      <td>0.109836</td>\n",
       "      <td>0.0</td>\n",
       "      <td>0.053497</td>\n",
       "      <td>0.026355</td>\n",
       "    </tr>\n",
       "    <tr>\n",
       "      <th>3</th>\n",
       "      <td>0.000000</td>\n",
       "      <td>0.000000</td>\n",
       "      <td>0.0</td>\n",
       "      <td>0.765512</td>\n",
       "      <td>0.036863</td>\n",
       "      <td>0.0</td>\n",
       "      <td>0.000000</td>\n",
       "      <td>0.0</td>\n",
       "      <td>0.00000</td>\n",
       "      <td>0.039159</td>\n",
       "      <td>...</td>\n",
       "      <td>0.0</td>\n",
       "      <td>0.000000</td>\n",
       "      <td>0.0</td>\n",
       "      <td>0.0</td>\n",
       "      <td>0.0</td>\n",
       "      <td>0.000000</td>\n",
       "      <td>0.079019</td>\n",
       "      <td>0.0</td>\n",
       "      <td>0.038487</td>\n",
       "      <td>0.000000</td>\n",
       "    </tr>\n",
       "    <tr>\n",
       "      <th>4</th>\n",
       "      <td>0.042855</td>\n",
       "      <td>0.000000</td>\n",
       "      <td>0.0</td>\n",
       "      <td>0.000000</td>\n",
       "      <td>0.024997</td>\n",
       "      <td>0.0</td>\n",
       "      <td>0.000000</td>\n",
       "      <td>0.0</td>\n",
       "      <td>0.00000</td>\n",
       "      <td>0.212431</td>\n",
       "      <td>...</td>\n",
       "      <td>0.0</td>\n",
       "      <td>0.042855</td>\n",
       "      <td>0.0</td>\n",
       "      <td>0.0</td>\n",
       "      <td>0.0</td>\n",
       "      <td>0.000000</td>\n",
       "      <td>0.000000</td>\n",
       "      <td>0.0</td>\n",
       "      <td>0.069596</td>\n",
       "      <td>0.205714</td>\n",
       "    </tr>\n",
       "  </tbody>\n",
       "</table>\n",
       "<p>5 rows × 200 columns</p>\n",
       "</div>"
      ],
      "text/plain": [
       "      about     again   ah       ain       all  alone    always   am       an  \\\n",
       "0  0.000000  0.000000  0.0  0.000000  0.000000    0.0  0.000000  0.0  0.00000   \n",
       "1  0.000000  0.068674  0.0  0.000000  0.000000    0.0  0.000000  0.0  0.00000   \n",
       "2  0.000000  0.000000  0.0  0.000000  0.000000    0.0  0.050299  0.0  0.05114   \n",
       "3  0.000000  0.000000  0.0  0.765512  0.036863    0.0  0.000000  0.0  0.00000   \n",
       "4  0.042855  0.000000  0.0  0.000000  0.024997    0.0  0.000000  0.0  0.00000   \n",
       "\n",
       "        and  ...  woman       won  world  would  wrong        ya      yeah  \\\n",
       "0  0.103702  ...    0.0  0.000000    0.0    0.0    0.0  0.172737  0.000000   \n",
       "1  0.024364  ...    0.0  0.235928    0.0    0.0    0.0  0.000000  0.196661   \n",
       "2  0.072573  ...    0.0  0.000000    0.0    0.0    0.0  0.000000  0.109836   \n",
       "3  0.039159  ...    0.0  0.000000    0.0    0.0    0.0  0.000000  0.079019   \n",
       "4  0.212431  ...    0.0  0.042855    0.0    0.0    0.0  0.000000  0.000000   \n",
       "\n",
       "   yes       you      your  \n",
       "0  0.0  0.000000  0.000000  \n",
       "1  0.0  0.095786  0.070782  \n",
       "2  0.0  0.053497  0.026355  \n",
       "3  0.0  0.038487  0.000000  \n",
       "4  0.0  0.069596  0.205714  \n",
       "\n",
       "[5 rows x 200 columns]"
      ]
     },
     "execution_count": 14,
     "metadata": {},
     "output_type": "execute_result"
    }
   ],
   "source": [
    "df_tf = pd.DataFrame(data=X.todense(), columns=vectorizer.get_feature_names())\n",
    "df_tf.head()"
   ]
  },
  {
   "cell_type": "code",
   "execution_count": 15,
   "id": "vocal-dress",
   "metadata": {},
   "outputs": [],
   "source": [
    "words_count = X_.shape[0]\n",
    "for word_id in range(words_count):\n",
    "    word = vectorizer.get_feature_names()[word_id]\n",
    "    weight = np.sum(row_vector(word_id, X_))\n",
    "    G.add_node(word_id, weight=weight, label=word)"
   ]
  },
  {
   "cell_type": "markdown",
   "id": "innocent-annual",
   "metadata": {},
   "source": [
    "### Edges"
   ]
  },
  {
   "cell_type": "code",
   "execution_count": 16,
   "id": "broke-regulation",
   "metadata": {},
   "outputs": [],
   "source": [
    "words_count = X_.shape[0]\n",
    "for a,b in combinations(range(words_count),2):\n",
    "    word_a = row_vector(a, X_)\n",
    "    word_b = row_vector(b, X_)\n",
    "    weight = np.sum( word_a*word_b )\n",
    "    if weight > 0.01:\n",
    "        G.add_edge(a, b, weight=weight)"
   ]
  },
  {
   "cell_type": "code",
   "execution_count": 17,
   "id": "characteristic-enhancement",
   "metadata": {},
   "outputs": [],
   "source": [
    "nx.write_graphml(G, \"lyrics_g2.graphml\", encoding='utf-8', prettyprint=False)"
   ]
  },
  {
   "cell_type": "code",
   "execution_count": null,
   "id": "southern-welsh",
   "metadata": {},
   "outputs": [],
   "source": []
  }
 ],
 "metadata": {
  "kernelspec": {
   "display_name": "Python 3",
   "language": "python",
   "name": "python3"
  },
  "language_info": {
   "codemirror_mode": {
    "name": "ipython",
    "version": 3
   },
   "file_extension": ".py",
   "mimetype": "text/x-python",
   "name": "python",
   "nbconvert_exporter": "python",
   "pygments_lexer": "ipython3",
   "version": "3.8.8"
  }
 },
 "nbformat": 4,
 "nbformat_minor": 5
}
