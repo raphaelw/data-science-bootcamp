{
 "cells": [
  {
   "cell_type": "markdown",
   "id": "d4a48092",
   "metadata": {},
   "source": [
    "# Lyrics Graph\n",
    "\n",
    "Create a weighted undirected Graph in order to load it in [Gephi](https://gephi.org/) and use its ForcedAtlas algorithm.\n",
    "\n",
    "Graph:\n",
    "* Nodes: Songs\n",
    "* Edge weights: Distance (e.g. euclidean) based on their TF-IDF vectors."
   ]
  },
  {
   "cell_type": "code",
   "execution_count": 114,
   "id": "6e95d58f",
   "metadata": {},
   "outputs": [],
   "source": [
    "import os\n",
    "import os.path\n",
    "import json\n",
    "from itertools import combinations"
   ]
  },
  {
   "cell_type": "code",
   "execution_count": 123,
   "id": "6ff07c7a",
   "metadata": {},
   "outputs": [],
   "source": [
    "import pandas as pd\n",
    "import seaborn as sns\n",
    "\n",
    "import numpy as np\n",
    "from scipy.spatial import distance\n",
    "\n",
    "from sklearn.feature_extraction.text import TfidfVectorizer"
   ]
  },
  {
   "cell_type": "code",
   "execution_count": 124,
   "id": "2c9b7709",
   "metadata": {},
   "outputs": [],
   "source": [
    "import networkx as nx # Graph library"
   ]
  },
  {
   "cell_type": "markdown",
   "id": "17030f6e",
   "metadata": {},
   "source": [
    "## Load Data"
   ]
  },
  {
   "cell_type": "code",
   "execution_count": 125,
   "id": "8a57d1dc",
   "metadata": {},
   "outputs": [],
   "source": [
    "data_path = os.path.join('..','..','04_week','project','data')\n",
    "json_files = [file for file in os.listdir(data_path) if file.endswith('.json')]"
   ]
  },
  {
   "cell_type": "code",
   "execution_count": 126,
   "id": "75746e04",
   "metadata": {},
   "outputs": [],
   "source": [
    "lyrics = []\n",
    "for json_file in json_files:\n",
    "    with open(os.path.join(data_path,json_file), encoding='ascii') as file:\n",
    "        lyrics.extend(json.load(file))"
   ]
  },
  {
   "cell_type": "code",
   "execution_count": 127,
   "id": "31ea862c",
   "metadata": {},
   "outputs": [
    {
     "data": {
      "text/html": [
       "<div>\n",
       "<style scoped>\n",
       "    .dataframe tbody tr th:only-of-type {\n",
       "        vertical-align: middle;\n",
       "    }\n",
       "\n",
       "    .dataframe tbody tr th {\n",
       "        vertical-align: top;\n",
       "    }\n",
       "\n",
       "    .dataframe thead th {\n",
       "        text-align: right;\n",
       "    }\n",
       "</style>\n",
       "<table border=\"1\" class=\"dataframe\">\n",
       "  <thead>\n",
       "    <tr style=\"text-align: right;\">\n",
       "      <th></th>\n",
       "      <th>artist_found</th>\n",
       "      <th>song_title</th>\n",
       "      <th>lyrics</th>\n",
       "    </tr>\n",
       "  </thead>\n",
       "  <tbody>\n",
       "    <tr>\n",
       "      <th>0</th>\n",
       "      <td>Ray Charles</td>\n",
       "      <td>Georgia on My Mind</td>\n",
       "      <td>Georgia, Georgia\\nThe whole day through (the w...</td>\n",
       "    </tr>\n",
       "    <tr>\n",
       "      <th>1</th>\n",
       "      <td>Ray Charles</td>\n",
       "      <td>Unchain My Heart</td>\n",
       "      <td>Unchain my heart (unchain my heart), baby let ...</td>\n",
       "    </tr>\n",
       "    <tr>\n",
       "      <th>2</th>\n",
       "      <td>Ray Charles</td>\n",
       "      <td>I Can't Stop Loving You</td>\n",
       "      <td>(I can't stop loving you)\\nI've made up my min...</td>\n",
       "    </tr>\n",
       "    <tr>\n",
       "      <th>3</th>\n",
       "      <td>Ray Charles</td>\n",
       "      <td>Them That Got</td>\n",
       "      <td>I've gotten down to my last pair of shoes\\nCan...</td>\n",
       "    </tr>\n",
       "    <tr>\n",
       "      <th>4</th>\n",
       "      <td>Ray Charles</td>\n",
       "      <td>What'd I Say, Pts. 1-2</td>\n",
       "      <td>Hey mama, don't you treat me wrong\\nCome and l...</td>\n",
       "    </tr>\n",
       "  </tbody>\n",
       "</table>\n",
       "</div>"
      ],
      "text/plain": [
       "  artist_found               song_title  \\\n",
       "0  Ray Charles       Georgia on My Mind   \n",
       "1  Ray Charles         Unchain My Heart   \n",
       "2  Ray Charles  I Can't Stop Loving You   \n",
       "3  Ray Charles            Them That Got   \n",
       "4  Ray Charles   What'd I Say, Pts. 1-2   \n",
       "\n",
       "                                              lyrics  \n",
       "0  Georgia, Georgia\\nThe whole day through (the w...  \n",
       "1  Unchain my heart (unchain my heart), baby let ...  \n",
       "2  (I can't stop loving you)\\nI've made up my min...  \n",
       "3  I've gotten down to my last pair of shoes\\nCan...  \n",
       "4  Hey mama, don't you treat me wrong\\nCome and l...  "
      ]
     },
     "execution_count": 127,
     "metadata": {},
     "output_type": "execute_result"
    }
   ],
   "source": [
    "df = pd.DataFrame(data=lyrics)\n",
    "df.drop(['artist_searched'], axis=1, inplace=True)\n",
    "df.head()"
   ]
  },
  {
   "cell_type": "code",
   "execution_count": 128,
   "id": "31ba2259",
   "metadata": {},
   "outputs": [
    {
     "data": {
      "text/plain": [
       "(1502, 3)"
      ]
     },
     "execution_count": 128,
     "metadata": {},
     "output_type": "execute_result"
    }
   ],
   "source": [
    "df.shape"
   ]
  },
  {
   "cell_type": "markdown",
   "id": "afe5b74f",
   "metadata": {},
   "source": [
    "## TF-IDF Transformation"
   ]
  },
  {
   "cell_type": "code",
   "execution_count": 129,
   "id": "49740672",
   "metadata": {},
   "outputs": [],
   "source": [
    "corpus = df['lyrics']\n",
    "\n",
    "# ignore words with numbers, thanks to https://stackoverflow.com/a/29375664\n",
    "token_pattern = r\"(?u)\\b[^\\d\\W]{2,}\\b\"\n",
    "\n",
    "vectorizer = TfidfVectorizer(token_pattern=token_pattern)\n",
    "X = vectorizer.fit_transform(corpus)"
   ]
  },
  {
   "cell_type": "code",
   "execution_count": 40,
   "id": "5e8a2d18",
   "metadata": {},
   "outputs": [
    {
     "data": {
      "text/plain": [
       "<AxesSubplot:>"
      ]
     },
     "execution_count": 40,
     "metadata": {},
     "output_type": "execute_result"
    },
    {
     "data": {
      "image/png": "[encoded data removed]",
      "text/plain": [
       "<Figure size 432x288 with 2 Axes>"
      ]
     },
     "metadata": {
      "needs_background": "light"
     },
     "output_type": "display_data"
    }
   ],
   "source": [
    "#sns.heatmap(X.todense(), vmax=0.1)"
   ]
  },
  {
   "cell_type": "code",
   "execution_count": 130,
   "id": "2de68262",
   "metadata": {},
   "outputs": [
    {
     "data": {
      "text/plain": [
       "(1502, 9491)"
      ]
     },
     "execution_count": 130,
     "metadata": {},
     "output_type": "execute_result"
    }
   ],
   "source": [
    "X.shape"
   ]
  },
  {
   "cell_type": "code",
   "execution_count": 144,
   "id": "a3d1d928",
   "metadata": {},
   "outputs": [],
   "source": [
    "def song_vector(song_id, X=X):\n",
    "    \"\"\" Helper function to turn numpy matrix into modern numpy arrays \"\"\"\n",
    "    return np.array(X[song_id].todense())[0]"
   ]
  },
  {
   "cell_type": "markdown",
   "id": "9154dbac",
   "metadata": {},
   "source": [
    "## Graph\n",
    "\n",
    "### Init"
   ]
  },
  {
   "cell_type": "code",
   "execution_count": 145,
   "id": "bb4dac03",
   "metadata": {},
   "outputs": [],
   "source": [
    "G = nx.Graph()"
   ]
  },
  {
   "cell_type": "markdown",
   "id": "0539224f",
   "metadata": {},
   "source": [
    "### Nodes (Songs)"
   ]
  },
  {
   "cell_type": "code",
   "execution_count": 146,
   "id": "13ea8f35",
   "metadata": {},
   "outputs": [],
   "source": [
    "songs_count = X.shape[0]\n",
    "for song_id in range(songs_count):\n",
    "    artist = df.iloc[song_id]['artist_found']\n",
    "    title = df.iloc[song_id]['song_title']\n",
    "    G.add_node(song_id, label=artist, title=title)"
   ]
  },
  {
   "cell_type": "markdown",
   "id": "8d320761",
   "metadata": {},
   "source": [
    "### Edges"
   ]
  },
  {
   "cell_type": "code",
   "execution_count": null,
   "id": "44086324",
   "metadata": {},
   "outputs": [],
   "source": [
    "songs_count = X.shape[0]\n",
    "for a,b in combinations(range(songs_count),2):\n",
    "    dist = distance.euclidean(song_vector(a), song_vector(b))\n",
    "    G.add_edge(a, b, weight=dist)"
   ]
  },
  {
   "cell_type": "code",
   "execution_count": null,
   "id": "bb778ae3",
   "metadata": {},
   "outputs": [],
   "source": [
    "nx.write_graphml(G, \"lyrics.graphml\", encoding='utf-8', prettyprint=False)"
   ]
  },
  {
   "cell_type": "code",
   "execution_count": null,
   "id": "0d3d1fb0",
   "metadata": {},
   "outputs": [],
   "source": []
  }
 ],
 "metadata": {
  "kernelspec": {
   "display_name": "Python 3",
   "language": "python",
   "name": "python3"
  },
  "language_info": {
   "codemirror_mode": {
    "name": "ipython",
    "version": 3
   },
   "file_extension": ".py",
   "mimetype": "text/x-python",
   "name": "python",
   "nbconvert_exporter": "python",
   "pygments_lexer": "ipython3",
   "version": "3.8.8"
  }
 },
 "nbformat": 4,
 "nbformat_minor": 5
}
