{
 "cells": [
  {
   "cell_type": "markdown",
   "id": "81d0803a",
   "metadata": {},
   "source": [
    "# Supermarket Data: Analysis"
   ]
  },
  {
   "cell_type": "code",
   "execution_count": 1,
   "id": "06bd7015",
   "metadata": {},
   "outputs": [],
   "source": [
    "import pandas as pd\n",
    "import matplotlib.pyplot as plt\n",
    "plt.rcParams['figure.figsize'] = [11,4]"
   ]
  },
  {
   "cell_type": "markdown",
   "id": "322d7c79",
   "metadata": {},
   "source": [
    "## Load Data"
   ]
  },
  {
   "cell_type": "code",
   "execution_count": 2,
   "id": "9bc5db25",
   "metadata": {},
   "outputs": [],
   "source": [
    "days = ['monday', 'tuesday', 'wednesday', 'thursday', 'friday']\n",
    "df = None\n",
    "for i,day in enumerate(days):\n",
    "    new_df = pd.read_csv(f'../data/{day}.csv', sep=';')\n",
    "    new_df['timestamp'] = pd.to_datetime(new_df['timestamp'], format=\"%Y-%m-%d %H:%M:%S\")\n",
    "    new_df['customer_no'] = day + '_' + new_df['customer_no'].astype(str)\n",
    "    if i == 0:\n",
    "        df = new_df\n",
    "    else:\n",
    "        df = pd.concat((df,new_df))"
   ]
  },
  {
   "cell_type": "code",
   "execution_count": 3,
   "id": "6b6a2950",
   "metadata": {},
   "outputs": [
    {
     "data": {
      "text/html": [
       "<div>\n",
       "<style scoped>\n",
       "    .dataframe tbody tr th:only-of-type {\n",
       "        vertical-align: middle;\n",
       "    }\n",
       "\n",
       "    .dataframe tbody tr th {\n",
       "        vertical-align: top;\n",
       "    }\n",
       "\n",
       "    .dataframe thead th {\n",
       "        text-align: right;\n",
       "    }\n",
       "</style>\n",
       "<table border=\"1\" class=\"dataframe\">\n",
       "  <thead>\n",
       "    <tr style=\"text-align: right;\">\n",
       "      <th></th>\n",
       "      <th>timestamp</th>\n",
       "      <th>customer_no</th>\n",
       "      <th>location</th>\n",
       "    </tr>\n",
       "  </thead>\n",
       "  <tbody>\n",
       "    <tr>\n",
       "      <th>0</th>\n",
       "      <td>2019-09-02 07:03:00</td>\n",
       "      <td>monday_1</td>\n",
       "      <td>dairy</td>\n",
       "    </tr>\n",
       "    <tr>\n",
       "      <th>1</th>\n",
       "      <td>2019-09-02 07:03:00</td>\n",
       "      <td>monday_2</td>\n",
       "      <td>dairy</td>\n",
       "    </tr>\n",
       "    <tr>\n",
       "      <th>2</th>\n",
       "      <td>2019-09-02 07:04:00</td>\n",
       "      <td>monday_3</td>\n",
       "      <td>dairy</td>\n",
       "    </tr>\n",
       "    <tr>\n",
       "      <th>3</th>\n",
       "      <td>2019-09-02 07:04:00</td>\n",
       "      <td>monday_4</td>\n",
       "      <td>dairy</td>\n",
       "    </tr>\n",
       "    <tr>\n",
       "      <th>4</th>\n",
       "      <td>2019-09-02 07:04:00</td>\n",
       "      <td>monday_5</td>\n",
       "      <td>spices</td>\n",
       "    </tr>\n",
       "  </tbody>\n",
       "</table>\n",
       "</div>"
      ],
      "text/plain": [
       "            timestamp customer_no location\n",
       "0 2019-09-02 07:03:00    monday_1    dairy\n",
       "1 2019-09-02 07:03:00    monday_2    dairy\n",
       "2 2019-09-02 07:04:00    monday_3    dairy\n",
       "3 2019-09-02 07:04:00    monday_4    dairy\n",
       "4 2019-09-02 07:04:00    monday_5   spices"
      ]
     },
     "execution_count": 3,
     "metadata": {},
     "output_type": "execute_result"
    }
   ],
   "source": [
    "df.head()"
   ]
  },
  {
   "cell_type": "code",
   "execution_count": 4,
   "id": "51d9e53b",
   "metadata": {},
   "outputs": [
    {
     "data": {
      "text/plain": [
       "(24877, 3)"
      ]
     },
     "execution_count": 4,
     "metadata": {},
     "output_type": "execute_result"
    }
   ],
   "source": [
    "df.shape"
   ]
  },
  {
   "cell_type": "markdown",
   "id": "edb5f29a",
   "metadata": {},
   "source": [
    "## Cleaning\n",
    "\n",
    "* When the shop closes, the remaining customers are rushed through the checkout. Their checkout is not recorded, so it may look as if they stay in the market forever.\n",
    "* Closing time: 10 p.m. (?)"
   ]
  },
  {
   "cell_type": "code",
   "execution_count": 5,
   "id": "143dee64",
   "metadata": {},
   "outputs": [
    {
     "data": {
      "text/plain": [
       "Timestamp('2019-09-06 22:00:00')"
      ]
     },
     "execution_count": 5,
     "metadata": {},
     "output_type": "execute_result"
    }
   ],
   "source": [
    "latest_ts = df['timestamp'].max()\n",
    "closing_time = latest_ts.replace(hour=22, minute=0, second=0) # https://stackoverflow.com/a/26883852\n",
    "closing_time"
   ]
  },
  {
   "cell_type": "markdown",
   "id": "2b06b596",
   "metadata": {},
   "source": [
    "## Explore"
   ]
  },
  {
   "cell_type": "markdown",
   "id": "13b61cdc",
   "metadata": {},
   "source": [
    "### Total number of customers in each section."
   ]
  },
  {
   "cell_type": "code",
   "execution_count": 6,
   "id": "a3c2e561",
   "metadata": {},
   "outputs": [
    {
     "data": {
      "text/plain": [
       "<AxesSubplot:xlabel='location'>"
      ]
     },
     "execution_count": 6,
     "metadata": {},
     "output_type": "execute_result"
    },
    {
     "data": {
      "image/png": "[encoded data removed]",
      "text/plain": [
       "<Figure size 792x288 with 1 Axes>"
      ]
     },
     "metadata": {
      "needs_background": "light"
     },
     "output_type": "display_data"
    }
   ],
   "source": [
    "df.groupby('location').nunique()['customer_no'].plot.bar(legend=False)"
   ]
  },
  {
   "cell_type": "markdown",
   "id": "de25e93e",
   "metadata": {},
   "source": [
    "### Total number of customers in each section over time.\n",
    "\n",
    "* *Thanks to https://stackoverflow.com/a/48356232*\n",
    "* see also https://pandas.pydata.org/pandas-docs/stable/user_guide/timeseries.html#dateoffset-objects"
   ]
  },
  {
   "cell_type": "code",
   "execution_count": 7,
   "id": "e6a75a67",
   "metadata": {},
   "outputs": [
    {
     "data": {
      "text/html": [
       "<div>\n",
       "<style scoped>\n",
       "    .dataframe tbody tr th:only-of-type {\n",
       "        vertical-align: middle;\n",
       "    }\n",
       "\n",
       "    .dataframe tbody tr th {\n",
       "        vertical-align: top;\n",
       "    }\n",
       "\n",
       "    .dataframe thead tr th {\n",
       "        text-align: left;\n",
       "    }\n",
       "\n",
       "    .dataframe thead tr:last-of-type th {\n",
       "        text-align: right;\n",
       "    }\n",
       "</style>\n",
       "<table border=\"1\" class=\"dataframe\">\n",
       "  <thead>\n",
       "    <tr>\n",
       "      <th></th>\n",
       "      <th colspan=\"21\" halign=\"left\">customer_no</th>\n",
       "    </tr>\n",
       "    <tr>\n",
       "      <th>timestamp</th>\n",
       "      <th>2019-09-02 07:00:00</th>\n",
       "      <th>2019-09-02 08:00:00</th>\n",
       "      <th>2019-09-02 09:00:00</th>\n",
       "      <th>2019-09-02 10:00:00</th>\n",
       "      <th>2019-09-02 11:00:00</th>\n",
       "      <th>2019-09-02 12:00:00</th>\n",
       "      <th>2019-09-02 13:00:00</th>\n",
       "      <th>2019-09-02 14:00:00</th>\n",
       "      <th>2019-09-02 15:00:00</th>\n",
       "      <th>2019-09-02 16:00:00</th>\n",
       "      <th>...</th>\n",
       "      <th>2019-09-06 12:00:00</th>\n",
       "      <th>2019-09-06 13:00:00</th>\n",
       "      <th>2019-09-06 14:00:00</th>\n",
       "      <th>2019-09-06 15:00:00</th>\n",
       "      <th>2019-09-06 16:00:00</th>\n",
       "      <th>2019-09-06 17:00:00</th>\n",
       "      <th>2019-09-06 18:00:00</th>\n",
       "      <th>2019-09-06 19:00:00</th>\n",
       "      <th>2019-09-06 20:00:00</th>\n",
       "      <th>2019-09-06 21:00:00</th>\n",
       "    </tr>\n",
       "    <tr>\n",
       "      <th>location</th>\n",
       "      <th></th>\n",
       "      <th></th>\n",
       "      <th></th>\n",
       "      <th></th>\n",
       "      <th></th>\n",
       "      <th></th>\n",
       "      <th></th>\n",
       "      <th></th>\n",
       "      <th></th>\n",
       "      <th></th>\n",
       "      <th></th>\n",
       "      <th></th>\n",
       "      <th></th>\n",
       "      <th></th>\n",
       "      <th></th>\n",
       "      <th></th>\n",
       "      <th></th>\n",
       "      <th></th>\n",
       "      <th></th>\n",
       "      <th></th>\n",
       "      <th></th>\n",
       "    </tr>\n",
       "  </thead>\n",
       "  <tbody>\n",
       "    <tr>\n",
       "      <th>checkout</th>\n",
       "      <td>92</td>\n",
       "      <td>112</td>\n",
       "      <td>85</td>\n",
       "      <td>90</td>\n",
       "      <td>55</td>\n",
       "      <td>73</td>\n",
       "      <td>120</td>\n",
       "      <td>90</td>\n",
       "      <td>94</td>\n",
       "      <td>86</td>\n",
       "      <td>...</td>\n",
       "      <td>90</td>\n",
       "      <td>108</td>\n",
       "      <td>108</td>\n",
       "      <td>81</td>\n",
       "      <td>102</td>\n",
       "      <td>115</td>\n",
       "      <td>148</td>\n",
       "      <td>135</td>\n",
       "      <td>103</td>\n",
       "      <td>52</td>\n",
       "    </tr>\n",
       "    <tr>\n",
       "      <th>dairy</th>\n",
       "      <td>52</td>\n",
       "      <td>59</td>\n",
       "      <td>42</td>\n",
       "      <td>48</td>\n",
       "      <td>30</td>\n",
       "      <td>44</td>\n",
       "      <td>57</td>\n",
       "      <td>51</td>\n",
       "      <td>54</td>\n",
       "      <td>42</td>\n",
       "      <td>...</td>\n",
       "      <td>37</td>\n",
       "      <td>63</td>\n",
       "      <td>53</td>\n",
       "      <td>35</td>\n",
       "      <td>48</td>\n",
       "      <td>63</td>\n",
       "      <td>82</td>\n",
       "      <td>68</td>\n",
       "      <td>42</td>\n",
       "      <td>31</td>\n",
       "    </tr>\n",
       "    <tr>\n",
       "      <th>drinks</th>\n",
       "      <td>52</td>\n",
       "      <td>55</td>\n",
       "      <td>48</td>\n",
       "      <td>30</td>\n",
       "      <td>19</td>\n",
       "      <td>30</td>\n",
       "      <td>44</td>\n",
       "      <td>39</td>\n",
       "      <td>40</td>\n",
       "      <td>47</td>\n",
       "      <td>...</td>\n",
       "      <td>46</td>\n",
       "      <td>43</td>\n",
       "      <td>39</td>\n",
       "      <td>37</td>\n",
       "      <td>47</td>\n",
       "      <td>56</td>\n",
       "      <td>70</td>\n",
       "      <td>65</td>\n",
       "      <td>48</td>\n",
       "      <td>28</td>\n",
       "    </tr>\n",
       "    <tr>\n",
       "      <th>fruit</th>\n",
       "      <td>48</td>\n",
       "      <td>61</td>\n",
       "      <td>66</td>\n",
       "      <td>43</td>\n",
       "      <td>35</td>\n",
       "      <td>48</td>\n",
       "      <td>75</td>\n",
       "      <td>53</td>\n",
       "      <td>64</td>\n",
       "      <td>54</td>\n",
       "      <td>...</td>\n",
       "      <td>46</td>\n",
       "      <td>60</td>\n",
       "      <td>70</td>\n",
       "      <td>52</td>\n",
       "      <td>55</td>\n",
       "      <td>75</td>\n",
       "      <td>89</td>\n",
       "      <td>76</td>\n",
       "      <td>57</td>\n",
       "      <td>28</td>\n",
       "    </tr>\n",
       "    <tr>\n",
       "      <th>spices</th>\n",
       "      <td>41</td>\n",
       "      <td>42</td>\n",
       "      <td>36</td>\n",
       "      <td>41</td>\n",
       "      <td>22</td>\n",
       "      <td>33</td>\n",
       "      <td>51</td>\n",
       "      <td>41</td>\n",
       "      <td>40</td>\n",
       "      <td>40</td>\n",
       "      <td>...</td>\n",
       "      <td>38</td>\n",
       "      <td>53</td>\n",
       "      <td>44</td>\n",
       "      <td>31</td>\n",
       "      <td>45</td>\n",
       "      <td>55</td>\n",
       "      <td>75</td>\n",
       "      <td>53</td>\n",
       "      <td>44</td>\n",
       "      <td>15</td>\n",
       "    </tr>\n",
       "  </tbody>\n",
       "</table>\n",
       "<p>5 rows × 75 columns</p>\n",
       "</div>"
      ],
      "text/plain": [
       "                  customer_no                                          \\\n",
       "timestamp 2019-09-02 07:00:00 2019-09-02 08:00:00 2019-09-02 09:00:00   \n",
       "location                                                                \n",
       "checkout                   92                 112                  85   \n",
       "dairy                      52                  59                  42   \n",
       "drinks                     52                  55                  48   \n",
       "fruit                      48                  61                  66   \n",
       "spices                     41                  42                  36   \n",
       "\n",
       "                                                                       \\\n",
       "timestamp 2019-09-02 10:00:00 2019-09-02 11:00:00 2019-09-02 12:00:00   \n",
       "location                                                                \n",
       "checkout                   90                  55                  73   \n",
       "dairy                      48                  30                  44   \n",
       "drinks                     30                  19                  30   \n",
       "fruit                      43                  35                  48   \n",
       "spices                     41                  22                  33   \n",
       "\n",
       "                                                                       \\\n",
       "timestamp 2019-09-02 13:00:00 2019-09-02 14:00:00 2019-09-02 15:00:00   \n",
       "location                                                                \n",
       "checkout                  120                  90                  94   \n",
       "dairy                      57                  51                  54   \n",
       "drinks                     44                  39                  40   \n",
       "fruit                      75                  53                  64   \n",
       "spices                     51                  41                  40   \n",
       "\n",
       "                               ...                                          \\\n",
       "timestamp 2019-09-02 16:00:00  ... 2019-09-06 12:00:00 2019-09-06 13:00:00   \n",
       "location                       ...                                           \n",
       "checkout                   86  ...                  90                 108   \n",
       "dairy                      42  ...                  37                  63   \n",
       "drinks                     47  ...                  46                  43   \n",
       "fruit                      54  ...                  46                  60   \n",
       "spices                     40  ...                  38                  53   \n",
       "\n",
       "                                                                       \\\n",
       "timestamp 2019-09-06 14:00:00 2019-09-06 15:00:00 2019-09-06 16:00:00   \n",
       "location                                                                \n",
       "checkout                  108                  81                 102   \n",
       "dairy                      53                  35                  48   \n",
       "drinks                     39                  37                  47   \n",
       "fruit                      70                  52                  55   \n",
       "spices                     44                  31                  45   \n",
       "\n",
       "                                                                       \\\n",
       "timestamp 2019-09-06 17:00:00 2019-09-06 18:00:00 2019-09-06 19:00:00   \n",
       "location                                                                \n",
       "checkout                  115                 148                 135   \n",
       "dairy                      63                  82                  68   \n",
       "drinks                     56                  70                  65   \n",
       "fruit                      75                  89                  76   \n",
       "spices                     55                  75                  53   \n",
       "\n",
       "                                                   \n",
       "timestamp 2019-09-06 20:00:00 2019-09-06 21:00:00  \n",
       "location                                           \n",
       "checkout                  103                  52  \n",
       "dairy                      42                  31  \n",
       "drinks                     48                  28  \n",
       "fruit                      57                  28  \n",
       "spices                     44                  15  \n",
       "\n",
       "[5 rows x 75 columns]"
      ]
     },
     "execution_count": 7,
     "metadata": {},
     "output_type": "execute_result"
    }
   ],
   "source": [
    "df.groupby(['location' , pd.Grouper(key='timestamp',freq='H')]).nunique().unstack(fill_value=0)"
   ]
  },
  {
   "cell_type": "markdown",
   "id": "3bd660b1",
   "metadata": {},
   "source": [
    "### Display the number of customers at checkout over time."
   ]
  },
  {
   "cell_type": "code",
   "execution_count": 8,
   "id": "3cda0ccd",
   "metadata": {},
   "outputs": [
    {
     "data": {
      "text/plain": [
       "<StemContainer object of 3 artists>"
      ]
     },
     "execution_count": 8,
     "metadata": {},
     "output_type": "execute_result"
    },
    {
     "data": {
      "image/png": "[encoded data removed]",
      "text/plain": [
       "<Figure size 792x288 with 1 Axes>"
      ]
     },
     "metadata": {
      "needs_background": "light"
     },
     "output_type": "display_data"
    }
   ],
   "source": [
    "sub_df = df[ df['location'].eq('checkout') ].groupby(pd.Grouper(key='timestamp',freq='H')).nunique()['customer_no']\n",
    "plt.stem(sub_df)"
   ]
  },
  {
   "cell_type": "markdown",
   "id": "511f2172",
   "metadata": {},
   "source": [
    "### The time each customer spent in the market.\n",
    "\n",
    "*See also https://pandas.pydata.org/pandas-docs/stable/user_guide/groupby.html#aggregation*"
   ]
  },
  {
   "cell_type": "code",
   "execution_count": 9,
   "id": "0bfe59e6",
   "metadata": {},
   "outputs": [
    {
     "data": {
      "text/plain": [
       "Text(0.5, 1.0, '')"
      ]
     },
     "execution_count": 9,
     "metadata": {},
     "output_type": "execute_result"
    },
    {
     "data": {
      "image/png": "[encoded data removed]",
      "text/plain": [
       "<Figure size 792x288 with 1 Axes>"
      ]
     },
     "metadata": {
      "needs_background": "light"
     },
     "output_type": "display_data"
    }
   ],
   "source": [
    "def timedelta_in_minutes(series):\n",
    "    delta = series.max() - series.min()\n",
    "    delta_minutes = delta.total_seconds() / 60\n",
    "    return delta_minutes\n",
    "\n",
    "df[['timestamp','customer_no']].groupby('customer_no').agg(timedelta_in_minutes).hist()\n",
    "plt.gca().set_xlabel('Time spent in minutes'); plt.gca().set_title('')"
   ]
  },
  {
   "cell_type": "markdown",
   "id": "3c1652bb",
   "metadata": {},
   "source": [
    "Most customer spend less than 10 minutes."
   ]
  },
  {
   "cell_type": "markdown",
   "id": "6416e804",
   "metadata": {},
   "source": [
    "### Total number of customers in the supermarket over time."
   ]
  },
  {
   "cell_type": "code",
   "execution_count": 10,
   "id": "2e4a1157",
   "metadata": {},
   "outputs": [
    {
     "data": {
      "text/plain": [
       "<StemContainer object of 3 artists>"
      ]
     },
     "execution_count": 10,
     "metadata": {},
     "output_type": "execute_result"
    },
    {
     "data": {
      "image/png": "[encoded data removed]",
      "text/plain": [
       "<Figure size 792x288 with 1 Axes>"
      ]
     },
     "metadata": {
      "needs_background": "light"
     },
     "output_type": "display_data"
    }
   ],
   "source": [
    "sub_df = df.groupby(pd.Grouper(key='timestamp',freq='H')).nunique()['customer_no']\n",
    "plt.stem(sub_df)"
   ]
  },
  {
   "cell_type": "markdown",
   "id": "78f4b824",
   "metadata": {},
   "source": [
    "### Our business managers think that the first section customers visit follows a different pattern than the following ones. Plot the distribution of customers of their first visited section versus following sections (treat all sections visited after the first as “following”).\n",
    "\n",
    "* *https://stackoverflow.com/a/49263586*\n",
    "* *https://stackoverflow.com/a/55583395*"
   ]
  },
  {
   "cell_type": "code",
   "execution_count": 11,
   "id": "d5baa3e4",
   "metadata": {},
   "outputs": [],
   "source": [
    "# assert sorting\n",
    "df.sort_values(by='timestamp', inplace=True)"
   ]
  },
  {
   "cell_type": "code",
   "execution_count": 12,
   "id": "5d6b9078",
   "metadata": {},
   "outputs": [
    {
     "data": {
      "text/html": [
       "<div>\n",
       "<style scoped>\n",
       "    .dataframe tbody tr th:only-of-type {\n",
       "        vertical-align: middle;\n",
       "    }\n",
       "\n",
       "    .dataframe tbody tr th {\n",
       "        vertical-align: top;\n",
       "    }\n",
       "\n",
       "    .dataframe thead th {\n",
       "        text-align: right;\n",
       "    }\n",
       "</style>\n",
       "<table border=\"1\" class=\"dataframe\">\n",
       "  <thead>\n",
       "    <tr style=\"text-align: right;\">\n",
       "      <th></th>\n",
       "      <th>timestamp</th>\n",
       "    </tr>\n",
       "    <tr>\n",
       "      <th>location</th>\n",
       "      <th></th>\n",
       "    </tr>\n",
       "  </thead>\n",
       "  <tbody>\n",
       "    <tr>\n",
       "      <th>dairy</th>\n",
       "      <td>2141</td>\n",
       "    </tr>\n",
       "    <tr>\n",
       "      <th>drinks</th>\n",
       "      <td>1143</td>\n",
       "    </tr>\n",
       "    <tr>\n",
       "      <th>fruit</th>\n",
       "      <td>2810</td>\n",
       "    </tr>\n",
       "    <tr>\n",
       "      <th>spices</th>\n",
       "      <td>1351</td>\n",
       "    </tr>\n",
       "  </tbody>\n",
       "</table>\n",
       "</div>"
      ],
      "text/plain": [
       "          timestamp\n",
       "location           \n",
       "dairy          2141\n",
       "drinks         1143\n",
       "fruit          2810\n",
       "spices         1351"
      ]
     },
     "execution_count": 12,
     "metadata": {},
     "output_type": "execute_result"
    }
   ],
   "source": [
    "df_first = df.groupby('customer_no').first().groupby('location').count()\n",
    "df_first"
   ]
  },
  {
   "cell_type": "code",
   "execution_count": 13,
   "id": "475ae3ea",
   "metadata": {},
   "outputs": [
    {
     "data": {
      "text/html": [
       "<div>\n",
       "<style scoped>\n",
       "    .dataframe tbody tr th:only-of-type {\n",
       "        vertical-align: middle;\n",
       "    }\n",
       "\n",
       "    .dataframe tbody tr th {\n",
       "        vertical-align: top;\n",
       "    }\n",
       "\n",
       "    .dataframe thead th {\n",
       "        text-align: right;\n",
       "    }\n",
       "</style>\n",
       "<table border=\"1\" class=\"dataframe\">\n",
       "  <thead>\n",
       "    <tr style=\"text-align: right;\">\n",
       "      <th></th>\n",
       "      <th>timestamp</th>\n",
       "    </tr>\n",
       "    <tr>\n",
       "      <th>location</th>\n",
       "      <th></th>\n",
       "    </tr>\n",
       "  </thead>\n",
       "  <tbody>\n",
       "    <tr>\n",
       "      <th>checkout</th>\n",
       "      <td>7417</td>\n",
       "    </tr>\n",
       "    <tr>\n",
       "      <th>dairy</th>\n",
       "      <td>2538</td>\n",
       "    </tr>\n",
       "    <tr>\n",
       "      <th>drinks</th>\n",
       "      <td>2762</td>\n",
       "    </tr>\n",
       "    <tr>\n",
       "      <th>fruit</th>\n",
       "      <td>2312</td>\n",
       "    </tr>\n",
       "    <tr>\n",
       "      <th>spices</th>\n",
       "      <td>2403</td>\n",
       "    </tr>\n",
       "  </tbody>\n",
       "</table>\n",
       "</div>"
      ],
      "text/plain": [
       "          timestamp\n",
       "location           \n",
       "checkout       7417\n",
       "dairy          2538\n",
       "drinks         2762\n",
       "fruit          2312\n",
       "spices         2403"
      ]
     },
     "execution_count": 13,
     "metadata": {},
     "output_type": "execute_result"
    }
   ],
   "source": [
    "def tail(df):\n",
    "    return df[1:]\n",
    "df_following = df.groupby('customer_no').apply(tail).groupby('location').count()[['timestamp']]\n",
    "df_following"
   ]
  },
  {
   "cell_type": "code",
   "execution_count": 14,
   "id": "c847f120",
   "metadata": {},
   "outputs": [],
   "source": [
    "df_first.rename(mapper={df_first.columns[0]:'first'}, axis=1, inplace=True)\n",
    "df_following.rename(mapper={df_following.columns[0]:'following'}, axis=1, inplace=True)\n",
    "df_counts = pd.concat([df_first,df_following],axis=1)"
   ]
  },
  {
   "cell_type": "code",
   "execution_count": 15,
   "id": "c683ccde",
   "metadata": {},
   "outputs": [
    {
     "data": {
      "text/plain": [
       "<AxesSubplot:xlabel='location'>"
      ]
     },
     "execution_count": 15,
     "metadata": {},
     "output_type": "execute_result"
    },
    {
     "data": {
      "image/png": "[encoded data removed]",
      "text/plain": [
       "<Figure size 792x288 with 1 Axes>"
      ]
     },
     "metadata": {
      "needs_background": "light"
     },
     "output_type": "display_data"
    }
   ],
   "source": [
    "df_counts.plot.bar()"
   ]
  },
  {
   "cell_type": "markdown",
   "id": "fddc5c0d",
   "metadata": {},
   "source": [
    "* Nobody starts at checkout which makes sense.\n",
    "* Significant less people go for drinks or spices at first."
   ]
  },
  {
   "cell_type": "markdown",
   "id": "c61c706d",
   "metadata": {},
   "source": [
    "## Markov Chain Model\n",
    "\n",
    "* https://stackoverflow.com/a/37603767\n",
    "* https://pandas.pydata.org/docs/reference/api/pandas.core.groupby.DataFrameGroupBy.shift.html\n",
    "* (!) https://stackoverflow.com/q/57708333"
   ]
  },
  {
   "cell_type": "code",
   "execution_count": 16,
   "id": "a17ea930",
   "metadata": {},
   "outputs": [],
   "source": [
    "df['location_next'] = df.groupby('customer_no')['location'].shift(-1).fillna('checkout')"
   ]
  },
  {
   "cell_type": "markdown",
   "id": "8ad0acc9",
   "metadata": {},
   "source": [
    "### Sanity Check\n",
    "\n",
    "One specific customer story. Note that we model *checkout* as an absorbing state."
   ]
  },
  {
   "cell_type": "code",
   "execution_count": 17,
   "id": "dad7eb23",
   "metadata": {},
   "outputs": [
    {
     "data": {
      "text/html": [
       "<div>\n",
       "<style scoped>\n",
       "    .dataframe tbody tr th:only-of-type {\n",
       "        vertical-align: middle;\n",
       "    }\n",
       "\n",
       "    .dataframe tbody tr th {\n",
       "        vertical-align: top;\n",
       "    }\n",
       "\n",
       "    .dataframe thead th {\n",
       "        text-align: right;\n",
       "    }\n",
       "</style>\n",
       "<table border=\"1\" class=\"dataframe\">\n",
       "  <thead>\n",
       "    <tr style=\"text-align: right;\">\n",
       "      <th></th>\n",
       "      <th>timestamp</th>\n",
       "      <th>customer_no</th>\n",
       "      <th>location</th>\n",
       "      <th>location_next</th>\n",
       "    </tr>\n",
       "  </thead>\n",
       "  <tbody>\n",
       "    <tr>\n",
       "      <th>5</th>\n",
       "      <td>2019-09-02 07:04:00</td>\n",
       "      <td>monday_6</td>\n",
       "      <td>spices</td>\n",
       "      <td>dairy</td>\n",
       "    </tr>\n",
       "    <tr>\n",
       "      <th>10</th>\n",
       "      <td>2019-09-02 07:05:00</td>\n",
       "      <td>monday_6</td>\n",
       "      <td>dairy</td>\n",
       "      <td>spices</td>\n",
       "    </tr>\n",
       "    <tr>\n",
       "      <th>62</th>\n",
       "      <td>2019-09-02 07:17:00</td>\n",
       "      <td>monday_6</td>\n",
       "      <td>spices</td>\n",
       "      <td>drinks</td>\n",
       "    </tr>\n",
       "    <tr>\n",
       "      <th>71</th>\n",
       "      <td>2019-09-02 07:18:00</td>\n",
       "      <td>monday_6</td>\n",
       "      <td>drinks</td>\n",
       "      <td>spices</td>\n",
       "    </tr>\n",
       "    <tr>\n",
       "      <th>102</th>\n",
       "      <td>2019-09-02 07:25:00</td>\n",
       "      <td>monday_6</td>\n",
       "      <td>spices</td>\n",
       "      <td>dairy</td>\n",
       "    </tr>\n",
       "    <tr>\n",
       "      <th>104</th>\n",
       "      <td>2019-09-02 07:26:00</td>\n",
       "      <td>monday_6</td>\n",
       "      <td>dairy</td>\n",
       "      <td>spices</td>\n",
       "    </tr>\n",
       "    <tr>\n",
       "      <th>117</th>\n",
       "      <td>2019-09-02 07:27:00</td>\n",
       "      <td>monday_6</td>\n",
       "      <td>spices</td>\n",
       "      <td>checkout</td>\n",
       "    </tr>\n",
       "    <tr>\n",
       "      <th>135</th>\n",
       "      <td>2019-09-02 07:29:00</td>\n",
       "      <td>monday_6</td>\n",
       "      <td>checkout</td>\n",
       "      <td>checkout</td>\n",
       "    </tr>\n",
       "  </tbody>\n",
       "</table>\n",
       "</div>"
      ],
      "text/plain": [
       "              timestamp customer_no  location location_next\n",
       "5   2019-09-02 07:04:00    monday_6    spices         dairy\n",
       "10  2019-09-02 07:05:00    monday_6     dairy        spices\n",
       "62  2019-09-02 07:17:00    monday_6    spices        drinks\n",
       "71  2019-09-02 07:18:00    monday_6    drinks        spices\n",
       "102 2019-09-02 07:25:00    monday_6    spices         dairy\n",
       "104 2019-09-02 07:26:00    monday_6     dairy        spices\n",
       "117 2019-09-02 07:27:00    monday_6    spices      checkout\n",
       "135 2019-09-02 07:29:00    monday_6  checkout      checkout"
      ]
     },
     "execution_count": 17,
     "metadata": {},
     "output_type": "execute_result"
    }
   ],
   "source": [
    "df[ df['customer_no'].eq('monday_6') ]"
   ]
  },
  {
   "cell_type": "markdown",
   "id": "3d82b93f",
   "metadata": {},
   "source": [
    "### Transition Matrix"
   ]
  },
  {
   "cell_type": "code",
   "execution_count": 18,
   "id": "499c7aff",
   "metadata": {},
   "outputs": [
    {
     "data": {
      "text/html": [
       "<div>\n",
       "<style scoped>\n",
       "    .dataframe tbody tr th:only-of-type {\n",
       "        vertical-align: middle;\n",
       "    }\n",
       "\n",
       "    .dataframe tbody tr th {\n",
       "        vertical-align: top;\n",
       "    }\n",
       "\n",
       "    .dataframe thead th {\n",
       "        text-align: right;\n",
       "    }\n",
       "</style>\n",
       "<table border=\"1\" class=\"dataframe\">\n",
       "  <thead>\n",
       "    <tr style=\"text-align: right;\">\n",
       "      <th>location_next</th>\n",
       "      <th>checkout</th>\n",
       "      <th>dairy</th>\n",
       "      <th>drinks</th>\n",
       "      <th>fruit</th>\n",
       "      <th>spices</th>\n",
       "    </tr>\n",
       "    <tr>\n",
       "      <th>location</th>\n",
       "      <th></th>\n",
       "      <th></th>\n",
       "      <th></th>\n",
       "      <th></th>\n",
       "      <th></th>\n",
       "    </tr>\n",
       "  </thead>\n",
       "  <tbody>\n",
       "    <tr>\n",
       "      <th>checkout</th>\n",
       "      <td>1.000000</td>\n",
       "      <td>0.000000</td>\n",
       "      <td>0.000000</td>\n",
       "      <td>0.000000</td>\n",
       "      <td>0.000000</td>\n",
       "    </tr>\n",
       "    <tr>\n",
       "      <th>dairy</th>\n",
       "      <td>0.393033</td>\n",
       "      <td>0.000000</td>\n",
       "      <td>0.222483</td>\n",
       "      <td>0.189357</td>\n",
       "      <td>0.195127</td>\n",
       "    </tr>\n",
       "    <tr>\n",
       "      <th>drinks</th>\n",
       "      <td>0.537260</td>\n",
       "      <td>0.027145</td>\n",
       "      <td>0.000000</td>\n",
       "      <td>0.218950</td>\n",
       "      <td>0.216645</td>\n",
       "    </tr>\n",
       "    <tr>\n",
       "      <th>fruit</th>\n",
       "      <td>0.500195</td>\n",
       "      <td>0.237993</td>\n",
       "      <td>0.136080</td>\n",
       "      <td>0.000000</td>\n",
       "      <td>0.125732</td>\n",
       "    </tr>\n",
       "    <tr>\n",
       "      <th>spices</th>\n",
       "      <td>0.251998</td>\n",
       "      <td>0.323122</td>\n",
       "      <td>0.272776</td>\n",
       "      <td>0.152104</td>\n",
       "      <td>0.000000</td>\n",
       "    </tr>\n",
       "  </tbody>\n",
       "</table>\n",
       "</div>"
      ],
      "text/plain": [
       "location_next  checkout     dairy    drinks     fruit    spices\n",
       "location                                                       \n",
       "checkout       1.000000  0.000000  0.000000  0.000000  0.000000\n",
       "dairy          0.393033  0.000000  0.222483  0.189357  0.195127\n",
       "drinks         0.537260  0.027145  0.000000  0.218950  0.216645\n",
       "fruit          0.500195  0.237993  0.136080  0.000000  0.125732\n",
       "spices         0.251998  0.323122  0.272776  0.152104  0.000000"
      ]
     },
     "execution_count": 18,
     "metadata": {},
     "output_type": "execute_result"
    }
   ],
   "source": [
    "pd.crosstab(df['location'], df['location_next'], normalize=0)"
   ]
  },
  {
   "cell_type": "markdown",
   "id": "91abfe94",
   "metadata": {},
   "source": [
    "## Revenue Estimate\n",
    "\n",
    "Reveneu per minute:\n",
    "* fruit: 4 €\n",
    "* spices: 3 €\n",
    "* dairy: 5 €\n",
    "* drinks: 6 €"
   ]
  },
  {
   "cell_type": "code",
   "execution_count": 19,
   "id": "fd50309e",
   "metadata": {},
   "outputs": [],
   "source": [
    "rates = pd.DataFrame(data=dict(fruit=[4], spices=[3], dairy=[5], drinks=[6])).T"
   ]
  },
  {
   "cell_type": "code",
   "execution_count": 20,
   "id": "267b3e99",
   "metadata": {},
   "outputs": [],
   "source": [
    "df['timestamp_next'] = df.groupby('customer_no')['timestamp'].shift(-1)"
   ]
  },
  {
   "cell_type": "code",
   "execution_count": 21,
   "id": "d82b7bc1",
   "metadata": {},
   "outputs": [],
   "source": [
    "df['duration'] = df['timestamp_next'] - df['timestamp']\n",
    "df['duration'] = df['duration'].dt.total_seconds() / 60"
   ]
  },
  {
   "cell_type": "code",
   "execution_count": 22,
   "id": "0295393c",
   "metadata": {},
   "outputs": [
    {
     "data": {
      "text/html": [
       "<div>\n",
       "<style scoped>\n",
       "    .dataframe tbody tr th:only-of-type {\n",
       "        vertical-align: middle;\n",
       "    }\n",
       "\n",
       "    .dataframe tbody tr th {\n",
       "        vertical-align: top;\n",
       "    }\n",
       "\n",
       "    .dataframe thead th {\n",
       "        text-align: right;\n",
       "    }\n",
       "</style>\n",
       "<table border=\"1\" class=\"dataframe\">\n",
       "  <thead>\n",
       "    <tr style=\"text-align: right;\">\n",
       "      <th></th>\n",
       "      <th>duration</th>\n",
       "      <th>rates</th>\n",
       "      <th>revenue</th>\n",
       "    </tr>\n",
       "    <tr>\n",
       "      <th>location</th>\n",
       "      <th></th>\n",
       "      <th></th>\n",
       "      <th></th>\n",
       "    </tr>\n",
       "  </thead>\n",
       "  <tbody>\n",
       "    <tr>\n",
       "      <th>checkout</th>\n",
       "      <td>0.0</td>\n",
       "      <td>0.0</td>\n",
       "      <td>0.0</td>\n",
       "    </tr>\n",
       "    <tr>\n",
       "      <th>dairy</th>\n",
       "      <td>17760.0</td>\n",
       "      <td>5.0</td>\n",
       "      <td>88800.0</td>\n",
       "    </tr>\n",
       "    <tr>\n",
       "      <th>drinks</th>\n",
       "      <td>9724.0</td>\n",
       "      <td>6.0</td>\n",
       "      <td>58344.0</td>\n",
       "    </tr>\n",
       "    <tr>\n",
       "      <th>fruit</th>\n",
       "      <td>12701.0</td>\n",
       "      <td>4.0</td>\n",
       "      <td>50804.0</td>\n",
       "    </tr>\n",
       "    <tr>\n",
       "      <th>spices</th>\n",
       "      <td>6273.0</td>\n",
       "      <td>3.0</td>\n",
       "      <td>18819.0</td>\n",
       "    </tr>\n",
       "  </tbody>\n",
       "</table>\n",
       "</div>"
      ],
      "text/plain": [
       "          duration  rates  revenue\n",
       "location                          \n",
       "checkout       0.0    0.0      0.0\n",
       "dairy      17760.0    5.0  88800.0\n",
       "drinks      9724.0    6.0  58344.0\n",
       "fruit      12701.0    4.0  50804.0\n",
       "spices      6273.0    3.0  18819.0"
      ]
     },
     "execution_count": 22,
     "metadata": {},
     "output_type": "execute_result"
    }
   ],
   "source": [
    "time_spent = df.groupby('location')[['duration']].sum()\n",
    "time_spent['rates'] = rates\n",
    "time_spent.fillna(0, inplace=True)\n",
    "time_spent['revenue'] = time_spent['duration'] * time_spent['rates']\n",
    "time_spent"
   ]
  },
  {
   "cell_type": "code",
   "execution_count": 24,
   "id": "e33e58c0",
   "metadata": {},
   "outputs": [
    {
     "name": "stdout",
     "output_type": "stream",
     "text": [
      "216767.0 Euro\n"
     ]
    }
   ],
   "source": [
    "total_revenue = time_spent['revenue'].sum()\n",
    "print(f\"{total_revenue} Euro\")"
   ]
  }
 ],
 "metadata": {
  "kernelspec": {
   "display_name": "Python 3",
   "language": "python",
   "name": "python3"
  },
  "language_info": {
   "codemirror_mode": {
    "name": "ipython",
    "version": 3
   },
   "file_extension": ".py",
   "mimetype": "text/x-python",
   "name": "python",
   "nbconvert_exporter": "python",
   "pygments_lexer": "ipython3",
   "version": "3.8.8"
  }
 },
 "nbformat": 4,
 "nbformat_minor": 5
}
