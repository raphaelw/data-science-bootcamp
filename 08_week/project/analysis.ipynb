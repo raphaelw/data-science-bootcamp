{
 "cells": [
  {
   "cell_type": "markdown",
   "id": "34dd6969",
   "metadata": {},
   "source": [
    "# Supermarket Data: Analysis"
   ]
  },
  {
   "cell_type": "code",
   "execution_count": 1,
   "id": "f9d9a098",
   "metadata": {},
   "outputs": [],
   "source": [
    "import pandas as pd\n",
    "import matplotlib.pyplot as plt"
   ]
  },
  {
   "cell_type": "markdown",
   "id": "99af92d2",
   "metadata": {},
   "source": [
    "## Load Data"
   ]
  },
  {
   "cell_type": "code",
   "execution_count": 2,
   "id": "5a6f6bbc",
   "metadata": {},
   "outputs": [],
   "source": [
    "df = pd.read_csv('../data/monday.csv', sep=';')\n",
    "df['timestamp'] = pd.to_datetime(df['timestamp'], format=\"%Y-%m-%d %H:%M:%S\")"
   ]
  },
  {
   "cell_type": "markdown",
   "id": "1c3a719a",
   "metadata": {},
   "source": [
    "## Cleaning\n",
    "\n",
    "* When the shop closes, the remaining customers are rushed through the checkout. Their checkout is not recorded, so it may look as if they stay in the market forever.\n",
    "* Closing time: 10 p.m. (?)"
   ]
  },
  {
   "cell_type": "code",
   "execution_count": 3,
   "id": "484eac4d",
   "metadata": {},
   "outputs": [],
   "source": [
    "latest_ts = df['timestamp'].max()\n",
    "closing_time = latest_ts.replace(hour=22, minute=0, second=0) # https://stackoverflow.com/a/26883852"
   ]
  },
  {
   "cell_type": "code",
   "execution_count": 4,
   "id": "fa3eeb5d",
   "metadata": {},
   "outputs": [
    {
     "data": {
      "text/plain": [
       "Timestamp('2019-09-02 22:00:00')"
      ]
     },
     "execution_count": 4,
     "metadata": {},
     "output_type": "execute_result"
    }
   ],
   "source": [
    "# TODO ...\n",
    "closing_time"
   ]
  },
  {
   "cell_type": "code",
   "execution_count": 5,
   "id": "5b953506",
   "metadata": {},
   "outputs": [
    {
     "data": {
      "text/html": [
       "<div>\n",
       "<style scoped>\n",
       "    .dataframe tbody tr th:only-of-type {\n",
       "        vertical-align: middle;\n",
       "    }\n",
       "\n",
       "    .dataframe tbody tr th {\n",
       "        vertical-align: top;\n",
       "    }\n",
       "\n",
       "    .dataframe thead th {\n",
       "        text-align: right;\n",
       "    }\n",
       "</style>\n",
       "<table border=\"1\" class=\"dataframe\">\n",
       "  <thead>\n",
       "    <tr style=\"text-align: right;\">\n",
       "      <th></th>\n",
       "      <th>timestamp</th>\n",
       "      <th>customer_no</th>\n",
       "      <th>location</th>\n",
       "    </tr>\n",
       "  </thead>\n",
       "  <tbody>\n",
       "    <tr>\n",
       "      <th>0</th>\n",
       "      <td>2019-09-02 07:03:00</td>\n",
       "      <td>1</td>\n",
       "      <td>dairy</td>\n",
       "    </tr>\n",
       "    <tr>\n",
       "      <th>1</th>\n",
       "      <td>2019-09-02 07:03:00</td>\n",
       "      <td>2</td>\n",
       "      <td>dairy</td>\n",
       "    </tr>\n",
       "    <tr>\n",
       "      <th>2</th>\n",
       "      <td>2019-09-02 07:04:00</td>\n",
       "      <td>3</td>\n",
       "      <td>dairy</td>\n",
       "    </tr>\n",
       "    <tr>\n",
       "      <th>3</th>\n",
       "      <td>2019-09-02 07:04:00</td>\n",
       "      <td>4</td>\n",
       "      <td>dairy</td>\n",
       "    </tr>\n",
       "    <tr>\n",
       "      <th>4</th>\n",
       "      <td>2019-09-02 07:04:00</td>\n",
       "      <td>5</td>\n",
       "      <td>spices</td>\n",
       "    </tr>\n",
       "  </tbody>\n",
       "</table>\n",
       "</div>"
      ],
      "text/plain": [
       "            timestamp  customer_no location\n",
       "0 2019-09-02 07:03:00            1    dairy\n",
       "1 2019-09-02 07:03:00            2    dairy\n",
       "2 2019-09-02 07:04:00            3    dairy\n",
       "3 2019-09-02 07:04:00            4    dairy\n",
       "4 2019-09-02 07:04:00            5   spices"
      ]
     },
     "execution_count": 5,
     "metadata": {},
     "output_type": "execute_result"
    }
   ],
   "source": [
    "df.head()"
   ]
  },
  {
   "cell_type": "markdown",
   "id": "6d005d3e",
   "metadata": {},
   "source": [
    "## Explore"
   ]
  },
  {
   "cell_type": "markdown",
   "id": "b51fb134",
   "metadata": {},
   "source": [
    "### Total number of customers in each section."
   ]
  },
  {
   "cell_type": "code",
   "execution_count": 6,
   "id": "de1e5280",
   "metadata": {},
   "outputs": [
    {
     "data": {
      "text/plain": [
       "<AxesSubplot:xlabel='location'>"
      ]
     },
     "execution_count": 6,
     "metadata": {},
     "output_type": "execute_result"
    },
    {
     "data": {
      "image/png": "[encoded data removed]",
      "text/plain": [
       "<Figure size 432x288 with 1 Axes>"
      ]
     },
     "metadata": {
      "needs_background": "light"
     },
     "output_type": "display_data"
    }
   ],
   "source": [
    "df.groupby('location').nunique()['customer_no'].plot.bar(legend=False)"
   ]
  },
  {
   "cell_type": "markdown",
   "id": "0f31ce24",
   "metadata": {},
   "source": [
    "### Total number of customers in each section over time.\n",
    "\n",
    "* *Thanks to https://stackoverflow.com/a/48356232*\n",
    "* see also https://pandas.pydata.org/pandas-docs/stable/user_guide/timeseries.html#dateoffset-objects"
   ]
  },
  {
   "cell_type": "code",
   "execution_count": 7,
   "id": "810b2452",
   "metadata": {},
   "outputs": [
    {
     "data": {
      "text/html": [
       "<div>\n",
       "<style scoped>\n",
       "    .dataframe tbody tr th:only-of-type {\n",
       "        vertical-align: middle;\n",
       "    }\n",
       "\n",
       "    .dataframe tbody tr th {\n",
       "        vertical-align: top;\n",
       "    }\n",
       "\n",
       "    .dataframe thead tr th {\n",
       "        text-align: left;\n",
       "    }\n",
       "\n",
       "    .dataframe thead tr:last-of-type th {\n",
       "        text-align: right;\n",
       "    }\n",
       "</style>\n",
       "<table border=\"1\" class=\"dataframe\">\n",
       "  <thead>\n",
       "    <tr>\n",
       "      <th></th>\n",
       "      <th colspan=\"15\" halign=\"left\">customer_no</th>\n",
       "    </tr>\n",
       "    <tr>\n",
       "      <th>timestamp</th>\n",
       "      <th>2019-09-02 07:00:00</th>\n",
       "      <th>2019-09-02 08:00:00</th>\n",
       "      <th>2019-09-02 09:00:00</th>\n",
       "      <th>2019-09-02 10:00:00</th>\n",
       "      <th>2019-09-02 11:00:00</th>\n",
       "      <th>2019-09-02 12:00:00</th>\n",
       "      <th>2019-09-02 13:00:00</th>\n",
       "      <th>2019-09-02 14:00:00</th>\n",
       "      <th>2019-09-02 15:00:00</th>\n",
       "      <th>2019-09-02 16:00:00</th>\n",
       "      <th>2019-09-02 17:00:00</th>\n",
       "      <th>2019-09-02 18:00:00</th>\n",
       "      <th>2019-09-02 19:00:00</th>\n",
       "      <th>2019-09-02 20:00:00</th>\n",
       "      <th>2019-09-02 21:00:00</th>\n",
       "    </tr>\n",
       "    <tr>\n",
       "      <th>location</th>\n",
       "      <th></th>\n",
       "      <th></th>\n",
       "      <th></th>\n",
       "      <th></th>\n",
       "      <th></th>\n",
       "      <th></th>\n",
       "      <th></th>\n",
       "      <th></th>\n",
       "      <th></th>\n",
       "      <th></th>\n",
       "      <th></th>\n",
       "      <th></th>\n",
       "      <th></th>\n",
       "      <th></th>\n",
       "      <th></th>\n",
       "    </tr>\n",
       "  </thead>\n",
       "  <tbody>\n",
       "    <tr>\n",
       "      <th>checkout</th>\n",
       "      <td>92</td>\n",
       "      <td>112</td>\n",
       "      <td>85</td>\n",
       "      <td>90</td>\n",
       "      <td>55</td>\n",
       "      <td>73</td>\n",
       "      <td>120</td>\n",
       "      <td>90</td>\n",
       "      <td>94</td>\n",
       "      <td>86</td>\n",
       "      <td>122</td>\n",
       "      <td>128</td>\n",
       "      <td>129</td>\n",
       "      <td>109</td>\n",
       "      <td>52</td>\n",
       "    </tr>\n",
       "    <tr>\n",
       "      <th>dairy</th>\n",
       "      <td>52</td>\n",
       "      <td>59</td>\n",
       "      <td>42</td>\n",
       "      <td>48</td>\n",
       "      <td>30</td>\n",
       "      <td>44</td>\n",
       "      <td>57</td>\n",
       "      <td>51</td>\n",
       "      <td>54</td>\n",
       "      <td>42</td>\n",
       "      <td>66</td>\n",
       "      <td>73</td>\n",
       "      <td>53</td>\n",
       "      <td>54</td>\n",
       "      <td>20</td>\n",
       "    </tr>\n",
       "    <tr>\n",
       "      <th>drinks</th>\n",
       "      <td>52</td>\n",
       "      <td>55</td>\n",
       "      <td>48</td>\n",
       "      <td>30</td>\n",
       "      <td>19</td>\n",
       "      <td>30</td>\n",
       "      <td>44</td>\n",
       "      <td>39</td>\n",
       "      <td>40</td>\n",
       "      <td>47</td>\n",
       "      <td>55</td>\n",
       "      <td>69</td>\n",
       "      <td>60</td>\n",
       "      <td>60</td>\n",
       "      <td>27</td>\n",
       "    </tr>\n",
       "    <tr>\n",
       "      <th>fruit</th>\n",
       "      <td>48</td>\n",
       "      <td>61</td>\n",
       "      <td>66</td>\n",
       "      <td>43</td>\n",
       "      <td>35</td>\n",
       "      <td>48</td>\n",
       "      <td>75</td>\n",
       "      <td>53</td>\n",
       "      <td>64</td>\n",
       "      <td>54</td>\n",
       "      <td>72</td>\n",
       "      <td>69</td>\n",
       "      <td>71</td>\n",
       "      <td>56</td>\n",
       "      <td>29</td>\n",
       "    </tr>\n",
       "    <tr>\n",
       "      <th>spices</th>\n",
       "      <td>41</td>\n",
       "      <td>42</td>\n",
       "      <td>36</td>\n",
       "      <td>41</td>\n",
       "      <td>22</td>\n",
       "      <td>33</td>\n",
       "      <td>51</td>\n",
       "      <td>41</td>\n",
       "      <td>40</td>\n",
       "      <td>40</td>\n",
       "      <td>39</td>\n",
       "      <td>61</td>\n",
       "      <td>50</td>\n",
       "      <td>39</td>\n",
       "      <td>18</td>\n",
       "    </tr>\n",
       "  </tbody>\n",
       "</table>\n",
       "</div>"
      ],
      "text/plain": [
       "                  customer_no                                          \\\n",
       "timestamp 2019-09-02 07:00:00 2019-09-02 08:00:00 2019-09-02 09:00:00   \n",
       "location                                                                \n",
       "checkout                   92                 112                  85   \n",
       "dairy                      52                  59                  42   \n",
       "drinks                     52                  55                  48   \n",
       "fruit                      48                  61                  66   \n",
       "spices                     41                  42                  36   \n",
       "\n",
       "                                                                       \\\n",
       "timestamp 2019-09-02 10:00:00 2019-09-02 11:00:00 2019-09-02 12:00:00   \n",
       "location                                                                \n",
       "checkout                   90                  55                  73   \n",
       "dairy                      48                  30                  44   \n",
       "drinks                     30                  19                  30   \n",
       "fruit                      43                  35                  48   \n",
       "spices                     41                  22                  33   \n",
       "\n",
       "                                                                       \\\n",
       "timestamp 2019-09-02 13:00:00 2019-09-02 14:00:00 2019-09-02 15:00:00   \n",
       "location                                                                \n",
       "checkout                  120                  90                  94   \n",
       "dairy                      57                  51                  54   \n",
       "drinks                     44                  39                  40   \n",
       "fruit                      75                  53                  64   \n",
       "spices                     51                  41                  40   \n",
       "\n",
       "                                                                       \\\n",
       "timestamp 2019-09-02 16:00:00 2019-09-02 17:00:00 2019-09-02 18:00:00   \n",
       "location                                                                \n",
       "checkout                   86                 122                 128   \n",
       "dairy                      42                  66                  73   \n",
       "drinks                     47                  55                  69   \n",
       "fruit                      54                  72                  69   \n",
       "spices                     40                  39                  61   \n",
       "\n",
       "                                                                       \n",
       "timestamp 2019-09-02 19:00:00 2019-09-02 20:00:00 2019-09-02 21:00:00  \n",
       "location                                                               \n",
       "checkout                  129                 109                  52  \n",
       "dairy                      53                  54                  20  \n",
       "drinks                     60                  60                  27  \n",
       "fruit                      71                  56                  29  \n",
       "spices                     50                  39                  18  "
      ]
     },
     "execution_count": 7,
     "metadata": {},
     "output_type": "execute_result"
    }
   ],
   "source": [
    "df.groupby(['location' , pd.Grouper(key='timestamp',freq='H')]).nunique().unstack(fill_value=0)"
   ]
  },
  {
   "cell_type": "markdown",
   "id": "dcfaa0fa",
   "metadata": {},
   "source": [
    "### Display the number of customers at checkout over time."
   ]
  },
  {
   "cell_type": "code",
   "execution_count": 8,
   "id": "71a2cdb6",
   "metadata": {},
   "outputs": [
    {
     "data": {
      "text/plain": [
       "<AxesSubplot:xlabel='timestamp'>"
      ]
     },
     "execution_count": 8,
     "metadata": {},
     "output_type": "execute_result"
    },
    {
     "data": {
      "image/png": "[encoded data removed]",
      "text/plain": [
       "<Figure size 432x288 with 1 Axes>"
      ]
     },
     "metadata": {
      "needs_background": "light"
     },
     "output_type": "display_data"
    }
   ],
   "source": [
    "df[ df['location'].eq('checkout') ].groupby(pd.Grouper(key='timestamp',freq='H')).nunique()['customer_no'].plot.bar()"
   ]
  },
  {
   "cell_type": "markdown",
   "id": "9f66da2f",
   "metadata": {},
   "source": [
    "### The time each customer spent in the market.\n",
    "\n",
    "*See also https://pandas.pydata.org/pandas-docs/stable/user_guide/groupby.html#aggregation*"
   ]
  },
  {
   "cell_type": "code",
   "execution_count": 9,
   "id": "fa399f8d",
   "metadata": {},
   "outputs": [
    {
     "data": {
      "text/plain": [
       "Text(0.5, 1.0, '')"
      ]
     },
     "execution_count": 9,
     "metadata": {},
     "output_type": "execute_result"
    },
    {
     "data": {
      "image/png": "[encoded data removed]",
      "text/plain": [
       "<Figure size 432x288 with 1 Axes>"
      ]
     },
     "metadata": {
      "needs_background": "light"
     },
     "output_type": "display_data"
    }
   ],
   "source": [
    "def timedelta_in_minutes(series):\n",
    "    delta = series.max() - series.min()\n",
    "    delta_minutes = delta.total_seconds() / 60\n",
    "    return delta_minutes\n",
    "\n",
    "df[['timestamp','customer_no']].groupby('customer_no').agg(timedelta_in_minutes).hist()\n",
    "plt.gca().set_xlabel('Time spent in minutes'); plt.gca().set_title('')"
   ]
  },
  {
   "cell_type": "markdown",
   "id": "6e2b0083",
   "metadata": {},
   "source": [
    "### Total number of customers in the supermarket over time."
   ]
  },
  {
   "cell_type": "code",
   "execution_count": 10,
   "id": "f0fb8d15",
   "metadata": {},
   "outputs": [
    {
     "data": {
      "text/plain": [
       "<AxesSubplot:xlabel='timestamp'>"
      ]
     },
     "execution_count": 10,
     "metadata": {},
     "output_type": "execute_result"
    },
    {
     "data": {
      "image/png": "[encoded data removed]",
      "text/plain": [
       "<Figure size 432x288 with 1 Axes>"
      ]
     },
     "metadata": {
      "needs_background": "light"
     },
     "output_type": "display_data"
    }
   ],
   "source": [
    "df.groupby(pd.Grouper(key='timestamp',freq='H')).nunique()['customer_no'].plot.bar(legend=False)"
   ]
  },
  {
   "cell_type": "markdown",
   "id": "6a1b68b5",
   "metadata": {},
   "source": [
    "### Our business managers think that the first section customers visit follows a different pattern than the following ones. Plot the distribution of customers of their first visited section versus following sections (treat all sections visited after the first as “following”).\n",
    "\n",
    "* *https://stackoverflow.com/a/49263586*\n",
    "* *https://stackoverflow.com/a/55583395*"
   ]
  },
  {
   "cell_type": "code",
   "execution_count": 11,
   "id": "3388275c",
   "metadata": {},
   "outputs": [],
   "source": [
    "# assert sorting\n",
    "df.sort_values(by='timestamp', inplace=True)"
   ]
  },
  {
   "cell_type": "code",
   "execution_count": 12,
   "id": "15bbb8d4",
   "metadata": {},
   "outputs": [
    {
     "data": {
      "text/html": [
       "<div>\n",
       "<style scoped>\n",
       "    .dataframe tbody tr th:only-of-type {\n",
       "        vertical-align: middle;\n",
       "    }\n",
       "\n",
       "    .dataframe tbody tr th {\n",
       "        vertical-align: top;\n",
       "    }\n",
       "\n",
       "    .dataframe thead th {\n",
       "        text-align: right;\n",
       "    }\n",
       "</style>\n",
       "<table border=\"1\" class=\"dataframe\">\n",
       "  <thead>\n",
       "    <tr style=\"text-align: right;\">\n",
       "      <th></th>\n",
       "      <th>timestamp</th>\n",
       "    </tr>\n",
       "    <tr>\n",
       "      <th>location</th>\n",
       "      <th></th>\n",
       "    </tr>\n",
       "  </thead>\n",
       "  <tbody>\n",
       "    <tr>\n",
       "      <th>dairy</th>\n",
       "      <td>412</td>\n",
       "    </tr>\n",
       "    <tr>\n",
       "      <th>drinks</th>\n",
       "      <td>232</td>\n",
       "    </tr>\n",
       "    <tr>\n",
       "      <th>fruit</th>\n",
       "      <td>520</td>\n",
       "    </tr>\n",
       "    <tr>\n",
       "      <th>spices</th>\n",
       "      <td>283</td>\n",
       "    </tr>\n",
       "  </tbody>\n",
       "</table>\n",
       "</div>"
      ],
      "text/plain": [
       "          timestamp\n",
       "location           \n",
       "dairy           412\n",
       "drinks          232\n",
       "fruit           520\n",
       "spices          283"
      ]
     },
     "execution_count": 12,
     "metadata": {},
     "output_type": "execute_result"
    }
   ],
   "source": [
    "df_first = df.groupby('customer_no').first().groupby('location').count()\n",
    "df_first"
   ]
  },
  {
   "cell_type": "code",
   "execution_count": 13,
   "id": "2533d594",
   "metadata": {},
   "outputs": [
    {
     "data": {
      "text/html": [
       "<div>\n",
       "<style scoped>\n",
       "    .dataframe tbody tr th:only-of-type {\n",
       "        vertical-align: middle;\n",
       "    }\n",
       "\n",
       "    .dataframe tbody tr th {\n",
       "        vertical-align: top;\n",
       "    }\n",
       "\n",
       "    .dataframe thead th {\n",
       "        text-align: right;\n",
       "    }\n",
       "</style>\n",
       "<table border=\"1\" class=\"dataframe\">\n",
       "  <thead>\n",
       "    <tr style=\"text-align: right;\">\n",
       "      <th></th>\n",
       "      <th>timestamp</th>\n",
       "    </tr>\n",
       "    <tr>\n",
       "      <th>location</th>\n",
       "      <th></th>\n",
       "    </tr>\n",
       "  </thead>\n",
       "  <tbody>\n",
       "    <tr>\n",
       "      <th>checkout</th>\n",
       "      <td>1437</td>\n",
       "    </tr>\n",
       "    <tr>\n",
       "      <th>dairy</th>\n",
       "      <td>483</td>\n",
       "    </tr>\n",
       "    <tr>\n",
       "      <th>drinks</th>\n",
       "      <td>565</td>\n",
       "    </tr>\n",
       "    <tr>\n",
       "      <th>fruit</th>\n",
       "      <td>485</td>\n",
       "    </tr>\n",
       "    <tr>\n",
       "      <th>spices</th>\n",
       "      <td>467</td>\n",
       "    </tr>\n",
       "  </tbody>\n",
       "</table>\n",
       "</div>"
      ],
      "text/plain": [
       "          timestamp\n",
       "location           \n",
       "checkout       1437\n",
       "dairy           483\n",
       "drinks          565\n",
       "fruit           485\n",
       "spices          467"
      ]
     },
     "execution_count": 13,
     "metadata": {},
     "output_type": "execute_result"
    }
   ],
   "source": [
    "def tail(df):\n",
    "    return df[1:]\n",
    "df_following = df.groupby('customer_no').apply(tail).groupby('location').count()[['timestamp']]\n",
    "df_following"
   ]
  },
  {
   "cell_type": "code",
   "execution_count": 14,
   "id": "08b95472",
   "metadata": {},
   "outputs": [],
   "source": [
    "df_first.rename(mapper={df_first.columns[0]:'first'}, axis=1, inplace=True)\n",
    "df_following.rename(mapper={df_following.columns[0]:'following'}, axis=1, inplace=True)\n",
    "df_counts = pd.concat([df_first,df_following],axis=1)"
   ]
  },
  {
   "cell_type": "code",
   "execution_count": 15,
   "id": "1b601780",
   "metadata": {},
   "outputs": [
    {
     "data": {
      "text/plain": [
       "<AxesSubplot:xlabel='location'>"
      ]
     },
     "execution_count": 15,
     "metadata": {},
     "output_type": "execute_result"
    },
    {
     "data": {
      "image/png": "[encoded data removed]",
      "text/plain": [
       "<Figure size 432x288 with 1 Axes>"
      ]
     },
     "metadata": {
      "needs_background": "light"
     },
     "output_type": "display_data"
    }
   ],
   "source": [
    "df_counts.plot.bar()"
   ]
  },
  {
   "cell_type": "markdown",
   "id": "464b66ae",
   "metadata": {},
   "source": [
    "* Nobody starts at checkout which makes sense.\n",
    "* Significant less people go for drinks or spices at first."
   ]
  }
 ],
 "metadata": {
  "kernelspec": {
   "display_name": "Python 3",
   "language": "python",
   "name": "python3"
  },
  "language_info": {
   "codemirror_mode": {
    "name": "ipython",
    "version": 3
   },
   "file_extension": ".py",
   "mimetype": "text/x-python",
   "name": "python",
   "nbconvert_exporter": "python",
   "pygments_lexer": "ipython3",
   "version": "3.8.8"
  }
 },
 "nbformat": 4,
 "nbformat_minor": 5
}
