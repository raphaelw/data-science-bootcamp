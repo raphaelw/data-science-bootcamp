{
 "cells": [
  {
   "cell_type": "markdown",
   "id": "d3b551df",
   "metadata": {},
   "source": [
    "# NLP: Song Lyrics Classification\n",
    "\n",
    "## Goal\n",
    "\n",
    "Classify a song lyric to an artist."
   ]
  },
  {
   "cell_type": "code",
   "execution_count": 1,
   "id": "18a1739b",
   "metadata": {},
   "outputs": [],
   "source": [
    "import json"
   ]
  },
  {
   "cell_type": "code",
   "execution_count": 2,
   "id": "11acb767",
   "metadata": {},
   "outputs": [],
   "source": [
    "import pandas as pd\n",
    "import numpy as np\n",
    "import seaborn as sns"
   ]
  },
  {
   "cell_type": "code",
   "execution_count": 3,
   "id": "651128e1",
   "metadata": {},
   "outputs": [],
   "source": [
    "from sklearn.model_selection import train_test_split#, cross_val_score\n",
    "from sklearn.feature_extraction.text import TfidfVectorizer\n",
    "\n",
    "from sklearn.linear_model import LogisticRegression\n",
    "\n",
    "from sklearn.metrics import plot_confusion_matrix, classification_report"
   ]
  },
  {
   "cell_type": "markdown",
   "id": "df29a575",
   "metadata": {},
   "source": [
    "## Load Data"
   ]
  },
  {
   "cell_type": "code",
   "execution_count": 4,
   "id": "5840d8dc",
   "metadata": {},
   "outputs": [],
   "source": [
    "json_files = [\n",
    "    \"data/lyrics_james_brown.json\"\n",
    "    ,\"data/lyrics_stevie_wonder.json\"\n",
    "    #,\"data/lyrics_credence_clearwater_revival.json\"\n",
    "    #,\"data/lyrics_nick_drake.json\"\n",
    "    #,\"data/lyrics_zero_7.json\"\n",
    "]"
   ]
  },
  {
   "cell_type": "code",
   "execution_count": 5,
   "id": "19adde19",
   "metadata": {},
   "outputs": [],
   "source": [
    "lyrics = []\n",
    "for json_file in json_files:\n",
    "    with open(json_file, encoding='ascii') as file:\n",
    "        lyrics.extend(json.load(file))"
   ]
  },
  {
   "cell_type": "code",
   "execution_count": 6,
   "id": "ee2bdab4",
   "metadata": {},
   "outputs": [],
   "source": [
    "#print(lyrics[0]['song_title'], '', lyrics[0]['lyrics'][:300]+'...', sep='\\n')"
   ]
  },
  {
   "cell_type": "code",
   "execution_count": 7,
   "id": "77dca8e1",
   "metadata": {},
   "outputs": [
    {
     "data": {
      "text/html": [
       "<div>\n",
       "<style scoped>\n",
       "    .dataframe tbody tr th:only-of-type {\n",
       "        vertical-align: middle;\n",
       "    }\n",
       "\n",
       "    .dataframe tbody tr th {\n",
       "        vertical-align: top;\n",
       "    }\n",
       "\n",
       "    .dataframe thead th {\n",
       "        text-align: right;\n",
       "    }\n",
       "</style>\n",
       "<table border=\"1\" class=\"dataframe\">\n",
       "  <thead>\n",
       "    <tr style=\"text-align: right;\">\n",
       "      <th></th>\n",
       "      <th>artist_found</th>\n",
       "      <th>song_title</th>\n",
       "      <th>lyrics</th>\n",
       "    </tr>\n",
       "  </thead>\n",
       "  <tbody>\n",
       "    <tr>\n",
       "      <th>0</th>\n",
       "      <td>James Brown</td>\n",
       "      <td>Stubborn Kind of Fellow</td>\n",
       "      <td>Ah say yeah yeah yeah, say yeah yeah yeah\\nAh ...</td>\n",
       "    </tr>\n",
       "    <tr>\n",
       "      <th>1</th>\n",
       "      <td>James Brown</td>\n",
       "      <td>Baby, You're Right</td>\n",
       "      <td>You think I love you\\nWell, baby, you're right...</td>\n",
       "    </tr>\n",
       "    <tr>\n",
       "      <th>2</th>\n",
       "      <td>James Brown</td>\n",
       "      <td>Make It Funky</td>\n",
       "      <td>(Bobby asks) \\nWhat you gonna play now? \\n(Jam...</td>\n",
       "    </tr>\n",
       "    <tr>\n",
       "      <th>3</th>\n",
       "      <td>James Brown</td>\n",
       "      <td>I Got You (I Feel Good)</td>\n",
       "      <td>Whoa! I feel good, I knew that I would, now\\nI...</td>\n",
       "    </tr>\n",
       "    <tr>\n",
       "      <th>4</th>\n",
       "      <td>James Brown</td>\n",
       "      <td>Living in America</td>\n",
       "      <td>Super highways coast to coast just easy to get...</td>\n",
       "    </tr>\n",
       "  </tbody>\n",
       "</table>\n",
       "</div>"
      ],
      "text/plain": [
       "  artist_found               song_title  \\\n",
       "0  James Brown  Stubborn Kind of Fellow   \n",
       "1  James Brown       Baby, You're Right   \n",
       "2  James Brown            Make It Funky   \n",
       "3  James Brown  I Got You (I Feel Good)   \n",
       "4  James Brown        Living in America   \n",
       "\n",
       "                                              lyrics  \n",
       "0  Ah say yeah yeah yeah, say yeah yeah yeah\\nAh ...  \n",
       "1  You think I love you\\nWell, baby, you're right...  \n",
       "2  (Bobby asks) \\nWhat you gonna play now? \\n(Jam...  \n",
       "3  Whoa! I feel good, I knew that I would, now\\nI...  \n",
       "4  Super highways coast to coast just easy to get...  "
      ]
     },
     "execution_count": 7,
     "metadata": {},
     "output_type": "execute_result"
    }
   ],
   "source": [
    "df = pd.DataFrame(data=lyrics)\n",
    "df.drop(['artist_searched'], axis=1, inplace=True)\n",
    "df.head()"
   ]
  },
  {
   "cell_type": "markdown",
   "id": "cf5a8965",
   "metadata": {},
   "source": [
    "## Transform: Term Frequency-Inverse Document Frequency (TF-IDF)"
   ]
  },
  {
   "cell_type": "code",
   "execution_count": 8,
   "id": "327e84d1",
   "metadata": {},
   "outputs": [],
   "source": [
    "corpus = df['lyrics']\n",
    "vectorizer = TfidfVectorizer()\n",
    "X = vectorizer.fit_transform(corpus)"
   ]
  },
  {
   "cell_type": "code",
   "execution_count": 9,
   "id": "e4839d9a",
   "metadata": {},
   "outputs": [
    {
     "data": {
      "text/plain": [
       "['05',\n",
       " '10',\n",
       " '15',\n",
       " '1959',\n",
       " '1987',\n",
       " '20',\n",
       " '20th',\n",
       " '21',\n",
       " '250',\n",
       " '2x',\n",
       " '30',\n",
       " '32',\n",
       " '40',\n",
       " '45',\n",
       " '84']"
      ]
     },
     "execution_count": 9,
     "metadata": {},
     "output_type": "execute_result"
    }
   ],
   "source": [
    "vectorizer.get_feature_names()[:15]"
   ]
  },
  {
   "cell_type": "code",
   "execution_count": 10,
   "id": "d7050345",
   "metadata": {},
   "outputs": [
    {
     "data": {
      "text/plain": [
       "matrix([[0., 0., 0., ..., 0., 0., 0.]])"
      ]
     },
     "execution_count": 10,
     "metadata": {},
     "output_type": "execute_result"
    }
   ],
   "source": [
    "X[0].todense()"
   ]
  },
  {
   "cell_type": "code",
   "execution_count": 11,
   "id": "bfea3eb9",
   "metadata": {},
   "outputs": [],
   "source": [
    "df_bow = pd.DataFrame(data=X.todense(), columns=vectorizer.get_feature_names())"
   ]
  },
  {
   "cell_type": "code",
   "execution_count": 12,
   "id": "e3aa196c",
   "metadata": {},
   "outputs": [
    {
     "data": {
      "text/html": [
       "<div>\n",
       "<style scoped>\n",
       "    .dataframe tbody tr th:only-of-type {\n",
       "        vertical-align: middle;\n",
       "    }\n",
       "\n",
       "    .dataframe tbody tr th {\n",
       "        vertical-align: top;\n",
       "    }\n",
       "\n",
       "    .dataframe thead th {\n",
       "        text-align: right;\n",
       "    }\n",
       "</style>\n",
       "<table border=\"1\" class=\"dataframe\">\n",
       "  <thead>\n",
       "    <tr style=\"text-align: right;\">\n",
       "      <th></th>\n",
       "      <th>05</th>\n",
       "      <th>10</th>\n",
       "      <th>15</th>\n",
       "      <th>1959</th>\n",
       "      <th>1987</th>\n",
       "      <th>20</th>\n",
       "      <th>20th</th>\n",
       "      <th>21</th>\n",
       "      <th>250</th>\n",
       "      <th>2x</th>\n",
       "      <th>...</th>\n",
       "      <th>yours</th>\n",
       "      <th>yourself</th>\n",
       "      <th>yourselves</th>\n",
       "      <th>yow</th>\n",
       "      <th>yuletide</th>\n",
       "      <th>yup</th>\n",
       "      <th>zillion</th>\n",
       "      <th>zimbabwe</th>\n",
       "      <th>zippedy</th>\n",
       "      <th>zsa</th>\n",
       "    </tr>\n",
       "  </thead>\n",
       "  <tbody>\n",
       "    <tr>\n",
       "      <th>0</th>\n",
       "      <td>0.0</td>\n",
       "      <td>0.0</td>\n",
       "      <td>0.0</td>\n",
       "      <td>0.0</td>\n",
       "      <td>0.0</td>\n",
       "      <td>0.0</td>\n",
       "      <td>0.0</td>\n",
       "      <td>0.0</td>\n",
       "      <td>0.0</td>\n",
       "      <td>0.0</td>\n",
       "      <td>...</td>\n",
       "      <td>0.0</td>\n",
       "      <td>0.0</td>\n",
       "      <td>0.0</td>\n",
       "      <td>0.0</td>\n",
       "      <td>0.0</td>\n",
       "      <td>0.0</td>\n",
       "      <td>0.0</td>\n",
       "      <td>0.0</td>\n",
       "      <td>0.0</td>\n",
       "      <td>0.0</td>\n",
       "    </tr>\n",
       "    <tr>\n",
       "      <th>1</th>\n",
       "      <td>0.0</td>\n",
       "      <td>0.0</td>\n",
       "      <td>0.0</td>\n",
       "      <td>0.0</td>\n",
       "      <td>0.0</td>\n",
       "      <td>0.0</td>\n",
       "      <td>0.0</td>\n",
       "      <td>0.0</td>\n",
       "      <td>0.0</td>\n",
       "      <td>0.0</td>\n",
       "      <td>...</td>\n",
       "      <td>0.0</td>\n",
       "      <td>0.0</td>\n",
       "      <td>0.0</td>\n",
       "      <td>0.0</td>\n",
       "      <td>0.0</td>\n",
       "      <td>0.0</td>\n",
       "      <td>0.0</td>\n",
       "      <td>0.0</td>\n",
       "      <td>0.0</td>\n",
       "      <td>0.0</td>\n",
       "    </tr>\n",
       "    <tr>\n",
       "      <th>2</th>\n",
       "      <td>0.0</td>\n",
       "      <td>0.0</td>\n",
       "      <td>0.0</td>\n",
       "      <td>0.0</td>\n",
       "      <td>0.0</td>\n",
       "      <td>0.0</td>\n",
       "      <td>0.0</td>\n",
       "      <td>0.0</td>\n",
       "      <td>0.0</td>\n",
       "      <td>0.0</td>\n",
       "      <td>...</td>\n",
       "      <td>0.0</td>\n",
       "      <td>0.0</td>\n",
       "      <td>0.0</td>\n",
       "      <td>0.0</td>\n",
       "      <td>0.0</td>\n",
       "      <td>0.0</td>\n",
       "      <td>0.0</td>\n",
       "      <td>0.0</td>\n",
       "      <td>0.0</td>\n",
       "      <td>0.0</td>\n",
       "    </tr>\n",
       "    <tr>\n",
       "      <th>3</th>\n",
       "      <td>0.0</td>\n",
       "      <td>0.0</td>\n",
       "      <td>0.0</td>\n",
       "      <td>0.0</td>\n",
       "      <td>0.0</td>\n",
       "      <td>0.0</td>\n",
       "      <td>0.0</td>\n",
       "      <td>0.0</td>\n",
       "      <td>0.0</td>\n",
       "      <td>0.0</td>\n",
       "      <td>...</td>\n",
       "      <td>0.0</td>\n",
       "      <td>0.0</td>\n",
       "      <td>0.0</td>\n",
       "      <td>0.0</td>\n",
       "      <td>0.0</td>\n",
       "      <td>0.0</td>\n",
       "      <td>0.0</td>\n",
       "      <td>0.0</td>\n",
       "      <td>0.0</td>\n",
       "      <td>0.0</td>\n",
       "    </tr>\n",
       "    <tr>\n",
       "      <th>4</th>\n",
       "      <td>0.0</td>\n",
       "      <td>0.0</td>\n",
       "      <td>0.0</td>\n",
       "      <td>0.0</td>\n",
       "      <td>0.0</td>\n",
       "      <td>0.0</td>\n",
       "      <td>0.0</td>\n",
       "      <td>0.0</td>\n",
       "      <td>0.0</td>\n",
       "      <td>0.0</td>\n",
       "      <td>...</td>\n",
       "      <td>0.0</td>\n",
       "      <td>0.0</td>\n",
       "      <td>0.0</td>\n",
       "      <td>0.0</td>\n",
       "      <td>0.0</td>\n",
       "      <td>0.0</td>\n",
       "      <td>0.0</td>\n",
       "      <td>0.0</td>\n",
       "      <td>0.0</td>\n",
       "      <td>0.0</td>\n",
       "    </tr>\n",
       "  </tbody>\n",
       "</table>\n",
       "<p>5 rows × 5403 columns</p>\n",
       "</div>"
      ],
      "text/plain": [
       "    05   10   15  1959  1987   20  20th   21  250   2x  ...  yours  yourself  \\\n",
       "0  0.0  0.0  0.0   0.0   0.0  0.0   0.0  0.0  0.0  0.0  ...    0.0       0.0   \n",
       "1  0.0  0.0  0.0   0.0   0.0  0.0   0.0  0.0  0.0  0.0  ...    0.0       0.0   \n",
       "2  0.0  0.0  0.0   0.0   0.0  0.0   0.0  0.0  0.0  0.0  ...    0.0       0.0   \n",
       "3  0.0  0.0  0.0   0.0   0.0  0.0   0.0  0.0  0.0  0.0  ...    0.0       0.0   \n",
       "4  0.0  0.0  0.0   0.0   0.0  0.0   0.0  0.0  0.0  0.0  ...    0.0       0.0   \n",
       "\n",
       "   yourselves  yow  yuletide  yup  zillion  zimbabwe  zippedy  zsa  \n",
       "0         0.0  0.0       0.0  0.0      0.0       0.0      0.0  0.0  \n",
       "1         0.0  0.0       0.0  0.0      0.0       0.0      0.0  0.0  \n",
       "2         0.0  0.0       0.0  0.0      0.0       0.0      0.0  0.0  \n",
       "3         0.0  0.0       0.0  0.0      0.0       0.0      0.0  0.0  \n",
       "4         0.0  0.0       0.0  0.0      0.0       0.0      0.0  0.0  \n",
       "\n",
       "[5 rows x 5403 columns]"
      ]
     },
     "execution_count": 12,
     "metadata": {},
     "output_type": "execute_result"
    }
   ],
   "source": [
    "df_bow.head()"
   ]
  },
  {
   "cell_type": "code",
   "execution_count": 13,
   "id": "cc0cb0b1",
   "metadata": {},
   "outputs": [
    {
     "data": {
      "text/plain": [
       "<AxesSubplot:>"
      ]
     },
     "execution_count": 13,
     "metadata": {},
     "output_type": "execute_result"
    },
    {
     "data": {
      "image/png": "[encoded data removed]",
      "text/plain": [
       "<Figure size 432x288 with 2 Axes>"
      ]
     },
     "metadata": {
      "needs_background": "light"
     },
     "output_type": "display_data"
    }
   ],
   "source": [
    "sns.heatmap(X.todense(), vmax=0.1)"
   ]
  },
  {
   "cell_type": "code",
   "execution_count": 14,
   "id": "42ec13db",
   "metadata": {},
   "outputs": [],
   "source": [
    "assert len(df['artist_found'].unique()) == 2"
   ]
  },
  {
   "cell_type": "markdown",
   "id": "e6fd60e2",
   "metadata": {},
   "source": [
    "## Train/Test split\n",
    "\n",
    "Define X and y:\n",
    "\n",
    "* X : Training data\n",
    "* y : Target values"
   ]
  },
  {
   "cell_type": "code",
   "execution_count": 15,
   "id": "4b488b51",
   "metadata": {},
   "outputs": [],
   "source": [
    "X = X\n",
    "y = df['artist_found']"
   ]
  },
  {
   "cell_type": "code",
   "execution_count": 16,
   "id": "2a3b11a6",
   "metadata": {},
   "outputs": [
    {
     "data": {
      "text/plain": [
       "((617, 5403), (462, 5403), (155, 5403))"
      ]
     },
     "execution_count": 16,
     "metadata": {},
     "output_type": "execute_result"
    }
   ],
   "source": [
    "X_train, X_test, y_train, y_test = train_test_split(X, y, test_size=0.25, random_state=42)\n",
    "X.shape, X_train.shape, X_test.shape"
   ]
  },
  {
   "cell_type": "markdown",
   "id": "1e4d91a1",
   "metadata": {},
   "source": [
    "## Modelling"
   ]
  },
  {
   "cell_type": "markdown",
   "id": "056b4164",
   "metadata": {},
   "source": [
    "### Logistic Regression\n",
    "\n",
    "Class balancing using `class_weight='balanced'` was especially important here. Otherwise log reg predictet mostly one class for all!"
   ]
  },
  {
   "cell_type": "code",
   "execution_count": 17,
   "id": "b6440777",
   "metadata": {},
   "outputs": [
    {
     "data": {
      "text/plain": [
       "LogisticRegression(class_weight='balanced', max_iter=1000)"
      ]
     },
     "execution_count": 17,
     "metadata": {},
     "output_type": "execute_result"
    }
   ],
   "source": [
    "m_logreg = LogisticRegression(max_iter=1000, class_weight='balanced')\n",
    "m_logreg.fit(X_train, y_train)"
   ]
  },
  {
   "cell_type": "code",
   "execution_count": 18,
   "id": "a180a4ed",
   "metadata": {},
   "outputs": [
    {
     "data": {
      "text/plain": [
       "<sklearn.metrics._plot.confusion_matrix.ConfusionMatrixDisplay at 0x7fa43c697ca0>"
      ]
     },
     "execution_count": 18,
     "metadata": {},
     "output_type": "execute_result"
    },
    {
     "data": {
      "image/png": "[encoded data removed]",
      "text/plain": [
       "<Figure size 432x288 with 2 Axes>"
      ]
     },
     "metadata": {
      "needs_background": "light"
     },
     "output_type": "display_data"
    }
   ],
   "source": [
    "y_pred = m_logreg.predict(X_test)\n",
    "plot_confusion_matrix(m_logreg, X_test, y_test, cmap='Blues')"
   ]
  },
  {
   "cell_type": "code",
   "execution_count": 19,
   "id": "fd606d00",
   "metadata": {},
   "outputs": [
    {
     "name": "stdout",
     "output_type": "stream",
     "text": [
      "               precision    recall  f1-score   support\n",
      "\n",
      "  James Brown       0.67      0.68      0.68        66\n",
      "Stevie Wonder       0.76      0.75      0.76        89\n",
      "\n",
      "     accuracy                           0.72       155\n",
      "    macro avg       0.72      0.72      0.72       155\n",
      " weighted avg       0.72      0.72      0.72       155\n",
      "\n"
     ]
    }
   ],
   "source": [
    "print(classification_report(y_true=y_test, y_pred=y_pred))"
   ]
  }
 ],
 "metadata": {
  "kernelspec": {
   "display_name": "Python 3",
   "language": "python",
   "name": "python3"
  },
  "language_info": {
   "codemirror_mode": {
    "name": "ipython",
    "version": 3
   },
   "file_extension": ".py",
   "mimetype": "text/x-python",
   "name": "python",
   "nbconvert_exporter": "python",
   "pygments_lexer": "ipython3",
   "version": "3.8.8"
  }
 },
 "nbformat": 4,
 "nbformat_minor": 5
}
