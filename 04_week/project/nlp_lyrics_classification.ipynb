{
 "cells": [
  {
   "cell_type": "markdown",
   "id": "f0324ecd",
   "metadata": {},
   "source": [
    "# NLP Application: Song Lyrics Classification\n",
    "\n",
    "*Natural Language Processing (NLP)*\n",
    "\n",
    "## Goal\n",
    "\n",
    "Classify a song lyric to an artist."
   ]
  },
  {
   "cell_type": "code",
   "execution_count": 1,
   "id": "2cc79975",
   "metadata": {},
   "outputs": [],
   "source": [
    "import json"
   ]
  },
  {
   "cell_type": "code",
   "execution_count": 2,
   "id": "e986b59e",
   "metadata": {},
   "outputs": [],
   "source": [
    "import pandas as pd\n",
    "import numpy as np\n",
    "import seaborn as sns"
   ]
  },
  {
   "cell_type": "code",
   "execution_count": 3,
   "id": "99e7309c",
   "metadata": {},
   "outputs": [],
   "source": [
    "from sklearn.feature_extraction.text import TfidfVectorizer\n",
    "\n",
    "from sklearn.linear_model import LogisticRegression\n",
    "from sklearn.naive_bayes import MultinomialNB\n",
    "\n",
    "from sklearn.model_selection import train_test_split, cross_val_score\n",
    "from sklearn.model_selection import GridSearchCV\n",
    "\n",
    "from sklearn.metrics import plot_confusion_matrix, classification_report"
   ]
  },
  {
   "cell_type": "markdown",
   "id": "65e468af",
   "metadata": {},
   "source": [
    "## Load Data"
   ]
  },
  {
   "cell_type": "code",
   "execution_count": 4,
   "id": "f4f6a243",
   "metadata": {},
   "outputs": [],
   "source": [
    "json_files = [\n",
    "    \"data/lyrics_stevie_wonder.json\"\n",
    "    ,\"data/lyrics_jamiroquai.json\"\n",
    "    #,\"data/lyrics_zero_7.json\"\n",
    "    #,\"data/lyrics_ray_charles.json\"\n",
    "    #,\"data/lyrics_james_brown.json\"\n",
    "    #,\"data/lyrics_creedence_clearwater_revival.json\"\n",
    "]"
   ]
  },
  {
   "cell_type": "code",
   "execution_count": 5,
   "id": "3bdf5da4",
   "metadata": {},
   "outputs": [],
   "source": [
    "lyrics = []\n",
    "for json_file in json_files:\n",
    "    with open(json_file, encoding='ascii') as file:\n",
    "        lyrics.extend(json.load(file))"
   ]
  },
  {
   "cell_type": "code",
   "execution_count": 6,
   "id": "1c5efb47",
   "metadata": {},
   "outputs": [],
   "source": [
    "#print(lyrics[0]['song_title'], '', lyrics[0]['lyrics'][:300]+'...', sep='\\n')"
   ]
  },
  {
   "cell_type": "code",
   "execution_count": 7,
   "id": "fceacf9b",
   "metadata": {},
   "outputs": [
    {
     "data": {
      "text/html": [
       "<div>\n",
       "<style scoped>\n",
       "    .dataframe tbody tr th:only-of-type {\n",
       "        vertical-align: middle;\n",
       "    }\n",
       "\n",
       "    .dataframe tbody tr th {\n",
       "        vertical-align: top;\n",
       "    }\n",
       "\n",
       "    .dataframe thead th {\n",
       "        text-align: right;\n",
       "    }\n",
       "</style>\n",
       "<table border=\"1\" class=\"dataframe\">\n",
       "  <thead>\n",
       "    <tr style=\"text-align: right;\">\n",
       "      <th></th>\n",
       "      <th>artist_found</th>\n",
       "      <th>song_title</th>\n",
       "      <th>lyrics</th>\n",
       "    </tr>\n",
       "  </thead>\n",
       "  <tbody>\n",
       "    <tr>\n",
       "      <th>0</th>\n",
       "      <td>Stevie Wonder</td>\n",
       "      <td>What Christmas Means to Me</td>\n",
       "      <td>Oh yeah\\nCandles burnin' low\\nLots of mistleto...</td>\n",
       "    </tr>\n",
       "    <tr>\n",
       "      <th>1</th>\n",
       "      <td>Stevie Wonder</td>\n",
       "      <td>The Christmas Song</td>\n",
       "      <td>Chestnuts roasting on an open fire\\nJack Frost...</td>\n",
       "    </tr>\n",
       "    <tr>\n",
       "      <th>2</th>\n",
       "      <td>Stevie Wonder</td>\n",
       "      <td>Someday At Christmas</td>\n",
       "      <td>Someday at Christmas men won't be boys\\nPlayin...</td>\n",
       "    </tr>\n",
       "    <tr>\n",
       "      <th>3</th>\n",
       "      <td>Stevie Wonder</td>\n",
       "      <td>We Can Work It Out</td>\n",
       "      <td>Try to see it my way,\\nDo I have to keep on ta...</td>\n",
       "    </tr>\n",
       "    <tr>\n",
       "      <th>4</th>\n",
       "      <td>Stevie Wonder</td>\n",
       "      <td>Faith</td>\n",
       "      <td>See the girl with the diamonds and the shoes? ...</td>\n",
       "    </tr>\n",
       "  </tbody>\n",
       "</table>\n",
       "</div>"
      ],
      "text/plain": [
       "    artist_found                  song_title  \\\n",
       "0  Stevie Wonder  What Christmas Means to Me   \n",
       "1  Stevie Wonder          The Christmas Song   \n",
       "2  Stevie Wonder        Someday At Christmas   \n",
       "3  Stevie Wonder          We Can Work It Out   \n",
       "4  Stevie Wonder                       Faith   \n",
       "\n",
       "                                              lyrics  \n",
       "0  Oh yeah\\nCandles burnin' low\\nLots of mistleto...  \n",
       "1  Chestnuts roasting on an open fire\\nJack Frost...  \n",
       "2  Someday at Christmas men won't be boys\\nPlayin...  \n",
       "3  Try to see it my way,\\nDo I have to keep on ta...  \n",
       "4  See the girl with the diamonds and the shoes? ...  "
      ]
     },
     "execution_count": 7,
     "metadata": {},
     "output_type": "execute_result"
    }
   ],
   "source": [
    "df = pd.DataFrame(data=lyrics)\n",
    "df.drop(['artist_searched'], axis=1, inplace=True)\n",
    "df.head()"
   ]
  },
  {
   "cell_type": "markdown",
   "id": "68e20c72",
   "metadata": {},
   "source": [
    "## Transform: Term Frequency-Inverse Document Frequency (TF-IDF)"
   ]
  },
  {
   "cell_type": "code",
   "execution_count": 8,
   "id": "f8be0129",
   "metadata": {},
   "outputs": [],
   "source": [
    "corpus = df['lyrics']\n",
    "\n",
    "# ignore words with numbers, thanks to https://stackoverflow.com/a/29375664\n",
    "token_pattern = r\"(?u)\\b[^\\d\\W]{2,}\\b\"\n",
    "\n",
    "vectorizer = TfidfVectorizer(token_pattern=token_pattern)\n",
    "X = vectorizer.fit_transform(corpus)"
   ]
  },
  {
   "cell_type": "code",
   "execution_count": 9,
   "id": "5a9251f5",
   "metadata": {},
   "outputs": [
    {
     "data": {
      "text/plain": [
       "['aa',\n",
       " 'aaah',\n",
       " 'aah',\n",
       " 'aaow',\n",
       " 'aaw',\n",
       " 'abaout',\n",
       " 'abbiam',\n",
       " 'abc',\n",
       " 'ability',\n",
       " 'able',\n",
       " 'about',\n",
       " 'above',\n",
       " 'absurdity',\n",
       " 'abuse',\n",
       " 'abused']"
      ]
     },
     "execution_count": 9,
     "metadata": {},
     "output_type": "execute_result"
    }
   ],
   "source": [
    "vectorizer.get_feature_names()[:15]"
   ]
  },
  {
   "cell_type": "code",
   "execution_count": 10,
   "id": "b65d2c1f",
   "metadata": {},
   "outputs": [
    {
     "data": {
      "text/plain": [
       "matrix([[0., 0., 0., ..., 0., 0., 0.]])"
      ]
     },
     "execution_count": 10,
     "metadata": {},
     "output_type": "execute_result"
    }
   ],
   "source": [
    "X[0].todense()"
   ]
  },
  {
   "cell_type": "code",
   "execution_count": 11,
   "id": "2d2e3449",
   "metadata": {},
   "outputs": [],
   "source": [
    "df_bow = pd.DataFrame(data=X.todense(), columns=vectorizer.get_feature_names())"
   ]
  },
  {
   "cell_type": "code",
   "execution_count": 12,
   "id": "76e35df1",
   "metadata": {},
   "outputs": [
    {
     "data": {
      "text/html": [
       "<div>\n",
       "<style scoped>\n",
       "    .dataframe tbody tr th:only-of-type {\n",
       "        vertical-align: middle;\n",
       "    }\n",
       "\n",
       "    .dataframe tbody tr th {\n",
       "        vertical-align: top;\n",
       "    }\n",
       "\n",
       "    .dataframe thead th {\n",
       "        text-align: right;\n",
       "    }\n",
       "</style>\n",
       "<table border=\"1\" class=\"dataframe\">\n",
       "  <thead>\n",
       "    <tr style=\"text-align: right;\">\n",
       "      <th></th>\n",
       "      <th>aa</th>\n",
       "      <th>aaah</th>\n",
       "      <th>aah</th>\n",
       "      <th>aaow</th>\n",
       "      <th>aaw</th>\n",
       "      <th>abaout</th>\n",
       "      <th>abbiam</th>\n",
       "      <th>abc</th>\n",
       "      <th>ability</th>\n",
       "      <th>able</th>\n",
       "      <th>...</th>\n",
       "      <th>your</th>\n",
       "      <th>yours</th>\n",
       "      <th>yourself</th>\n",
       "      <th>yourselves</th>\n",
       "      <th>yuletide</th>\n",
       "      <th>zero</th>\n",
       "      <th>zillion</th>\n",
       "      <th>zimbabwe</th>\n",
       "      <th>zone</th>\n",
       "      <th>zones</th>\n",
       "    </tr>\n",
       "  </thead>\n",
       "  <tbody>\n",
       "    <tr>\n",
       "      <th>0</th>\n",
       "      <td>0.0</td>\n",
       "      <td>0.0</td>\n",
       "      <td>0.0</td>\n",
       "      <td>0.0</td>\n",
       "      <td>0.0</td>\n",
       "      <td>0.0</td>\n",
       "      <td>0.0</td>\n",
       "      <td>0.0</td>\n",
       "      <td>0.0</td>\n",
       "      <td>0.0</td>\n",
       "      <td>...</td>\n",
       "      <td>0.018872</td>\n",
       "      <td>0.0</td>\n",
       "      <td>0.0</td>\n",
       "      <td>0.0</td>\n",
       "      <td>0.000000</td>\n",
       "      <td>0.0</td>\n",
       "      <td>0.0</td>\n",
       "      <td>0.0</td>\n",
       "      <td>0.0</td>\n",
       "      <td>0.0</td>\n",
       "    </tr>\n",
       "    <tr>\n",
       "      <th>1</th>\n",
       "      <td>0.0</td>\n",
       "      <td>0.0</td>\n",
       "      <td>0.0</td>\n",
       "      <td>0.0</td>\n",
       "      <td>0.0</td>\n",
       "      <td>0.0</td>\n",
       "      <td>0.0</td>\n",
       "      <td>0.0</td>\n",
       "      <td>0.0</td>\n",
       "      <td>0.0</td>\n",
       "      <td>...</td>\n",
       "      <td>0.027915</td>\n",
       "      <td>0.0</td>\n",
       "      <td>0.0</td>\n",
       "      <td>0.0</td>\n",
       "      <td>0.117588</td>\n",
       "      <td>0.0</td>\n",
       "      <td>0.0</td>\n",
       "      <td>0.0</td>\n",
       "      <td>0.0</td>\n",
       "      <td>0.0</td>\n",
       "    </tr>\n",
       "    <tr>\n",
       "      <th>2</th>\n",
       "      <td>0.0</td>\n",
       "      <td>0.0</td>\n",
       "      <td>0.0</td>\n",
       "      <td>0.0</td>\n",
       "      <td>0.0</td>\n",
       "      <td>0.0</td>\n",
       "      <td>0.0</td>\n",
       "      <td>0.0</td>\n",
       "      <td>0.0</td>\n",
       "      <td>0.0</td>\n",
       "      <td>...</td>\n",
       "      <td>0.000000</td>\n",
       "      <td>0.0</td>\n",
       "      <td>0.0</td>\n",
       "      <td>0.0</td>\n",
       "      <td>0.000000</td>\n",
       "      <td>0.0</td>\n",
       "      <td>0.0</td>\n",
       "      <td>0.0</td>\n",
       "      <td>0.0</td>\n",
       "      <td>0.0</td>\n",
       "    </tr>\n",
       "    <tr>\n",
       "      <th>3</th>\n",
       "      <td>0.0</td>\n",
       "      <td>0.0</td>\n",
       "      <td>0.0</td>\n",
       "      <td>0.0</td>\n",
       "      <td>0.0</td>\n",
       "      <td>0.0</td>\n",
       "      <td>0.0</td>\n",
       "      <td>0.0</td>\n",
       "      <td>0.0</td>\n",
       "      <td>0.0</td>\n",
       "      <td>...</td>\n",
       "      <td>0.057732</td>\n",
       "      <td>0.0</td>\n",
       "      <td>0.0</td>\n",
       "      <td>0.0</td>\n",
       "      <td>0.000000</td>\n",
       "      <td>0.0</td>\n",
       "      <td>0.0</td>\n",
       "      <td>0.0</td>\n",
       "      <td>0.0</td>\n",
       "      <td>0.0</td>\n",
       "    </tr>\n",
       "    <tr>\n",
       "      <th>4</th>\n",
       "      <td>0.0</td>\n",
       "      <td>0.0</td>\n",
       "      <td>0.0</td>\n",
       "      <td>0.0</td>\n",
       "      <td>0.0</td>\n",
       "      <td>0.0</td>\n",
       "      <td>0.0</td>\n",
       "      <td>0.0</td>\n",
       "      <td>0.0</td>\n",
       "      <td>0.0</td>\n",
       "      <td>...</td>\n",
       "      <td>0.000000</td>\n",
       "      <td>0.0</td>\n",
       "      <td>0.0</td>\n",
       "      <td>0.0</td>\n",
       "      <td>0.000000</td>\n",
       "      <td>0.0</td>\n",
       "      <td>0.0</td>\n",
       "      <td>0.0</td>\n",
       "      <td>0.0</td>\n",
       "      <td>0.0</td>\n",
       "    </tr>\n",
       "  </tbody>\n",
       "</table>\n",
       "<p>5 rows × 5107 columns</p>\n",
       "</div>"
      ],
      "text/plain": [
       "    aa  aaah  aah  aaow  aaw  abaout  abbiam  abc  ability  able  ...  \\\n",
       "0  0.0   0.0  0.0   0.0  0.0     0.0     0.0  0.0      0.0   0.0  ...   \n",
       "1  0.0   0.0  0.0   0.0  0.0     0.0     0.0  0.0      0.0   0.0  ...   \n",
       "2  0.0   0.0  0.0   0.0  0.0     0.0     0.0  0.0      0.0   0.0  ...   \n",
       "3  0.0   0.0  0.0   0.0  0.0     0.0     0.0  0.0      0.0   0.0  ...   \n",
       "4  0.0   0.0  0.0   0.0  0.0     0.0     0.0  0.0      0.0   0.0  ...   \n",
       "\n",
       "       your  yours  yourself  yourselves  yuletide  zero  zillion  zimbabwe  \\\n",
       "0  0.018872    0.0       0.0         0.0  0.000000   0.0      0.0       0.0   \n",
       "1  0.027915    0.0       0.0         0.0  0.117588   0.0      0.0       0.0   \n",
       "2  0.000000    0.0       0.0         0.0  0.000000   0.0      0.0       0.0   \n",
       "3  0.057732    0.0       0.0         0.0  0.000000   0.0      0.0       0.0   \n",
       "4  0.000000    0.0       0.0         0.0  0.000000   0.0      0.0       0.0   \n",
       "\n",
       "   zone  zones  \n",
       "0   0.0    0.0  \n",
       "1   0.0    0.0  \n",
       "2   0.0    0.0  \n",
       "3   0.0    0.0  \n",
       "4   0.0    0.0  \n",
       "\n",
       "[5 rows x 5107 columns]"
      ]
     },
     "execution_count": 12,
     "metadata": {},
     "output_type": "execute_result"
    }
   ],
   "source": [
    "df_bow.head()"
   ]
  },
  {
   "cell_type": "code",
   "execution_count": 13,
   "id": "f91faf3f",
   "metadata": {},
   "outputs": [
    {
     "data": {
      "text/plain": [
       "<AxesSubplot:>"
      ]
     },
     "execution_count": 13,
     "metadata": {},
     "output_type": "execute_result"
    },
    {
     "data": {
      "image/png": "[encoded data removed]",
      "text/plain": [
       "<Figure size 432x288 with 2 Axes>"
      ]
     },
     "metadata": {
      "needs_background": "light"
     },
     "output_type": "display_data"
    }
   ],
   "source": [
    "sns.heatmap(X.todense(), vmax=0.1)"
   ]
  },
  {
   "cell_type": "code",
   "execution_count": 14,
   "id": "ce38dbda",
   "metadata": {},
   "outputs": [],
   "source": [
    "assert len(df['artist_found'].unique()) == 2"
   ]
  },
  {
   "cell_type": "markdown",
   "id": "2afcf486",
   "metadata": {},
   "source": [
    "## Train/Test split\n",
    "\n",
    "Define X and y:\n",
    "\n",
    "* X : Training data\n",
    "* y : Target values"
   ]
  },
  {
   "cell_type": "code",
   "execution_count": 15,
   "id": "fff7f10f",
   "metadata": {},
   "outputs": [],
   "source": [
    "X = X\n",
    "y = df['artist_found']"
   ]
  },
  {
   "cell_type": "code",
   "execution_count": 16,
   "id": "4c6d33c8",
   "metadata": {},
   "outputs": [
    {
     "data": {
      "text/plain": [
       "((463, 5107), (347, 5107), (116, 5107))"
      ]
     },
     "execution_count": 16,
     "metadata": {},
     "output_type": "execute_result"
    }
   ],
   "source": [
    "X_train, X_test, y_train, y_test = train_test_split(X, y, test_size=0.25, random_state=42)\n",
    "X.shape, X_train.shape, X_test.shape"
   ]
  },
  {
   "cell_type": "markdown",
   "id": "ef538713",
   "metadata": {},
   "source": [
    "## Modelling"
   ]
  },
  {
   "cell_type": "markdown",
   "id": "33ffbdd7",
   "metadata": {},
   "source": [
    "### Logistic Regression\n",
    "\n",
    "#### Train and evaluate\n",
    "\n",
    "Class balancing using `class_weight='balanced'` was especially important here. Otherwise log reg predictet mostly one class for all!"
   ]
  },
  {
   "cell_type": "code",
   "execution_count": 17,
   "id": "ad86b05e",
   "metadata": {},
   "outputs": [
    {
     "data": {
      "text/plain": [
       "LogisticRegression(class_weight='balanced', max_iter=1000)"
      ]
     },
     "execution_count": 17,
     "metadata": {},
     "output_type": "execute_result"
    }
   ],
   "source": [
    "m_logreg = LogisticRegression(max_iter=1000, class_weight='balanced')\n",
    "m_logreg.fit(X_train, y_train)"
   ]
  },
  {
   "cell_type": "code",
   "execution_count": 18,
   "id": "0dbb0d42",
   "metadata": {},
   "outputs": [
    {
     "data": {
      "text/plain": [
       "<sklearn.metrics._plot.confusion_matrix.ConfusionMatrixDisplay at 0x7f9957492d00>"
      ]
     },
     "execution_count": 18,
     "metadata": {},
     "output_type": "execute_result"
    },
    {
     "data": {
      "image/png": "[encoded data removed]",
      "text/plain": [
       "<Figure size 432x288 with 2 Axes>"
      ]
     },
     "metadata": {
      "needs_background": "light"
     },
     "output_type": "display_data"
    }
   ],
   "source": [
    "y_pred = m_logreg.predict(X_test)\n",
    "plot_confusion_matrix(m_logreg, X_test, y_test, cmap='Blues')"
   ]
  },
  {
   "cell_type": "code",
   "execution_count": 19,
   "id": "165ff9a6",
   "metadata": {},
   "outputs": [
    {
     "name": "stdout",
     "output_type": "stream",
     "text": [
      "               precision    recall  f1-score   support\n",
      "\n",
      "   Jamiroquai       0.60      0.54      0.57        28\n",
      "Stevie Wonder       0.86      0.89      0.87        88\n",
      "\n",
      "     accuracy                           0.80       116\n",
      "    macro avg       0.73      0.71      0.72       116\n",
      " weighted avg       0.80      0.80      0.80       116\n",
      "\n"
     ]
    }
   ],
   "source": [
    "print(classification_report(y_true=y_test, y_pred=y_pred))"
   ]
  },
  {
   "cell_type": "markdown",
   "id": "970f1148",
   "metadata": {},
   "source": [
    "#### Phrase classification"
   ]
  },
  {
   "cell_type": "code",
   "execution_count": 20,
   "id": "66f9af18",
   "metadata": {},
   "outputs": [],
   "source": [
    "test_phrase_stevie = \"Just don't you feel too bad\" # Stevie Wonder (Don't You Worry 'bout a Thing)\n",
    "v_phrase_stevie = vectorizer.transform([test_phrase_stevie])"
   ]
  },
  {
   "cell_type": "code",
   "execution_count": 21,
   "id": "f368bb77",
   "metadata": {},
   "outputs": [
    {
     "data": {
      "text/html": [
       "<div>\n",
       "<style scoped>\n",
       "    .dataframe tbody tr th:only-of-type {\n",
       "        vertical-align: middle;\n",
       "    }\n",
       "\n",
       "    .dataframe tbody tr th {\n",
       "        vertical-align: top;\n",
       "    }\n",
       "\n",
       "    .dataframe thead th {\n",
       "        text-align: right;\n",
       "    }\n",
       "</style>\n",
       "<table border=\"1\" class=\"dataframe\">\n",
       "  <thead>\n",
       "    <tr style=\"text-align: right;\">\n",
       "      <th></th>\n",
       "      <th>bad</th>\n",
       "      <th>don</th>\n",
       "      <th>feel</th>\n",
       "      <th>just</th>\n",
       "      <th>too</th>\n",
       "      <th>you</th>\n",
       "    </tr>\n",
       "  </thead>\n",
       "  <tbody>\n",
       "    <tr>\n",
       "      <th>0</th>\n",
       "      <td>0.618667</td>\n",
       "      <td>0.322437</td>\n",
       "      <td>0.435079</td>\n",
       "      <td>0.307195</td>\n",
       "      <td>0.433551</td>\n",
       "      <td>0.204098</td>\n",
       "    </tr>\n",
       "  </tbody>\n",
       "</table>\n",
       "</div>"
      ],
      "text/plain": [
       "        bad       don      feel      just       too       you\n",
       "0  0.618667  0.322437  0.435079  0.307195  0.433551  0.204098"
      ]
     },
     "execution_count": 21,
     "metadata": {},
     "output_type": "execute_result"
    }
   ],
   "source": [
    "df_phrase = pd.DataFrame(data=v_phrase_stevie.todense(), columns=vectorizer.get_feature_names())\n",
    "df_phrase.loc[:, df_phrase.gt(0).all()] # show only columns with values greater than"
   ]
  },
  {
   "cell_type": "code",
   "execution_count": 22,
   "id": "7a38af1c",
   "metadata": {},
   "outputs": [
    {
     "data": {
      "text/plain": [
       "'Stevie Wonder'"
      ]
     },
     "execution_count": 22,
     "metadata": {},
     "output_type": "execute_result"
    }
   ],
   "source": [
    "m_logreg.predict(v_phrase_stevie)[0]"
   ]
  },
  {
   "cell_type": "markdown",
   "id": "3a641f58",
   "metadata": {},
   "source": [
    "### Naive Bayes Classifier\n",
    "\n",
    "Note that this is without any class balancing techniques."
   ]
  },
  {
   "cell_type": "code",
   "execution_count": 23,
   "id": "5799103c",
   "metadata": {},
   "outputs": [
    {
     "data": {
      "text/plain": [
       "GridSearchCV(estimator=MultinomialNB(),\n",
       "             param_grid={'alpha': array([1.00000000e-05, 2.04179592e-02, 4.08259184e-02, 6.12338776e-02,\n",
       "       8.16418367e-02, 1.02049796e-01, 1.22457755e-01, 1.42865714e-01,\n",
       "       1.63273673e-01, 1.83681633e-01, 2.04089592e-01, 2.24497551e-01,\n",
       "       2.44905510e-01, 2.65313469e-01, 2.85721429e-01, 3.06129388e-01,\n",
       "       3.26537347e-01, 3.46945306e-01, 3.67353265e-01...\n",
       "       5.71432857e-01, 5.91840816e-01, 6.12248776e-01, 6.32656735e-01,\n",
       "       6.53064694e-01, 6.73472653e-01, 6.93880612e-01, 7.14288571e-01,\n",
       "       7.34696531e-01, 7.55104490e-01, 7.75512449e-01, 7.95920408e-01,\n",
       "       8.16328367e-01, 8.36736327e-01, 8.57144286e-01, 8.77552245e-01,\n",
       "       8.97960204e-01, 9.18368163e-01, 9.38776122e-01, 9.59184082e-01,\n",
       "       9.79592041e-01, 1.00000000e+00])},\n",
       "             scoring='f1_weighted')"
      ]
     },
     "execution_count": 23,
     "metadata": {},
     "output_type": "execute_result"
    }
   ],
   "source": [
    "param_grid = dict(alpha=np.linspace(0.00001,1,50))\n",
    "m_bayes = GridSearchCV(estimator=MultinomialNB(), param_grid=param_grid, scoring='f1_weighted')\n",
    "m_bayes.fit(X_train, y_train)"
   ]
  },
  {
   "cell_type": "code",
   "execution_count": 24,
   "id": "34e10c44",
   "metadata": {},
   "outputs": [
    {
     "data": {
      "text/plain": [
       "{'alpha': 0.020417959183673468}"
      ]
     },
     "execution_count": 24,
     "metadata": {},
     "output_type": "execute_result"
    }
   ],
   "source": [
    "m_bayes.best_params_"
   ]
  },
  {
   "cell_type": "code",
   "execution_count": 25,
   "id": "b65b2d80",
   "metadata": {},
   "outputs": [
    {
     "data": {
      "text/plain": [
       "(0.8240018476083023, 0.059522303802718744)"
      ]
     },
     "execution_count": 25,
     "metadata": {},
     "output_type": "execute_result"
    }
   ],
   "source": [
    "m_bayes.cv_results_['mean_test_score'][m_bayes.best_index_], m_bayes.cv_results_['std_test_score'][m_bayes.best_index_]"
   ]
  },
  {
   "cell_type": "code",
   "execution_count": 26,
   "id": "59de260a",
   "metadata": {},
   "outputs": [
    {
     "data": {
      "text/plain": [
       "<sklearn.metrics._plot.confusion_matrix.ConfusionMatrixDisplay at 0x7f9953169d90>"
      ]
     },
     "execution_count": 26,
     "metadata": {},
     "output_type": "execute_result"
    },
    {
     "data": {
      "image/png": "[encoded data removed]",
      "text/plain": [
       "<Figure size 432x288 with 2 Axes>"
      ]
     },
     "metadata": {
      "needs_background": "light"
     },
     "output_type": "display_data"
    }
   ],
   "source": [
    "y_pred = m_bayes.predict(X_test)\n",
    "plot_confusion_matrix(m_bayes, X_test, y_test, cmap='Blues')"
   ]
  },
  {
   "cell_type": "code",
   "execution_count": 27,
   "id": "e99eb3f7",
   "metadata": {},
   "outputs": [
    {
     "name": "stdout",
     "output_type": "stream",
     "text": [
      "               precision    recall  f1-score   support\n",
      "\n",
      "   Jamiroquai       0.76      0.68      0.72        28\n",
      "Stevie Wonder       0.90      0.93      0.92        88\n",
      "\n",
      "     accuracy                           0.87       116\n",
      "    macro avg       0.83      0.81      0.82       116\n",
      " weighted avg       0.87      0.87      0.87       116\n",
      "\n"
     ]
    }
   ],
   "source": [
    "print(classification_report(y_true=y_test, y_pred=y_pred))"
   ]
  },
  {
   "cell_type": "code",
   "execution_count": 28,
   "id": "f6974d9b",
   "metadata": {},
   "outputs": [
    {
     "data": {
      "text/plain": [
       "('Stevie Wonder', array([[0.25573919, 0.74426081]]))"
      ]
     },
     "execution_count": 28,
     "metadata": {},
     "output_type": "execute_result"
    }
   ],
   "source": [
    "m_bayes.predict(v_phrase_stevie)[0], m_bayes.predict_proba(v_phrase_stevie)"
   ]
  }
 ],
 "metadata": {
  "kernelspec": {
   "display_name": "Python 3",
   "language": "python",
   "name": "python3"
  },
  "language_info": {
   "codemirror_mode": {
    "name": "ipython",
    "version": 3
   },
   "file_extension": ".py",
   "mimetype": "text/x-python",
   "name": "python",
   "nbconvert_exporter": "python",
   "pygments_lexer": "ipython3",
   "version": "3.8.8"
  }
 },
 "nbformat": 4,
 "nbformat_minor": 5
}
