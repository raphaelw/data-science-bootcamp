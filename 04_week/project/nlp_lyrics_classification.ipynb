{
 "cells": [
  {
   "cell_type": "markdown",
   "id": "7ad99ddd",
   "metadata": {},
   "source": [
    "# NLP: Song Lyrics Classification\n",
    "\n",
    "## Goal\n",
    "\n",
    "Classify a song lyric to an artist."
   ]
  },
  {
   "cell_type": "code",
   "execution_count": 1,
   "id": "f7eab803",
   "metadata": {},
   "outputs": [],
   "source": [
    "import json"
   ]
  },
  {
   "cell_type": "code",
   "execution_count": 2,
   "id": "3537d6bc",
   "metadata": {},
   "outputs": [],
   "source": [
    "import pandas as pd\n",
    "import numpy as np"
   ]
  },
  {
   "cell_type": "code",
   "execution_count": 22,
   "id": "00390bb0",
   "metadata": {},
   "outputs": [],
   "source": [
    "from sklearn.model_selection import train_test_split#, cross_val_score\n",
    "from sklearn.feature_extraction.text import TfidfVectorizer"
   ]
  },
  {
   "cell_type": "markdown",
   "id": "0f04564a",
   "metadata": {},
   "source": [
    "## Load Data"
   ]
  },
  {
   "cell_type": "code",
   "execution_count": 4,
   "id": "056ee5ff",
   "metadata": {},
   "outputs": [],
   "source": [
    "json_files = [\"data/lyrics_zero_7.json\"\n",
    "             ,\"data/lyrics_credence_clearwater_revival.json\"]"
   ]
  },
  {
   "cell_type": "code",
   "execution_count": 5,
   "id": "32eedaf9",
   "metadata": {},
   "outputs": [],
   "source": [
    "lyrics = []\n",
    "for json_file in json_files:\n",
    "    with open(json_file, encoding='ascii') as file:\n",
    "        lyrics.extend(json.load(file))"
   ]
  },
  {
   "cell_type": "code",
   "execution_count": 6,
   "id": "c4ca2b26",
   "metadata": {},
   "outputs": [],
   "source": [
    "#print(lyrics[0]['song_title'], '', lyrics[0]['lyrics'][:300]+'...', sep='\\n')"
   ]
  },
  {
   "cell_type": "code",
   "execution_count": 7,
   "id": "bcd2c44d",
   "metadata": {},
   "outputs": [
    {
     "data": {
      "text/html": [
       "<div>\n",
       "<style scoped>\n",
       "    .dataframe tbody tr th:only-of-type {\n",
       "        vertical-align: middle;\n",
       "    }\n",
       "\n",
       "    .dataframe tbody tr th {\n",
       "        vertical-align: top;\n",
       "    }\n",
       "\n",
       "    .dataframe thead th {\n",
       "        text-align: right;\n",
       "    }\n",
       "</style>\n",
       "<table border=\"1\" class=\"dataframe\">\n",
       "  <thead>\n",
       "    <tr style=\"text-align: right;\">\n",
       "      <th></th>\n",
       "      <th>artist_found</th>\n",
       "      <th>song_title</th>\n",
       "      <th>lyrics</th>\n",
       "    </tr>\n",
       "  </thead>\n",
       "  <tbody>\n",
       "    <tr>\n",
       "      <th>0</th>\n",
       "      <td>Zero 7</td>\n",
       "      <td>Witness (One Hope) [Walworth RD Rockers Dub]</td>\n",
       "      <td>Well well well \\nTaskmaster burst\\nThe bionic ...</td>\n",
       "    </tr>\n",
       "    <tr>\n",
       "      <th>1</th>\n",
       "      <td>Zero 7</td>\n",
       "      <td>I Have Seen</td>\n",
       "      <td>Old man there people stare\\nThinking back to G...</td>\n",
       "    </tr>\n",
       "    <tr>\n",
       "      <th>2</th>\n",
       "      <td>Zero 7</td>\n",
       "      <td>Futures [Album Version]</td>\n",
       "      <td>Made a note of it\\nDid you write it on your ha...</td>\n",
       "    </tr>\n",
       "    <tr>\n",
       "      <th>3</th>\n",
       "      <td>Zero 7</td>\n",
       "      <td>Everything Up (Zizou)</td>\n",
       "      <td>Mauritania to Wellsdon Green\\nTruth is faster ...</td>\n",
       "    </tr>\n",
       "    <tr>\n",
       "      <th>4</th>\n",
       "      <td>Zero 7</td>\n",
       "      <td>You're My Flame</td>\n",
       "      <td>You take a stroll into the morning sun\\nYou ma...</td>\n",
       "    </tr>\n",
       "  </tbody>\n",
       "</table>\n",
       "</div>"
      ],
      "text/plain": [
       "  artist_found                                    song_title  \\\n",
       "0       Zero 7  Witness (One Hope) [Walworth RD Rockers Dub]   \n",
       "1       Zero 7                                   I Have Seen   \n",
       "2       Zero 7                       Futures [Album Version]   \n",
       "3       Zero 7                         Everything Up (Zizou)   \n",
       "4       Zero 7                               You're My Flame   \n",
       "\n",
       "                                              lyrics  \n",
       "0  Well well well \\nTaskmaster burst\\nThe bionic ...  \n",
       "1  Old man there people stare\\nThinking back to G...  \n",
       "2  Made a note of it\\nDid you write it on your ha...  \n",
       "3  Mauritania to Wellsdon Green\\nTruth is faster ...  \n",
       "4  You take a stroll into the morning sun\\nYou ma...  "
      ]
     },
     "execution_count": 7,
     "metadata": {},
     "output_type": "execute_result"
    }
   ],
   "source": [
    "df = pd.DataFrame(data=lyrics)\n",
    "df.drop(['artist_searched'], axis=1, inplace=True)\n",
    "df.head()"
   ]
  },
  {
   "cell_type": "markdown",
   "id": "1cdd4e7d",
   "metadata": {},
   "source": [
    "## Transform: Term Frequency-Inverse Document Frequency (TF-IDF)"
   ]
  },
  {
   "cell_type": "code",
   "execution_count": 8,
   "id": "a63cd6ab",
   "metadata": {},
   "outputs": [],
   "source": [
    "corpus = df['lyrics']\n",
    "vectorizer = TfidfVectorizer()\n",
    "X = vectorizer.fit_transform(corpus)"
   ]
  },
  {
   "cell_type": "code",
   "execution_count": 9,
   "id": "62e4ea03",
   "metadata": {},
   "outputs": [
    {
     "data": {
      "text/plain": [
       "['15',\n",
       " '45s',\n",
       " '4x',\n",
       " '55',\n",
       " '5x',\n",
       " '911',\n",
       " 'aaaah',\n",
       " 'aah',\n",
       " 'abbreviate',\n",
       " 'abide',\n",
       " 'aboard',\n",
       " 'about',\n",
       " 'above',\n",
       " 'acallin',\n",
       " 'accident']"
      ]
     },
     "execution_count": 9,
     "metadata": {},
     "output_type": "execute_result"
    }
   ],
   "source": [
    "vectorizer.get_feature_names()[:15]"
   ]
  },
  {
   "cell_type": "code",
   "execution_count": 10,
   "id": "53d4038c",
   "metadata": {},
   "outputs": [
    {
     "data": {
      "text/plain": [
       "matrix([[0.03760994, 0.        , 0.        , ..., 0.        , 0.03760994,\n",
       "         0.03760994]])"
      ]
     },
     "execution_count": 10,
     "metadata": {},
     "output_type": "execute_result"
    }
   ],
   "source": [
    "X[0].todense()"
   ]
  },
  {
   "cell_type": "code",
   "execution_count": 11,
   "id": "3d7f6057",
   "metadata": {},
   "outputs": [],
   "source": [
    "df_bow = pd.DataFrame(data=X.todense(), columns=vectorizer.get_feature_names())"
   ]
  },
  {
   "cell_type": "code",
   "execution_count": 12,
   "id": "5af6618f",
   "metadata": {},
   "outputs": [
    {
     "data": {
      "text/html": [
       "<div>\n",
       "<style scoped>\n",
       "    .dataframe tbody tr th:only-of-type {\n",
       "        vertical-align: middle;\n",
       "    }\n",
       "\n",
       "    .dataframe tbody tr th {\n",
       "        vertical-align: top;\n",
       "    }\n",
       "\n",
       "    .dataframe thead th {\n",
       "        text-align: right;\n",
       "    }\n",
       "</style>\n",
       "<table border=\"1\" class=\"dataframe\">\n",
       "  <thead>\n",
       "    <tr style=\"text-align: right;\">\n",
       "      <th></th>\n",
       "      <th>15</th>\n",
       "      <th>45s</th>\n",
       "      <th>4x</th>\n",
       "      <th>55</th>\n",
       "      <th>5x</th>\n",
       "      <th>911</th>\n",
       "      <th>aaaah</th>\n",
       "      <th>aah</th>\n",
       "      <th>abbreviate</th>\n",
       "      <th>abide</th>\n",
       "      <th>...</th>\n",
       "      <th>young</th>\n",
       "      <th>your</th>\n",
       "      <th>yours</th>\n",
       "      <th>yourself</th>\n",
       "      <th>yow</th>\n",
       "      <th>zhis</th>\n",
       "      <th>zidane</th>\n",
       "      <th>zinedine</th>\n",
       "      <th>zing</th>\n",
       "      <th>zit</th>\n",
       "    </tr>\n",
       "  </thead>\n",
       "  <tbody>\n",
       "    <tr>\n",
       "      <th>0</th>\n",
       "      <td>0.03761</td>\n",
       "      <td>0.0</td>\n",
       "      <td>0.0</td>\n",
       "      <td>0.0</td>\n",
       "      <td>0.0</td>\n",
       "      <td>0.0</td>\n",
       "      <td>0.0</td>\n",
       "      <td>0.0</td>\n",
       "      <td>0.0</td>\n",
       "      <td>0.0</td>\n",
       "      <td>...</td>\n",
       "      <td>0.030899</td>\n",
       "      <td>0.012459</td>\n",
       "      <td>0.0</td>\n",
       "      <td>0.0</td>\n",
       "      <td>0.03761</td>\n",
       "      <td>0.0</td>\n",
       "      <td>0.000000</td>\n",
       "      <td>0.000000</td>\n",
       "      <td>0.03761</td>\n",
       "      <td>0.03761</td>\n",
       "    </tr>\n",
       "    <tr>\n",
       "      <th>1</th>\n",
       "      <td>0.00000</td>\n",
       "      <td>0.0</td>\n",
       "      <td>0.0</td>\n",
       "      <td>0.0</td>\n",
       "      <td>0.0</td>\n",
       "      <td>0.0</td>\n",
       "      <td>0.0</td>\n",
       "      <td>0.0</td>\n",
       "      <td>0.0</td>\n",
       "      <td>0.0</td>\n",
       "      <td>...</td>\n",
       "      <td>0.000000</td>\n",
       "      <td>0.000000</td>\n",
       "      <td>0.0</td>\n",
       "      <td>0.0</td>\n",
       "      <td>0.00000</td>\n",
       "      <td>0.0</td>\n",
       "      <td>0.000000</td>\n",
       "      <td>0.000000</td>\n",
       "      <td>0.00000</td>\n",
       "      <td>0.00000</td>\n",
       "    </tr>\n",
       "    <tr>\n",
       "      <th>2</th>\n",
       "      <td>0.00000</td>\n",
       "      <td>0.0</td>\n",
       "      <td>0.0</td>\n",
       "      <td>0.0</td>\n",
       "      <td>0.0</td>\n",
       "      <td>0.0</td>\n",
       "      <td>0.0</td>\n",
       "      <td>0.0</td>\n",
       "      <td>0.0</td>\n",
       "      <td>0.0</td>\n",
       "      <td>...</td>\n",
       "      <td>0.000000</td>\n",
       "      <td>0.093074</td>\n",
       "      <td>0.0</td>\n",
       "      <td>0.0</td>\n",
       "      <td>0.00000</td>\n",
       "      <td>0.0</td>\n",
       "      <td>0.000000</td>\n",
       "      <td>0.000000</td>\n",
       "      <td>0.00000</td>\n",
       "      <td>0.00000</td>\n",
       "    </tr>\n",
       "    <tr>\n",
       "      <th>3</th>\n",
       "      <td>0.00000</td>\n",
       "      <td>0.0</td>\n",
       "      <td>0.0</td>\n",
       "      <td>0.0</td>\n",
       "      <td>0.0</td>\n",
       "      <td>0.0</td>\n",
       "      <td>0.0</td>\n",
       "      <td>0.0</td>\n",
       "      <td>0.0</td>\n",
       "      <td>0.0</td>\n",
       "      <td>...</td>\n",
       "      <td>0.000000</td>\n",
       "      <td>0.002460</td>\n",
       "      <td>0.0</td>\n",
       "      <td>0.0</td>\n",
       "      <td>0.00000</td>\n",
       "      <td>0.0</td>\n",
       "      <td>0.014851</td>\n",
       "      <td>0.014851</td>\n",
       "      <td>0.00000</td>\n",
       "      <td>0.00000</td>\n",
       "    </tr>\n",
       "    <tr>\n",
       "      <th>4</th>\n",
       "      <td>0.00000</td>\n",
       "      <td>0.0</td>\n",
       "      <td>0.0</td>\n",
       "      <td>0.0</td>\n",
       "      <td>0.0</td>\n",
       "      <td>0.0</td>\n",
       "      <td>0.0</td>\n",
       "      <td>0.0</td>\n",
       "      <td>0.0</td>\n",
       "      <td>0.0</td>\n",
       "      <td>...</td>\n",
       "      <td>0.000000</td>\n",
       "      <td>0.061782</td>\n",
       "      <td>0.0</td>\n",
       "      <td>0.0</td>\n",
       "      <td>0.00000</td>\n",
       "      <td>0.0</td>\n",
       "      <td>0.000000</td>\n",
       "      <td>0.000000</td>\n",
       "      <td>0.00000</td>\n",
       "      <td>0.00000</td>\n",
       "    </tr>\n",
       "  </tbody>\n",
       "</table>\n",
       "<p>5 rows × 2175 columns</p>\n",
       "</div>"
      ],
      "text/plain": [
       "        15  45s   4x   55   5x  911  aaaah  aah  abbreviate  abide  ...  \\\n",
       "0  0.03761  0.0  0.0  0.0  0.0  0.0    0.0  0.0         0.0    0.0  ...   \n",
       "1  0.00000  0.0  0.0  0.0  0.0  0.0    0.0  0.0         0.0    0.0  ...   \n",
       "2  0.00000  0.0  0.0  0.0  0.0  0.0    0.0  0.0         0.0    0.0  ...   \n",
       "3  0.00000  0.0  0.0  0.0  0.0  0.0    0.0  0.0         0.0    0.0  ...   \n",
       "4  0.00000  0.0  0.0  0.0  0.0  0.0    0.0  0.0         0.0    0.0  ...   \n",
       "\n",
       "      young      your  yours  yourself      yow  zhis    zidane  zinedine  \\\n",
       "0  0.030899  0.012459    0.0       0.0  0.03761   0.0  0.000000  0.000000   \n",
       "1  0.000000  0.000000    0.0       0.0  0.00000   0.0  0.000000  0.000000   \n",
       "2  0.000000  0.093074    0.0       0.0  0.00000   0.0  0.000000  0.000000   \n",
       "3  0.000000  0.002460    0.0       0.0  0.00000   0.0  0.014851  0.014851   \n",
       "4  0.000000  0.061782    0.0       0.0  0.00000   0.0  0.000000  0.000000   \n",
       "\n",
       "      zing      zit  \n",
       "0  0.03761  0.03761  \n",
       "1  0.00000  0.00000  \n",
       "2  0.00000  0.00000  \n",
       "3  0.00000  0.00000  \n",
       "4  0.00000  0.00000  \n",
       "\n",
       "[5 rows x 2175 columns]"
      ]
     },
     "execution_count": 12,
     "metadata": {},
     "output_type": "execute_result"
    }
   ],
   "source": [
    "df_bow.head()"
   ]
  },
  {
   "cell_type": "markdown",
   "id": "5019d18f",
   "metadata": {},
   "source": [
    "## Train/Test split\n",
    "\n",
    "Define X and y:\n",
    "\n",
    "* X : Training data\n",
    "* y : Target values"
   ]
  },
  {
   "cell_type": "code",
   "execution_count": 37,
   "id": "d6fc96d0",
   "metadata": {},
   "outputs": [],
   "source": [
    "X = X\n",
    "y = df['artist_found']"
   ]
  },
  {
   "cell_type": "code",
   "execution_count": 38,
   "id": "fd9fd423",
   "metadata": {},
   "outputs": [
    {
     "data": {
      "text/plain": [
       "((124, 2175), (93, 2175), (31, 2175))"
      ]
     },
     "execution_count": 38,
     "metadata": {},
     "output_type": "execute_result"
    }
   ],
   "source": [
    "X_train, X_test, y_train, y_test = train_test_split(X, y, test_size=0.25, random_state=42)\n",
    "X.shape, X_train.shape, X_test.shape"
   ]
  },
  {
   "cell_type": "code",
   "execution_count": null,
   "id": "49e42711",
   "metadata": {},
   "outputs": [],
   "source": []
  }
 ],
 "metadata": {
  "kernelspec": {
   "display_name": "Python 3",
   "language": "python",
   "name": "python3"
  },
  "language_info": {
   "codemirror_mode": {
    "name": "ipython",
    "version": 3
   },
   "file_extension": ".py",
   "mimetype": "text/x-python",
   "name": "python",
   "nbconvert_exporter": "python",
   "pygments_lexer": "ipython3",
   "version": "3.8.8"
  }
 },
 "nbformat": 4,
 "nbformat_minor": 5
}
