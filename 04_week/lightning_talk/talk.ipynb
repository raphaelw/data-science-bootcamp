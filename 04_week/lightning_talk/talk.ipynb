{
 "cells": [
  {
   "cell_type": "markdown",
   "id": "436e1e9a",
   "metadata": {
    "slideshow": {
     "slide_type": "slide"
    },
    "tags": []
   },
   "source": [
    "# Brief intro to scrapy"
   ]
  },
  {
   "cell_type": "raw",
   "id": "535472c7",
   "metadata": {
    "slideshow": {
     "slide_type": "skip"
    },
    "tags": []
   },
   "source": [
    "jupyter nbconvert talk.ipynb --to slides --post serve"
   ]
  },
  {
   "cell_type": "markdown",
   "id": "0eaf3ef1",
   "metadata": {
    "slideshow": {
     "slide_type": "slide"
    },
    "tags": []
   },
   "source": [
    "## Workflow\n",
    "\n",
    "1. Install scrapy (using conda, pip)\n",
    "2. Implement a **spider** and save as .py file\n",
    "3. Run your spider in command line\n",
    "    ````\n",
    "    scrapy runspider -O <output> <spider-script>\n",
    "    ````"
   ]
  },
  {
   "cell_type": "markdown",
   "id": "27b99388",
   "metadata": {
    "slideshow": {
     "slide_type": "slide"
    },
    "tags": []
   },
   "source": [
    "## Spider can return ...\n",
    "\n",
    "* **request** $\\rightarrow$ downloaded by scrapy\n",
    "* **item** $\\rightarrow$ saved by scrapy"
   ]
  },
  {
   "cell_type": "markdown",
   "id": "92b7e635",
   "metadata": {
    "slideshow": {
     "slide_type": "slide"
    },
    "tags": []
   },
   "source": [
    "## Architecture\n",
    "\n",
    "![](scrapy_architecture_02.png \"Architecture\")\n"
   ]
  }
 ],
 "metadata": {
  "kernelspec": {
   "display_name": "Python 3",
   "language": "python",
   "name": "python3"
  },
  "language_info": {
   "codemirror_mode": {
    "name": "ipython",
    "version": 3
   },
   "file_extension": ".py",
   "mimetype": "text/x-python",
   "name": "python",
   "nbconvert_exporter": "python",
   "pygments_lexer": "ipython3",
   "version": "3.8.8"
  }
 },
 "nbformat": 4,
 "nbformat_minor": 5
}
